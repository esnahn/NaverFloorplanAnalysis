{
 "cells": [
  {
   "cell_type": "code",
   "execution_count": 1,
   "metadata": {},
   "outputs": [],
   "source": [
    "%matplotlib inline\n",
    "\n",
    "import cv2, matplotlib\n",
    "import numpy as np\n",
    "from skimage.morphology import (\n",
    "    skeletonize,\n",
    "    skeletonize_3d,\n",
    "    medial_axis,\n",
    "    thin,\n",
    "    local_minima,\n",
    "    local_maxima,\n",
    ")\n",
    "from skimage.transform import rescale, resize, downscale_local_mean\n",
    "from scipy.ndimage import distance_transform_edt\n",
    "\n",
    "from math import sqrt\n",
    "\n",
    "import matplotlib.pyplot as plt\n",
    "\n",
    "from os.path import expanduser, splitext\n",
    "from os import scandir, makedirs\n",
    "\n",
    "# import random\n",
    "\n",
    "import csv\n",
    "\n",
    "from tqdm import tnrange, tqdm_notebook\n",
    "\n",
    "from pathlib import Path\n",
    "\n",
    "debug = False  # plot every steps"
   ]
  },
  {
   "cell_type": "code",
   "execution_count": null,
   "metadata": {},
   "outputs": [],
   "source": [
    "from floorplan_analysis import read_bgr_from_image_unicode, get_unit_mask\n",
    "from floorplan_analysis import align_fp, rescale_fp\n",
    "from floorplan_analysis import mono_fp\n",
    "from floorplan_analysis import read_mono_from_image_unicode, save_mono_to_image_unicode\n",
    "from floorplan_analysis import fp_float_from_mono, fp_uint8_from_mono"
   ]
  },
  {
   "cell_type": "markdown",
   "metadata": {},
   "source": [
    "# postprocess files"
   ]
  },
  {
   "cell_type": "code",
   "execution_count": 11,
   "metadata": {},
   "outputs": [],
   "source": [
    "def process_floorplan_mono(\n",
    "    path_from, area, filename_to, dir_to=\"/data/fp_img_processed/\", ext_to=\".png\"\n",
    "):\n",
    "    try:\n",
    "        bgr = read_bgr_from_image_unicode(path_from)\n",
    "        unit_comb = get_unit_mask(bgr)\n",
    "        unit_comb = rescale_fp(unit_comb, area)\n",
    "        unit_comb = align_fp(unit_comb)\n",
    "\n",
    "        mono = mono_fp(unit_comb)\n",
    "        save_mono_to_image_unicode(mono, dir_to + filename_to + ext_to, ext_to)\n",
    "    except:\n",
    "        pass"
   ]
  },
  {
   "cell_type": "code",
   "execution_count": 14,
   "metadata": {},
   "outputs": [],
   "source": [
    "def realign_on_mono(\n",
    "    path_from, area, filename_to, dir_to=\"/data/fp_img_processed/\", ext_to=\".png\"\n",
    "):\n",
    "    try:\n",
    "        mono = read_mono_from_image_unicode(path_from)\n",
    "        unit_comb = fp_uint8_from_mono(mono)\n",
    "        \n",
    "        unit_comb = align_fp(unit_comb)\n",
    "        \n",
    "        mono = mono_fp(unit_comb)\n",
    "        save_mono_to_image_unicode(mono, dir_to + filename_to + ext_to, ext_to)\n",
    "    except:\n",
    "        pass"
   ]
  },
  {
   "cell_type": "code",
   "execution_count": 15,
   "metadata": {
    "scrolled": true
   },
   "outputs": [],
   "source": [
    "realign_on_mono(\"/data/fp_img_processed/8516_87.png\", 85, \"mono\", dir_to=\"\")"
   ]
  },
  {
   "cell_type": "code",
   "execution_count": 16,
   "metadata": {
    "scrolled": false
   },
   "outputs": [
    {
     "data": {
      "text/plain": [
       "<matplotlib.image.AxesImage at 0x7fbeffd5eb00>"
      ]
     },
     "execution_count": 16,
     "metadata": {},
     "output_type": "execute_result"
    },
    {
     "data": {
      "image/png": "[encoded data removed]",
      "text/plain": [
       "<Figure size 432x288 with 1 Axes>"
      ]
     },
     "metadata": {
      "needs_background": "light"
     },
     "output_type": "display_data"
    }
   ],
   "source": [
    "plt.imshow(read_mono_from_image_unicode(\"mono.png\"))"
   ]
  },
  {
   "cell_type": "code",
   "execution_count": 17,
   "metadata": {},
   "outputs": [
    {
     "data": {
      "text/plain": [
       "<matplotlib.image.AxesImage at 0x7fbeff8b5860>"
      ]
     },
     "execution_count": 17,
     "metadata": {},
     "output_type": "execute_result"
    },
    {
     "data": {
      "image/png": "[encoded data removed]",
      "text/plain": [
       "<Figure size 432x288 with 1 Axes>"
      ]
     },
     "metadata": {
      "needs_background": "light"
     },
     "output_type": "display_data"
    }
   ],
   "source": [
    "mono = read_mono_from_image_unicode(\"/data/fp_img_processed/8516_87.png\")\n",
    "plt.imshow(mono)"
   ]
  },
  {
   "cell_type": "code",
   "execution_count": 18,
   "metadata": {},
   "outputs": [
    {
     "data": {
      "text/plain": [
       "<matplotlib.image.AxesImage at 0x7fbeff819320>"
      ]
     },
     "execution_count": 18,
     "metadata": {},
     "output_type": "execute_result"
    },
    {
     "data": {
      "image/png": "[encoded data removed]",
      "text/plain": [
       "<Figure size 432x288 with 1 Axes>"
      ]
     },
     "metadata": {
      "needs_background": "light"
     },
     "output_type": "display_data"
    }
   ],
   "source": [
    "unit_comb = fp_uint8_from_mono(mono)\n",
    "plt.imshow(unit_comb[:, :, [1, 2, 4]])"
   ]
  },
  {
   "cell_type": "code",
   "execution_count": 19,
   "metadata": {},
   "outputs": [
    {
     "data": {
      "text/plain": [
       "<matplotlib.image.AxesImage at 0x7fbeff7f4748>"
      ]
     },
     "execution_count": 19,
     "metadata": {},
     "output_type": "execute_result"
    },
    {
     "data": {
      "image/png": "[encoded data removed]",
      "text/plain": [
       "<Figure size 432x288 with 1 Axes>"
      ]
     },
     "metadata": {
      "needs_background": "light"
     },
     "output_type": "display_data"
    }
   ],
   "source": [
    "unit_comb = align_fp(unit_comb)\n",
    "plt.imshow(unit_comb[:, :, [1, 2, 4]])"
   ]
  },
  {
   "cell_type": "code",
   "execution_count": 20,
   "metadata": {},
   "outputs": [
    {
     "data": {
      "text/plain": [
       "<matplotlib.image.AxesImage at 0x7fbeff74b978>"
      ]
     },
     "execution_count": 20,
     "metadata": {},
     "output_type": "execute_result"
    },
    {
     "data": {
      "image/png": "[encoded data removed]",
      "text/plain": [
       "<Figure size 432x288 with 1 Axes>"
      ]
     },
     "metadata": {
      "needs_background": "light"
     },
     "output_type": "display_data"
    }
   ],
   "source": [
    "mono = mono_fp(unit_comb)\n",
    "plt.imshow(mono)"
   ]
  },
  {
   "cell_type": "code",
   "execution_count": 21,
   "metadata": {
    "scrolled": true
   },
   "outputs": [
    {
     "data": {
      "text/plain": [
       "<matplotlib.image.AxesImage at 0x7fbeff722d68>"
      ]
     },
     "execution_count": 21,
     "metadata": {},
     "output_type": "execute_result"
    },
    {
     "data": {
      "image/png": "[encoded data removed]",
      "text/plain": [
       "<Figure size 432x288 with 1 Axes>"
      ]
     },
     "metadata": {
      "needs_background": "light"
     },
     "output_type": "display_data"
    }
   ],
   "source": [
    "bgr = read_bgr_from_image_unicode(\"/fp_img/8516_87.jpg\")\n",
    "plt.imshow(bgr)"
   ]
  },
  {
   "cell_type": "code",
   "execution_count": 22,
   "metadata": {
    "scrolled": false
   },
   "outputs": [],
   "source": [
    "unit_comb = get_unit_mask(bgr)"
   ]
  },
  {
   "cell_type": "code",
   "execution_count": 23,
   "metadata": {},
   "outputs": [],
   "source": [
    "unit_comb = rescale_fp(unit_comb, 85)"
   ]
  },
  {
   "cell_type": "code",
   "execution_count": 24,
   "metadata": {},
   "outputs": [],
   "source": [
    "unit_comb = align_fp(unit_comb)"
   ]
  },
  {
   "cell_type": "code",
   "execution_count": 25,
   "metadata": {},
   "outputs": [
    {
     "data": {
      "text/plain": [
       "<matplotlib.image.AxesImage at 0x7fbeff6e6320>"
      ]
     },
     "execution_count": 25,
     "metadata": {},
     "output_type": "execute_result"
    },
    {
     "data": {
      "image/png": "[encoded data removed]",
      "text/plain": [
       "<Figure size 432x288 with 1 Axes>"
      ]
     },
     "metadata": {
      "needs_background": "light"
     },
     "output_type": "display_data"
    }
   ],
   "source": [
    "plt.imshow(unit_comb[:, :, [1, 2, 4]])"
   ]
  },
  {
   "cell_type": "code",
   "execution_count": 26,
   "metadata": {
    "scrolled": true
   },
   "outputs": [],
   "source": [
    "mono = mono_fp(unit_comb)"
   ]
  },
  {
   "cell_type": "markdown",
   "metadata": {},
   "source": [
    "# main"
   ]
  },
  {
   "cell_type": "code",
   "execution_count": 39,
   "metadata": {},
   "outputs": [
    {
     "name": "stdout",
     "output_type": "stream",
     "text": [
      "50412 floorplans\n"
     ]
    }
   ],
   "source": [
    "dir_ID_from = \"/data/fp_img_processed/\"\n",
    "dir_IDs_exclude = \"/data/exclude/\"\n",
    "\n",
    "dir_from = \"/data/fp_img_processed/\"\n",
    "\n",
    "dir_to = \"/data/fp_img_processed/\"\n",
    "makedirs(dir_to, exist_ok=True)\n",
    "\n",
    "ext_to = \".png\"\n",
    "\n",
    "### all of the plans\n",
    "ID_ext_dict = {\n",
    "    splitext(f.name)[0]: splitext(f.name)[1]\n",
    "    for f in scandir(dir_ID_from)\n",
    "    if f.is_file()\n",
    "}\n",
    "print(len(ID_ext_dict.keys()), \"floorplans\")"
   ]
  },
  {
   "cell_type": "code",
   "execution_count": 40,
   "metadata": {
    "scrolled": true
   },
   "outputs": [
    {
     "data": {
      "text/plain": [
       "[('3803_145', '.png'),\n",
       " ('112076_61B1d', '.png'),\n",
       " ('1200_85A', '.png'),\n",
       " ('2604_104(동신)', '.png'),\n",
       " ('3039_154B', '.png'),\n",
       " ('100273_82', '.png'),\n",
       " ('9155_149', '.png'),\n",
       " ('19690_192', '.png'),\n",
       " ('1912_71', '.png'),\n",
       " ('105094_150', '.png')]"
      ]
     },
     "execution_count": 40,
     "metadata": {},
     "output_type": "execute_result"
    }
   ],
   "source": [
    "list(ID_ext_dict.items())[:10]"
   ]
  },
  {
   "cell_type": "code",
   "execution_count": 41,
   "metadata": {},
   "outputs": [
    {
     "name": "stdout",
     "output_type": "stream",
     "text": [
      "[PosixPath('/data/exclude/fp_img_multi-level.csv'), PosixPath('/data/exclude/fp_img_multi-unit.csv'), PosixPath('/data/exclude/fp_img_exclude.csv')]\n"
     ]
    }
   ],
   "source": [
    "files_IDs_exclude = list(Path(expanduser(dir_IDs_exclude)).glob(\"*.csv\"))\n",
    "print(files_IDs_exclude)"
   ]
  },
  {
   "cell_type": "code",
   "execution_count": 42,
   "metadata": {},
   "outputs": [
    {
     "name": "stdout",
     "output_type": "stream",
     "text": [
      "/data/exclude/fp_img_multi-level.csv processed: 861 floorplans to exclude\n",
      "/data/exclude/fp_img_multi-unit.csv processed: 15 floorplans to exclude\n",
      "/data/exclude/fp_img_exclude.csv processed: 861 floorplans to exclude\n"
     ]
    }
   ],
   "source": [
    "IDs_excl = set()\n",
    "for file_excl in files_IDs_exclude:\n",
    "    _, file_excl_list = read_from_csv(str(file_excl))\n",
    "    if file_excl_list:\n",
    "        list_excl = [row[0] for row in file_excl_list]\n",
    "    IDs_excl |= set(list_excl)\n",
    "    print(file_excl, \"processed:\", len(list_excl), \"floorplans to exclude\")\n",
    "\n",
    "# _, fp_img_processed_list = read_from_csv(exp_path_fp_img)\n",
    "# if fp_img_processed_list:\n",
    "#     list_excl = [row[0] for row in fp_img_processed_list]\n",
    "#     IDs_excl |= set(list_excl)\n",
    "#     print(len(list_excl), \"floorplans already processed\")"
   ]
  },
  {
   "cell_type": "code",
   "execution_count": 43,
   "metadata": {},
   "outputs": [
    {
     "data": {
      "text/html": [
       "<div>\n",
       "<style scoped>\n",
       "    .dataframe tbody tr th:only-of-type {\n",
       "        vertical-align: middle;\n",
       "    }\n",
       "\n",
       "    .dataframe tbody tr th {\n",
       "        vertical-align: top;\n",
       "    }\n",
       "\n",
       "    .dataframe thead th {\n",
       "        text-align: right;\n",
       "    }\n",
       "</style>\n",
       "<table border=\"1\" class=\"dataframe\">\n",
       "  <thead>\n",
       "    <tr style=\"text-align: right;\">\n",
       "      <th></th>\n",
       "      <th>Path</th>\n",
       "      <th>index</th>\n",
       "      <th>APT_ID</th>\n",
       "      <th>Date</th>\n",
       "      <th>year</th>\n",
       "      <th>norm_year</th>\n",
       "      <th>yyyymm</th>\n",
       "      <th>N_Housings</th>\n",
       "      <th>Max_Floors</th>\n",
       "      <th>Min_Floors</th>\n",
       "      <th>...</th>\n",
       "      <th>sido_cluster_code</th>\n",
       "      <th>sido_sgg_name</th>\n",
       "      <th>FP_ID</th>\n",
       "      <th>Area</th>\n",
       "      <th>norm_log_area</th>\n",
       "      <th>area_85</th>\n",
       "      <th>Entrance</th>\n",
       "      <th>Rooms</th>\n",
       "      <th>Baths</th>\n",
       "      <th>N_Units</th>\n",
       "    </tr>\n",
       "    <tr>\n",
       "      <th>id_after</th>\n",
       "      <th></th>\n",
       "      <th></th>\n",
       "      <th></th>\n",
       "      <th></th>\n",
       "      <th></th>\n",
       "      <th></th>\n",
       "      <th></th>\n",
       "      <th></th>\n",
       "      <th></th>\n",
       "      <th></th>\n",
       "      <th></th>\n",
       "      <th></th>\n",
       "      <th></th>\n",
       "      <th></th>\n",
       "      <th></th>\n",
       "      <th></th>\n",
       "      <th></th>\n",
       "      <th></th>\n",
       "      <th></th>\n",
       "      <th></th>\n",
       "      <th></th>\n",
       "    </tr>\n",
       "  </thead>\n",
       "  <tbody>\n",
       "    <tr>\n",
       "      <th>8928_160</th>\n",
       "      <td>/data/fp_img_processed/8928_160.png</td>\n",
       "      <td>1</td>\n",
       "      <td>8928</td>\n",
       "      <td>2004-06-01T00:00:00Z</td>\n",
       "      <td>2004</td>\n",
       "      <td>0.70</td>\n",
       "      <td>200406</td>\n",
       "      <td>212</td>\n",
       "      <td>22</td>\n",
       "      <td>20</td>\n",
       "      <td>...</td>\n",
       "      <td>0</td>\n",
       "      <td>서울시 강남구</td>\n",
       "      <td>160</td>\n",
       "      <td>134.30</td>\n",
       "      <td>1.313282</td>\n",
       "      <td>False</td>\n",
       "      <td>계단식</td>\n",
       "      <td>4</td>\n",
       "      <td>2</td>\n",
       "      <td>84</td>\n",
       "    </tr>\n",
       "    <tr>\n",
       "      <th>8928_183</th>\n",
       "      <td>/data/fp_img_processed/8928_183.png</td>\n",
       "      <td>2</td>\n",
       "      <td>8928</td>\n",
       "      <td>2004-06-01T00:00:00Z</td>\n",
       "      <td>2004</td>\n",
       "      <td>0.70</td>\n",
       "      <td>200406</td>\n",
       "      <td>212</td>\n",
       "      <td>22</td>\n",
       "      <td>20</td>\n",
       "      <td>...</td>\n",
       "      <td>0</td>\n",
       "      <td>서울시 강남구</td>\n",
       "      <td>183</td>\n",
       "      <td>153.80</td>\n",
       "      <td>1.702528</td>\n",
       "      <td>False</td>\n",
       "      <td>계단식</td>\n",
       "      <td>4</td>\n",
       "      <td>2</td>\n",
       "      <td>44</td>\n",
       "    </tr>\n",
       "    <tr>\n",
       "      <th>8928_201A</th>\n",
       "      <td>/data/fp_img_processed/8928_201A.png</td>\n",
       "      <td>3</td>\n",
       "      <td>8928</td>\n",
       "      <td>2004-06-01T00:00:00Z</td>\n",
       "      <td>2004</td>\n",
       "      <td>0.70</td>\n",
       "      <td>200406</td>\n",
       "      <td>212</td>\n",
       "      <td>22</td>\n",
       "      <td>20</td>\n",
       "      <td>...</td>\n",
       "      <td>0</td>\n",
       "      <td>서울시 강남구</td>\n",
       "      <td>201A</td>\n",
       "      <td>170.32</td>\n",
       "      <td>1.995448</td>\n",
       "      <td>False</td>\n",
       "      <td>계단식</td>\n",
       "      <td>4</td>\n",
       "      <td>2</td>\n",
       "      <td>42</td>\n",
       "    </tr>\n",
       "    <tr>\n",
       "      <th>8928_204B</th>\n",
       "      <td>/data/fp_img_processed/8928_204B.png</td>\n",
       "      <td>4</td>\n",
       "      <td>8928</td>\n",
       "      <td>2004-06-01T00:00:00Z</td>\n",
       "      <td>2004</td>\n",
       "      <td>0.70</td>\n",
       "      <td>200406</td>\n",
       "      <td>212</td>\n",
       "      <td>22</td>\n",
       "      <td>20</td>\n",
       "      <td>...</td>\n",
       "      <td>0</td>\n",
       "      <td>서울시 강남구</td>\n",
       "      <td>204B</td>\n",
       "      <td>168.42</td>\n",
       "      <td>1.963240</td>\n",
       "      <td>False</td>\n",
       "      <td>계단식</td>\n",
       "      <td>4</td>\n",
       "      <td>2</td>\n",
       "      <td>42</td>\n",
       "    </tr>\n",
       "    <tr>\n",
       "      <th>960_35</th>\n",
       "      <td>/data/fp_img_processed/960_35.png</td>\n",
       "      <td>5</td>\n",
       "      <td>960</td>\n",
       "      <td>1982-11-01T00:00:00Z</td>\n",
       "      <td>1982</td>\n",
       "      <td>0.26</td>\n",
       "      <td>198211</td>\n",
       "      <td>5040</td>\n",
       "      <td>5</td>\n",
       "      <td>5</td>\n",
       "      <td>...</td>\n",
       "      <td>0</td>\n",
       "      <td>서울시 강남구</td>\n",
       "      <td>35</td>\n",
       "      <td>35.64</td>\n",
       "      <td>-2.495452</td>\n",
       "      <td>False</td>\n",
       "      <td>계단식</td>\n",
       "      <td>2</td>\n",
       "      <td>1</td>\n",
       "      <td>530</td>\n",
       "    </tr>\n",
       "    <tr>\n",
       "      <th>...</th>\n",
       "      <td>...</td>\n",
       "      <td>...</td>\n",
       "      <td>...</td>\n",
       "      <td>...</td>\n",
       "      <td>...</td>\n",
       "      <td>...</td>\n",
       "      <td>...</td>\n",
       "      <td>...</td>\n",
       "      <td>...</td>\n",
       "      <td>...</td>\n",
       "      <td>...</td>\n",
       "      <td>...</td>\n",
       "      <td>...</td>\n",
       "      <td>...</td>\n",
       "      <td>...</td>\n",
       "      <td>...</td>\n",
       "      <td>...</td>\n",
       "      <td>...</td>\n",
       "      <td>...</td>\n",
       "      <td>...</td>\n",
       "      <td>...</td>\n",
       "    </tr>\n",
       "    <tr>\n",
       "      <th>115454_21D</th>\n",
       "      <td>/data/fp_img_processed/115454_21D.png</td>\n",
       "      <td>50577</td>\n",
       "      <td>115454</td>\n",
       "      <td>2017-03-01T00:00:00Z</td>\n",
       "      <td>2017</td>\n",
       "      <td>0.96</td>\n",
       "      <td>201703</td>\n",
       "      <td>72</td>\n",
       "      <td>4</td>\n",
       "      <td>4</td>\n",
       "      <td>...</td>\n",
       "      <td>8</td>\n",
       "      <td>제주도 제주시</td>\n",
       "      <td>21D</td>\n",
       "      <td>14.50</td>\n",
       "      <td>-5.077429</td>\n",
       "      <td>False</td>\n",
       "      <td>계단식</td>\n",
       "      <td>2</td>\n",
       "      <td>1</td>\n",
       "      <td>20</td>\n",
       "    </tr>\n",
       "    <tr>\n",
       "      <th>115454_34E</th>\n",
       "      <td>/data/fp_img_processed/115454_34E.png</td>\n",
       "      <td>50578</td>\n",
       "      <td>115454</td>\n",
       "      <td>2017-03-01T00:00:00Z</td>\n",
       "      <td>2017</td>\n",
       "      <td>0.96</td>\n",
       "      <td>201703</td>\n",
       "      <td>72</td>\n",
       "      <td>4</td>\n",
       "      <td>4</td>\n",
       "      <td>...</td>\n",
       "      <td>8</td>\n",
       "      <td>제주도 제주시</td>\n",
       "      <td>34E</td>\n",
       "      <td>21.57</td>\n",
       "      <td>-3.937185</td>\n",
       "      <td>False</td>\n",
       "      <td>계단식</td>\n",
       "      <td>2</td>\n",
       "      <td>1</td>\n",
       "      <td>4</td>\n",
       "    </tr>\n",
       "    <tr>\n",
       "      <th>115454_36B</th>\n",
       "      <td>/data/fp_img_processed/115454_36B.png</td>\n",
       "      <td>50579</td>\n",
       "      <td>115454</td>\n",
       "      <td>2017-03-01T00:00:00Z</td>\n",
       "      <td>2017</td>\n",
       "      <td>0.96</td>\n",
       "      <td>201703</td>\n",
       "      <td>72</td>\n",
       "      <td>4</td>\n",
       "      <td>4</td>\n",
       "      <td>...</td>\n",
       "      <td>8</td>\n",
       "      <td>제주도 제주시</td>\n",
       "      <td>36B</td>\n",
       "      <td>24.86</td>\n",
       "      <td>-3.529623</td>\n",
       "      <td>False</td>\n",
       "      <td>계단식</td>\n",
       "      <td>3</td>\n",
       "      <td>2</td>\n",
       "      <td>16</td>\n",
       "    </tr>\n",
       "    <tr>\n",
       "      <th>115454_37A</th>\n",
       "      <td>/data/fp_img_processed/115454_37A.png</td>\n",
       "      <td>50580</td>\n",
       "      <td>115454</td>\n",
       "      <td>2017-03-01T00:00:00Z</td>\n",
       "      <td>2017</td>\n",
       "      <td>0.96</td>\n",
       "      <td>201703</td>\n",
       "      <td>72</td>\n",
       "      <td>4</td>\n",
       "      <td>4</td>\n",
       "      <td>...</td>\n",
       "      <td>8</td>\n",
       "      <td>제주도 제주시</td>\n",
       "      <td>37A</td>\n",
       "      <td>25.67</td>\n",
       "      <td>-3.437569</td>\n",
       "      <td>False</td>\n",
       "      <td>계단식</td>\n",
       "      <td>3</td>\n",
       "      <td>2</td>\n",
       "      <td>24</td>\n",
       "    </tr>\n",
       "    <tr>\n",
       "      <th>115454_38C</th>\n",
       "      <td>/data/fp_img_processed/115454_38C.png</td>\n",
       "      <td>50581</td>\n",
       "      <td>115454</td>\n",
       "      <td>2017-03-01T00:00:00Z</td>\n",
       "      <td>2017</td>\n",
       "      <td>0.96</td>\n",
       "      <td>201703</td>\n",
       "      <td>72</td>\n",
       "      <td>4</td>\n",
       "      <td>4</td>\n",
       "      <td>...</td>\n",
       "      <td>8</td>\n",
       "      <td>제주도 제주시</td>\n",
       "      <td>38C</td>\n",
       "      <td>25.21</td>\n",
       "      <td>-3.489484</td>\n",
       "      <td>False</td>\n",
       "      <td>계단식</td>\n",
       "      <td>3</td>\n",
       "      <td>2</td>\n",
       "      <td>8</td>\n",
       "    </tr>\n",
       "  </tbody>\n",
       "</table>\n",
       "<p>50540 rows × 28 columns</p>\n",
       "</div>"
      ],
      "text/plain": [
       "                                             Path  index  APT_ID  \\\n",
       "id_after                                                           \n",
       "8928_160      /data/fp_img_processed/8928_160.png      1    8928   \n",
       "8928_183      /data/fp_img_processed/8928_183.png      2    8928   \n",
       "8928_201A    /data/fp_img_processed/8928_201A.png      3    8928   \n",
       "8928_204B    /data/fp_img_processed/8928_204B.png      4    8928   \n",
       "960_35          /data/fp_img_processed/960_35.png      5     960   \n",
       "...                                           ...    ...     ...   \n",
       "115454_21D  /data/fp_img_processed/115454_21D.png  50577  115454   \n",
       "115454_34E  /data/fp_img_processed/115454_34E.png  50578  115454   \n",
       "115454_36B  /data/fp_img_processed/115454_36B.png  50579  115454   \n",
       "115454_37A  /data/fp_img_processed/115454_37A.png  50580  115454   \n",
       "115454_38C  /data/fp_img_processed/115454_38C.png  50581  115454   \n",
       "\n",
       "                            Date  year  norm_year  yyyymm  N_Housings  \\\n",
       "id_after                                                                \n",
       "8928_160    2004-06-01T00:00:00Z  2004       0.70  200406         212   \n",
       "8928_183    2004-06-01T00:00:00Z  2004       0.70  200406         212   \n",
       "8928_201A   2004-06-01T00:00:00Z  2004       0.70  200406         212   \n",
       "8928_204B   2004-06-01T00:00:00Z  2004       0.70  200406         212   \n",
       "960_35      1982-11-01T00:00:00Z  1982       0.26  198211        5040   \n",
       "...                          ...   ...        ...     ...         ...   \n",
       "115454_21D  2017-03-01T00:00:00Z  2017       0.96  201703          72   \n",
       "115454_34E  2017-03-01T00:00:00Z  2017       0.96  201703          72   \n",
       "115454_36B  2017-03-01T00:00:00Z  2017       0.96  201703          72   \n",
       "115454_37A  2017-03-01T00:00:00Z  2017       0.96  201703          72   \n",
       "115454_38C  2017-03-01T00:00:00Z  2017       0.96  201703          72   \n",
       "\n",
       "            Max_Floors  Min_Floors  ... sido_cluster_code  sido_sgg_name  \\\n",
       "id_after                            ...                                    \n",
       "8928_160            22          20  ...                 0        서울시 강남구   \n",
       "8928_183            22          20  ...                 0        서울시 강남구   \n",
       "8928_201A           22          20  ...                 0        서울시 강남구   \n",
       "8928_204B           22          20  ...                 0        서울시 강남구   \n",
       "960_35               5           5  ...                 0        서울시 강남구   \n",
       "...                ...         ...  ...               ...            ...   \n",
       "115454_21D           4           4  ...                 8        제주도 제주시   \n",
       "115454_34E           4           4  ...                 8        제주도 제주시   \n",
       "115454_36B           4           4  ...                 8        제주도 제주시   \n",
       "115454_37A           4           4  ...                 8        제주도 제주시   \n",
       "115454_38C           4           4  ...                 8        제주도 제주시   \n",
       "\n",
       "           FP_ID    Area norm_log_area  area_85 Entrance Rooms  Baths N_Units  \n",
       "id_after                                                                       \n",
       "8928_160     160  134.30      1.313282    False      계단식     4      2      84  \n",
       "8928_183     183  153.80      1.702528    False      계단식     4      2      44  \n",
       "8928_201A   201A  170.32      1.995448    False      계단식     4      2      42  \n",
       "8928_204B   204B  168.42      1.963240    False      계단식     4      2      42  \n",
       "960_35        35   35.64     -2.495452    False      계단식     2      1     530  \n",
       "...          ...     ...           ...      ...      ...   ...    ...     ...  \n",
       "115454_21D   21D   14.50     -5.077429    False      계단식     2      1      20  \n",
       "115454_34E   34E   21.57     -3.937185    False      계단식     2      1       4  \n",
       "115454_36B   36B   24.86     -3.529623    False      계단식     3      2      16  \n",
       "115454_37A   37A   25.67     -3.437569    False      계단식     3      2      24  \n",
       "115454_38C   38C   25.21     -3.489484    False      계단식     3      2       8  \n",
       "\n",
       "[50540 rows x 28 columns]"
      ]
     },
     "execution_count": 43,
     "metadata": {},
     "output_type": "execute_result"
    }
   ],
   "source": [
    "import pandas as pd\n",
    "\n",
    "path_csv = \"/data/fp_refined.csv\"\n",
    "\n",
    "df = pd.read_csv(path_csv)\n",
    "df = df.set_index(\"id_after\")\n",
    "df"
   ]
  },
  {
   "cell_type": "code",
   "execution_count": 44,
   "metadata": {},
   "outputs": [
    {
     "name": "stdout",
     "output_type": "stream",
     "text": [
      "50412 floorplans to go\n"
     ]
    }
   ],
   "source": [
    "ID_set = set(ID_ext_dict.keys()).difference(IDs_excl)\n",
    "ID_set = ID_set.intersection(df.index)\n",
    "IDs = list(ID_set)\n",
    "print(len(IDs), \"floorplans to go\")"
   ]
  },
  {
   "cell_type": "code",
   "execution_count": 45,
   "metadata": {},
   "outputs": [
    {
     "name": "stdout",
     "output_type": "stream",
     "text": [
      "['/data/fp_img_processed/25561_104.png', '/data/fp_img_processed/108245_111D.png', '/data/fp_img_processed/1382_80.png', '/data/fp_img_processed/23768_194B.png', '/data/fp_img_processed/107683_127F3.png', '/data/fp_img_processed/104507_20E.png', '/data/fp_img_processed/11977_81B.png', '/data/fp_img_processed/27501_112E.png', '/data/fp_img_processed/15522_54S.png', '/data/fp_img_processed/22971_213.png']\n"
     ]
    }
   ],
   "source": [
    "paths_from = [dir_from + ID + ID_ext_dict[ID] for ID in IDs]\n",
    "print(paths_from[:10])"
   ]
  },
  {
   "cell_type": "code",
   "execution_count": 46,
   "metadata": {},
   "outputs": [
    {
     "data": {
      "text/plain": [
       "id_after\n",
       "8928_160      134.30\n",
       "8928_183      153.80\n",
       "8928_201A     170.32\n",
       "8928_204B     168.42\n",
       "960_35         35.64\n",
       "               ...  \n",
       "115454_21D     14.50\n",
       "115454_34E     21.57\n",
       "115454_36B     24.86\n",
       "115454_37A     25.67\n",
       "115454_38C     25.21\n",
       "Name: Area, Length: 50540, dtype: float64"
      ]
     },
     "execution_count": 46,
     "metadata": {},
     "output_type": "execute_result"
    }
   ],
   "source": [
    "df.Area"
   ]
  },
  {
   "cell_type": "code",
   "execution_count": 47,
   "metadata": {},
   "outputs": [
    {
     "data": {
      "text/plain": [
       "[84.82, 84.74, 59.98, 159.19, 97.16, 12.03, 59.69, 84.42, 39.38, 177.77]"
      ]
     },
     "execution_count": 47,
     "metadata": {},
     "output_type": "execute_result"
    }
   ],
   "source": [
    "area_list = [df.Area[ID] for ID in IDs]\n",
    "area_list[:10]"
   ]
  },
  {
   "cell_type": "markdown",
   "metadata": {},
   "source": [
    "# re-do the align"
   ]
  },
  {
   "cell_type": "code",
   "execution_count": 48,
   "metadata": {},
   "outputs": [],
   "source": [
    "from multiprocessing import Pool\n",
    "\n",
    "makedirs(dir_to, exist_ok=True)\n",
    "\n",
    "with Pool(7) as p:\n",
    "    p.starmap(realign_on_mono, zip(paths_from, area_list, IDs))"
   ]
  },
  {
   "cell_type": "markdown",
   "metadata": {},
   "source": [
    "    ls /data/fp_img_processed/ | wc -l"
   ]
  },
  {
   "cell_type": "code",
   "execution_count": 49,
   "metadata": {},
   "outputs": [
    {
     "name": "stdout",
     "output_type": "stream",
     "text": [
      "-rw-r--r-- 1 root root 652 May  6 11:04 /data/fp_img_processed/8516_87.png\r\n"
     ]
    }
   ],
   "source": [
    "!ls /data/fp_img_processed/8516_87* -al"
   ]
  },
  {
   "cell_type": "code",
   "execution_count": null,
   "metadata": {},
   "outputs": [],
   "source": []
  }
 ],
 "metadata": {
  "kernelspec": {
   "display_name": "Python 3",
   "language": "python",
   "name": "python3"
  },
  "language_info": {
   "codemirror_mode": {
    "name": "ipython",
    "version": 3
   },
   "file_extension": ".py",
   "mimetype": "text/x-python",
   "name": "python",
   "nbconvert_exporter": "python",
   "pygments_lexer": "ipython3",
   "version": "3.6.9"
  }
 },
 "nbformat": 4,
 "nbformat_minor": 2
}
