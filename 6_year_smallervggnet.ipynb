{
 "cells": [
  {
   "cell_type": "code",
   "execution_count": 1,
   "metadata": {},
   "outputs": [
    {
     "name": "stdout",
     "output_type": "stream",
     "text": [
      "3.5.2 (default, Nov 12 2018, 13:43:14) \n",
      "[GCC 5.4.0 20160609]\n"
     ]
    }
   ],
   "source": [
    "import sys\n",
    "print(sys.version)"
   ]
  },
  {
   "cell_type": "code",
   "execution_count": 2,
   "metadata": {},
   "outputs": [],
   "source": [
    "# https://github.com/eriklindernoren/Keras-GAN/blob/master/infogan/infogan.py\n",
    "\n",
    "import tensorflow as tf\n",
    "from tensorflow.keras.models import Sequential, Model\n",
    "\n",
    "from tensorflow.keras.layers import Input, Dense, Reshape, Flatten, Dropout, multiply, concatenate\n",
    "from tensorflow.keras.layers import BatchNormalization, Activation\n",
    "from tensorflow.keras.layers import LeakyReLU, Conv2D, MaxPooling2D\n",
    "from tensorflow.keras.layers import GaussianNoise, GaussianDropout\n",
    "from tensorflow.keras.layers import Lambda\n",
    "\n",
    "from tensorflow.keras.optimizers import Adam\n",
    "from tensorflow.keras.utils import to_categorical\n",
    "\n",
    "import tensorflow.keras.backend as K\n",
    "\n",
    "import matplotlib.pyplot as plt\n",
    "import numpy as np"
   ]
  },
  {
   "cell_type": "code",
   "execution_count": 3,
   "metadata": {},
   "outputs": [],
   "source": [
    "import pandas as pd\n",
    "import matplotlib.pyplot as plt\n",
    "# import numpy as np\n",
    "\n",
    "import h5py\n",
    "\n",
    "import pickle\n",
    "import cv2\n",
    "import os\n",
    "\n",
    "import PIL\n",
    "import time\n",
    "import pathlib\n",
    "\n",
    "# from IPython import display"
   ]
  },
  {
   "cell_type": "code",
   "execution_count": 4,
   "metadata": {},
   "outputs": [
    {
     "name": "stdout",
     "output_type": "stream",
     "text": [
      "Tensorflow version:  1.13.1\n",
      "Keras version:  2.2.4-tf\n",
      "Is eager execution enabled:  True\n",
      "Is there a GPU available:  True\n"
     ]
    }
   ],
   "source": [
    "print(\"Tensorflow version: \", tf.VERSION) # 1.13.1\n",
    "print(\"Keras version: \", tf.keras.__version__) # 2.2.4-tf\n",
    "\n",
    "tf.enable_eager_execution()\n",
    "print(\"Is eager execution enabled: \", tf.executing_eagerly())\n",
    "print(\"Is there a GPU available: \", tf.test.is_gpu_available())\n",
    "\n",
    "# from tensorflow.python.client import device_lib\n",
    "# print('List of GPUs:\\n',\n",
    "#       [x for x in device_lib.list_local_devices()\n",
    "#        if x.device_type == \"GPU\" or x.device_type == \"SYCL\"])"
   ]
  },
  {
   "cell_type": "markdown",
   "metadata": {},
   "source": [
    "# SmallerVGGNet\n",
    "\n",
    "Source:\n",
    "https://www.pyimagesearch.com/2018/05/07/multi-label-classification-with-keras/"
   ]
  },
  {
   "cell_type": "code",
   "execution_count": 5,
   "metadata": {},
   "outputs": [],
   "source": [
    "filename = 'year_vgg'\n",
    "\n",
    "path_train_tfrecord = \"/data/fp_train.tfrecord\"\n",
    "path_test_tfrecord = \"/data/fp_test.tfrecord\"\n",
    "\n",
    "predict_only = True\n",
    "predict_test_only = True\n"
   ]
  },
  {
   "cell_type": "code",
   "execution_count": 6,
   "metadata": {},
   "outputs": [],
   "source": [
    "class SmallerVGGNet_regression:\n",
    "    @staticmethod\n",
    "    def build(width, height, depth):\n",
    "        # initialize the model along with the input shape to be\n",
    "        # \"channels last\" and the channels dimension itself\n",
    "        model = Sequential()\n",
    "        inputShape = (height, width, depth)\n",
    "        chanDim = -1\n",
    "\n",
    "        # if we are using \"channels first\", update the input shape\n",
    "        # and channels dimension\n",
    "        if K.image_data_format() == \"channels_first\":\n",
    "            inputShape = (depth, height, width)\n",
    "            chanDim = 1\n",
    "\n",
    "        # add noise to input data\n",
    "#         model.add(GaussianNoise(0.05, \n",
    "#                                 input_shape=inputShape))    \n",
    "#         model.add(GaussianDropout(0.1, \n",
    "#                                   input_shape=inputShape))   \n",
    "#         model.add(GaussianNoise(0.05))\n",
    "            \n",
    "        # CONV => RELU => POOL\n",
    "        model.add(Conv2D(32, (3, 3), padding=\"same\",\n",
    "                         input_shape=inputShape))\n",
    "        model.add(Activation(\"relu\"))\n",
    "        model.add(BatchNormalization(axis=chanDim))\n",
    "        model.add(MaxPooling2D(pool_size=(3, 3)))\n",
    "        model.add(Dropout(0.25))\n",
    "\n",
    "        # (CONV => RELU) * 2 => POOL\n",
    "        model.add(Conv2D(64, (3, 3), padding=\"same\"))\n",
    "        model.add(Activation(\"relu\"))\n",
    "        model.add(BatchNormalization(axis=chanDim))\n",
    "        model.add(Conv2D(64, (3, 3), padding=\"same\"))\n",
    "        model.add(Activation(\"relu\"))\n",
    "        model.add(BatchNormalization(axis=chanDim))\n",
    "        model.add(MaxPooling2D(pool_size=(2, 2)))\n",
    "        model.add(Dropout(0.25))\n",
    "\n",
    "        # (CONV => RELU) * 2 => POOL\n",
    "        model.add(Conv2D(128, (3, 3), padding=\"same\"))\n",
    "        model.add(Activation(\"relu\"))\n",
    "        model.add(BatchNormalization(axis=chanDim))\n",
    "        model.add(Conv2D(128, (3, 3), padding=\"same\"))\n",
    "        model.add(Activation(\"relu\"))\n",
    "        model.add(BatchNormalization(axis=chanDim))\n",
    "        model.add(MaxPooling2D(pool_size=(2, 2)))\n",
    "        model.add(Dropout(0.25))\n",
    "\n",
    "        # first (and only) set of FC => RELU layers\n",
    "        model.add(Flatten())\n",
    "        model.add(Dense(1024))\n",
    "        model.add(Activation(\"relu\"))\n",
    "        model.add(BatchNormalization())\n",
    "        model.add(Dropout(0.5))\n",
    "        model.add(Dense(64, name='learned_representation'))\n",
    "        model.add(Activation(\"relu\"))\n",
    "        model.add(BatchNormalization())\n",
    "        model.add(Dropout(0.5))\n",
    "\n",
    "        # use a *softmax* activation for single-label classification\n",
    "        # and *sigmoid* activation for multi-label classification\n",
    "        model.add(Dense(1))\n",
    "\n",
    "        # return the constructed network architecture\n",
    "        return model"
   ]
  },
  {
   "cell_type": "code",
   "execution_count": 7,
   "metadata": {},
   "outputs": [],
   "source": [
    "path_model = \"/data/\" + filename + \".h5\"\n",
    "dir_model = os.path.dirname(path_model)\n",
    "\n",
    "pathlib.Path(dir_model).mkdir(parents=True, exist_ok=True)"
   ]
  },
  {
   "cell_type": "code",
   "execution_count": 8,
   "metadata": {},
   "outputs": [
    {
     "data": {
      "text/plain": [
       "<DatasetV1Adapter shapes: ((?, 28, 28, 6), (?,)), types: (tf.float32, tf.float32)>"
      ]
     },
     "execution_count": 8,
     "metadata": {},
     "output_type": "execute_result"
    }
   ],
   "source": [
    "# https://medium.com/@moritzkrger/speeding-up-keras-with-tfrecord-datasets-5464f9836c36\n",
    "\n",
    "EPOCHS = 100\n",
    "\n",
    "BUFFER_SIZE = 1024\n",
    "BATCH_SIZE = 8\n",
    "\n",
    "IMAGE_DIMS = (28, 28, 6)\n",
    "# LABEL_DIM = 1\n",
    "\n",
    "def _parse_function(example_proto):\n",
    "    # Create a description of the features.  \n",
    "    feature_description = {\n",
    "        # [AREA_UNIT, AREA_ENTRANCE, AREA_LDK, AREA_BEDROOM, AREA_BALCONY, AREA_BATHROOM]\n",
    "        'floorplan': tf.FixedLenFeature([28, 28, 6], tf.float32, \n",
    "                                        default_value=tf.zeros([28, 28, 6], tf.float32)),\n",
    "        \n",
    "        'plan_id': tf.FixedLenFeature([], tf.string, default_value=''),\n",
    "        'norm_year': tf.FixedLenFeature([], tf.float32, default_value=-1.0),\n",
    "        'sido': tf.FixedLenFeature([], tf.int64, default_value=-1),\n",
    "        'norm_area': tf.FixedLenFeature([], tf.float32, default_value=0.0),\n",
    "        'is_area_85': tf.FixedLenFeature([], tf.int64, default_value=0),\n",
    "        'is_core': tf.FixedLenFeature([], tf.int64, default_value=0),\n",
    "        'num_rooms': tf.FixedLenFeature([], tf.int64, default_value=-1),\n",
    "        'num_baths': tf.FixedLenFeature([], tf.int64, default_value=-1)\n",
    "    }\n",
    "    \n",
    "    # Parse the input tf.Example proto using the dictionary above.\n",
    "    parsed_example = tf.parse_single_example(example_proto, feature_description)\n",
    "    \n",
    "    return parsed_example['floorplan'], parsed_example['norm_year']\n",
    "\n",
    "def create_dataset(filepath):\n",
    "    \n",
    "    # This works with arrays as well\n",
    "    dataset = tf.data.TFRecordDataset(filepath, compression_type=\"GZIP\")\n",
    "    \n",
    "    # Maps the parser on every filepath in the array. You can set the number of parallel loaders here\n",
    "    dataset = dataset.map(_parse_function, num_parallel_calls=8)\n",
    "    \n",
    "    # This dataset will go on forever\n",
    "    dataset = dataset.repeat()\n",
    "    \n",
    "    # Set the number of datapoints you want to load and shuffle \n",
    "    dataset = dataset.shuffle(BUFFER_SIZE)\n",
    "    \n",
    "    # Set the batchsize\n",
    "    dataset = dataset.batch(BATCH_SIZE)\n",
    "    \n",
    "    return dataset\n",
    "\n",
    "train_dataset = create_dataset(path_train_tfrecord)\n",
    "test_dataset =  create_dataset(path_test_tfrecord)\n",
    "train_dataset"
   ]
  },
  {
   "cell_type": "code",
   "execution_count": 9,
   "metadata": {},
   "outputs": [
    {
     "name": "stdout",
     "output_type": "stream",
     "text": [
      "WARNING:tensorflow:From /usr/local/lib/python3.5/dist-packages/tensorflow/python/ops/resource_variable_ops.py:642: colocate_with (from tensorflow.python.framework.ops) is deprecated and will be removed in a future version.\n",
      "Instructions for updating:\n",
      "Colocations handled automatically by placer.\n",
      "WARNING:tensorflow:From /usr/local/lib/python3.5/dist-packages/tensorflow/python/keras/layers/core.py:143: calling dropout (from tensorflow.python.ops.nn_ops) with keep_prob is deprecated and will be removed in a future version.\n",
      "Instructions for updating:\n",
      "Please use `rate` instead of `keep_prob`. Rate should be set to `rate = 1 - keep_prob`.\n",
      "Logits:  [[-0.02146869]]\n",
      "_________________________________________________________________\n",
      "Layer (type)                 Output Shape              Param #   \n",
      "=================================================================\n",
      "conv2d (Conv2D)              (None, 28, 28, 32)        1760      \n",
      "_________________________________________________________________\n",
      "activation (Activation)      (None, 28, 28, 32)        0         \n",
      "_________________________________________________________________\n",
      "batch_normalization_v1 (Batc (None, 28, 28, 32)        128       \n",
      "_________________________________________________________________\n",
      "max_pooling2d (MaxPooling2D) (None, 9, 9, 32)          0         \n",
      "_________________________________________________________________\n",
      "dropout (Dropout)            (None, 9, 9, 32)          0         \n",
      "_________________________________________________________________\n",
      "conv2d_1 (Conv2D)            (None, 9, 9, 64)          18496     \n",
      "_________________________________________________________________\n",
      "activation_1 (Activation)    (None, 9, 9, 64)          0         \n",
      "_________________________________________________________________\n",
      "batch_normalization_v1_1 (Ba (None, 9, 9, 64)          256       \n",
      "_________________________________________________________________\n",
      "conv2d_2 (Conv2D)            (None, 9, 9, 64)          36928     \n",
      "_________________________________________________________________\n",
      "activation_2 (Activation)    (None, 9, 9, 64)          0         \n",
      "_________________________________________________________________\n",
      "batch_normalization_v1_2 (Ba (None, 9, 9, 64)          256       \n",
      "_________________________________________________________________\n",
      "max_pooling2d_1 (MaxPooling2 (None, 4, 4, 64)          0         \n",
      "_________________________________________________________________\n",
      "dropout_1 (Dropout)          (None, 4, 4, 64)          0         \n",
      "_________________________________________________________________\n",
      "conv2d_3 (Conv2D)            (None, 4, 4, 128)         73856     \n",
      "_________________________________________________________________\n",
      "activation_3 (Activation)    (None, 4, 4, 128)         0         \n",
      "_________________________________________________________________\n",
      "batch_normalization_v1_3 (Ba (None, 4, 4, 128)         512       \n",
      "_________________________________________________________________\n",
      "conv2d_4 (Conv2D)            (None, 4, 4, 128)         147584    \n",
      "_________________________________________________________________\n",
      "activation_4 (Activation)    (None, 4, 4, 128)         0         \n",
      "_________________________________________________________________\n",
      "batch_normalization_v1_4 (Ba (None, 4, 4, 128)         512       \n",
      "_________________________________________________________________\n",
      "max_pooling2d_2 (MaxPooling2 (None, 2, 2, 128)         0         \n",
      "_________________________________________________________________\n",
      "dropout_2 (Dropout)          (None, 2, 2, 128)         0         \n",
      "_________________________________________________________________\n",
      "flatten (Flatten)            (None, 512)               0         \n",
      "_________________________________________________________________\n",
      "dense (Dense)                (None, 1024)              525312    \n",
      "_________________________________________________________________\n",
      "activation_5 (Activation)    (None, 1024)              0         \n",
      "_________________________________________________________________\n",
      "batch_normalization_v1_5 (Ba (None, 1024)              4096      \n",
      "_________________________________________________________________\n",
      "dropout_3 (Dropout)          (None, 1024)              0         \n",
      "_________________________________________________________________\n",
      "learned_representation (Dens (None, 64)                65600     \n",
      "_________________________________________________________________\n",
      "activation_6 (Activation)    (None, 64)                0         \n",
      "_________________________________________________________________\n",
      "batch_normalization_v1_6 (Ba (None, 64)                256       \n",
      "_________________________________________________________________\n",
      "dropout_4 (Dropout)          (None, 64)                0         \n",
      "_________________________________________________________________\n",
      "dense_1 (Dense)              (None, 1)                 65        \n",
      "=================================================================\n",
      "Total params: 875,617\n",
      "Trainable params: 872,609\n",
      "Non-trainable params: 3,008\n",
      "_________________________________________________________________\n"
     ]
    }
   ],
   "source": [
    "model = SmallerVGGNet_regression.build(\n",
    "    width=IMAGE_DIMS[1], height=IMAGE_DIMS[0],\n",
    "    depth=IMAGE_DIMS[2],\n",
    ")\n",
    "\n",
    "for images,labels in train_dataset.take(1):\n",
    "    print(\"Logits: \", model(images[0:1]).numpy())\n",
    "    \n",
    "model.summary()"
   ]
  },
  {
   "cell_type": "code",
   "execution_count": 10,
   "metadata": {
    "scrolled": false
   },
   "outputs": [
    {
     "name": "stdout",
     "output_type": "stream",
     "text": [
      "WARNING:tensorflow:From /usr/local/lib/python3.5/dist-packages/tensorflow/python/keras/utils/losses_utils.py:170: to_float (from tensorflow.python.ops.math_ops) is deprecated and will be removed in a future version.\n",
      "Instructions for updating:\n",
      "Use tf.cast instead.\n"
     ]
    }
   ],
   "source": [
    "model.compile(optimizer='RMSprop', \n",
    "              loss='mean_squared_error')"
   ]
  },
  {
   "cell_type": "code",
   "execution_count": 11,
   "metadata": {},
   "outputs": [],
   "source": [
    "if not predict_only:\n",
    "    monitor = tf.keras.callbacks.EarlyStopping(\n",
    "        monitor='val_loss', patience=200, verbose=1\n",
    "    )\n",
    "\n",
    "    history = model.fit(train_dataset,\n",
    "                        epochs=5000,\n",
    "                        steps_per_epoch=39686//BATCH_SIZE,\n",
    "                        validation_data=test_dataset,\n",
    "                        validation_steps=10854//BATCH_SIZE,\n",
    "                        callbacks=[monitor],\n",
    "                       )"
   ]
  },
  {
   "cell_type": "code",
   "execution_count": 12,
   "metadata": {},
   "outputs": [],
   "source": [
    "if not predict_only:\n",
    "    # plot the training loss and accuracy\n",
    "    plt.style.use(\"ggplot\")\n",
    "    plt.figure()\n",
    "    H = history\n",
    "    N = len(H.history[\"loss\"])\n",
    "\n",
    "    plt.plot(np.arange(1, N+1), H.history[\"loss\"], label=\"train_loss\")\n",
    "    plt.plot(np.arange(1, N+1), H.history[\"val_loss\"], label=\"val_loss\")\n",
    "\n",
    "    # plt.plot(np.arange(1, N+1), H.history[\"acc\"], label=\"train_acc\")\n",
    "    # plt.plot(np.arange(1, N+1), H.history[\"val_acc\"], label=\"val_acc\")\n",
    "    # plt.ylim(bottom=0)\n",
    "\n",
    "    plt.title(\"Training Loss and Accuracy\")\n",
    "    plt.xlabel(\"Epoch #\")\n",
    "    plt.ylabel(\"Loss/Accuracy\")\n",
    "    plt.legend(loc=\"upper left\")\n",
    "\n",
    "    plt.savefig(\"/data/\" + filename + \".pdf\")\n",
    "    plt.savefig(\"/data/\" + filename + \".png\")\n"
   ]
  },
  {
   "cell_type": "code",
   "execution_count": 13,
   "metadata": {},
   "outputs": [],
   "source": [
    "if not predict_only:\n",
    "    print(\"loss:    \", H.history[\"loss\"][-1])\n",
    "    print(\"val_loss:\", H.history[\"val_loss\"][-1])"
   ]
  },
  {
   "cell_type": "code",
   "execution_count": 14,
   "metadata": {},
   "outputs": [],
   "source": [
    "if not predict_only:\n",
    "    with h5py.File(path_model,'w') as file:\n",
    "        weight = model.get_weights()\n",
    "        for i in range(len(weight)):\n",
    "            file.create_dataset('weight'+str(i),data=weight[i])\n",
    "    !ls -al {path_model}"
   ]
  },
  {
   "cell_type": "code",
   "execution_count": 15,
   "metadata": {},
   "outputs": [],
   "source": [
    "with h5py.File(path_model,'r') as file:\n",
    "    weight = []\n",
    "    for i in range(len(file.keys())):\n",
    "        weight.append(file['weight'+str(i)][:])\n",
    "        \n",
    "model.set_weights(weight)\n",
    "# weight"
   ]
  },
  {
   "cell_type": "code",
   "execution_count": 16,
   "metadata": {},
   "outputs": [],
   "source": [
    "def _parse_predict_function(example_proto):\n",
    "    # Create a description of the features.  \n",
    "    feature_description = {\n",
    "        # [AREA_UNIT, AREA_ENTRANCE, AREA_LDK, AREA_BEDROOM, AREA_BALCONY, AREA_BATHROOM]\n",
    "        'floorplan': tf.FixedLenFeature([28, 28, 6], tf.float32, \n",
    "                                        default_value=tf.zeros([28, 28, 6], tf.float32)),\n",
    "        \n",
    "        'plan_id': tf.FixedLenFeature([], tf.string, default_value=''),\n",
    "        'norm_year': tf.FixedLenFeature([], tf.float32, default_value=-1.0),\n",
    "        'sido': tf.FixedLenFeature([], tf.int64, default_value=-1),\n",
    "        'norm_area': tf.FixedLenFeature([], tf.float32, default_value=0.0),\n",
    "        'is_area_85': tf.FixedLenFeature([], tf.int64, default_value=0),\n",
    "        'is_core': tf.FixedLenFeature([], tf.int64, default_value=0),\n",
    "        'num_rooms': tf.FixedLenFeature([], tf.int64, default_value=-1),\n",
    "        'num_baths': tf.FixedLenFeature([], tf.int64, default_value=-1)\n",
    "    }\n",
    "    \n",
    "    # Parse the input tf.Example proto using the dictionary above.\n",
    "    parsed_example = tf.parse_single_example(example_proto, feature_description)\n",
    "    \n",
    "    return parsed_example['floorplan'], parsed_example['plan_id'], parsed_example['norm_year']\n",
    "\n",
    "def create_predict_dataset(filepaths):\n",
    "    \n",
    "    # This works with arrays as well\n",
    "    dataset = tf.data.TFRecordDataset(filepaths, compression_type=\"GZIP\")\n",
    "    \n",
    "    # Maps the parser on every filepath in the array. You can set the number of parallel loaders here\n",
    "    dataset = dataset.map(_parse_predict_function, num_parallel_calls=8)\n",
    "\n",
    "    # Set the batchsize\n",
    "    dataset = dataset.batch(BATCH_SIZE)\n",
    "    \n",
    "    return dataset"
   ]
  },
  {
   "cell_type": "code",
   "execution_count": 17,
   "metadata": {},
   "outputs": [],
   "source": [
    "if predict_test_only:\n",
    "    paths_predict_tfrecord = [path_test_tfrecord]\n",
    "else:\n",
    "    paths_predict_tfrecord = [path_train_tfrecord, path_test_tfrecord]"
   ]
  },
  {
   "cell_type": "code",
   "execution_count": 18,
   "metadata": {},
   "outputs": [
    {
     "name": "stdout",
     "output_type": "stream",
     "text": [
      "WARNING:tensorflow:Your dataset iterator ran out of data.\n"
     ]
    }
   ],
   "source": [
    "predict_dataset =  create_predict_dataset(paths_predict_tfrecord)\n",
    "predictions = model.predict(\n",
    "    predict_dataset,\n",
    "    steps=60000//BATCH_SIZE\n",
    ")\n",
    "\n",
    "predictions = [x[0] for x in predictions]\n",
    "# predictions"
   ]
  },
  {
   "cell_type": "code",
   "execution_count": 19,
   "metadata": {},
   "outputs": [],
   "source": [
    "predict_dataset =  create_predict_dataset(paths_predict_tfrecord)\n",
    "iter = predict_dataset.make_one_shot_iterator()\n",
    "\n",
    "ids = []\n",
    "for batch in iter:\n",
    "    ids.extend(batch[1].numpy())\n",
    "\n",
    "ids = [x.decode() for x in ids]\n",
    "# ids"
   ]
  },
  {
   "cell_type": "code",
   "execution_count": 20,
   "metadata": {},
   "outputs": [],
   "source": [
    "predict_dataset =  create_predict_dataset(paths_predict_tfrecord)\n",
    "iter = predict_dataset.make_one_shot_iterator()\n",
    "\n",
    "true_year = []\n",
    "for batch in iter:\n",
    "    true_year.extend(batch[2].numpy())\n",
    "\n",
    "# true_year"
   ]
  },
  {
   "cell_type": "code",
   "execution_count": 21,
   "metadata": {},
   "outputs": [],
   "source": [
    "df = pd.DataFrame(zip(ids, true_year, predictions), columns=['ID', 'true_year', 'prediction'])\n",
    "# df"
   ]
  },
  {
   "cell_type": "code",
   "execution_count": 22,
   "metadata": {
    "scrolled": true
   },
   "outputs": [
    {
     "data": {
      "text/html": [
       "<div>\n",
       "<style scoped>\n",
       "    .dataframe tbody tr th:only-of-type {\n",
       "        vertical-align: middle;\n",
       "    }\n",
       "\n",
       "    .dataframe tbody tr th {\n",
       "        vertical-align: top;\n",
       "    }\n",
       "\n",
       "    .dataframe thead th {\n",
       "        text-align: right;\n",
       "    }\n",
       "</style>\n",
       "<table border=\"1\" class=\"dataframe\">\n",
       "  <thead>\n",
       "    <tr style=\"text-align: right;\">\n",
       "      <th></th>\n",
       "      <th>true_year</th>\n",
       "      <th>prediction</th>\n",
       "    </tr>\n",
       "  </thead>\n",
       "  <tbody>\n",
       "    <tr>\n",
       "      <th>true_year</th>\n",
       "      <td>1.000000</td>\n",
       "      <td>0.879895</td>\n",
       "    </tr>\n",
       "    <tr>\n",
       "      <th>prediction</th>\n",
       "      <td>0.879895</td>\n",
       "      <td>1.000000</td>\n",
       "    </tr>\n",
       "  </tbody>\n",
       "</table>\n",
       "</div>"
      ],
      "text/plain": [
       "            true_year  prediction\n",
       "true_year    1.000000    0.879895\n",
       "prediction   0.879895    1.000000"
      ]
     },
     "execution_count": 22,
     "metadata": {},
     "output_type": "execute_result"
    }
   ],
   "source": [
    "df.corr()"
   ]
  },
  {
   "cell_type": "code",
   "execution_count": 23,
   "metadata": {},
   "outputs": [
    {
     "data": {
      "text/plain": [
       "'$r^2 = 0.774$\\n(Test dataset only)'"
      ]
     },
     "execution_count": 23,
     "metadata": {},
     "output_type": "execute_result"
    }
   ],
   "source": [
    "corr_year = df['true_year'].corr(df['prediction'])\n",
    "r2_text = format(corr_year**2, '.3f')\n",
    "r2_text = '$r^2 = ' + r2_text + '$'\n",
    "\n",
    "if predict_test_only: \n",
    "    r2_text += '\\n(Test dataset only)'\n",
    "    \n",
    "r2_text"
   ]
  },
  {
   "cell_type": "code",
   "execution_count": 24,
   "metadata": {},
   "outputs": [
    {
     "data": {
      "image/png": "[encoded data removed]",
      "text/plain": [
       "<Figure size 432x288 with 2 Axes>"
      ]
     },
     "metadata": {
      "needs_background": "light"
     },
     "output_type": "display_data"
    }
   ],
   "source": [
    "ax = df.plot.hexbin(x='true_year',y='prediction',\n",
    "                    extent=(-0.03,1.01,-0.03,1.01), xlim=(0,1), ylim=(0,1), \n",
    "                    sharex=False, gridsize=26,\n",
    "                    bins='log', mincnt=10,\n",
    "                   )\n",
    "ax.set_facecolor('w')\n",
    "ax.set_aspect('equal')\n",
    "ax.text(0.02,0.98,r2_text, verticalalignment='top')\n",
    "fig = ax.get_figure()\n",
    "\n",
    "if predict_test_only: \n",
    "    dataset_tag = \"_testonly\"\n",
    "else:\n",
    "    dataset_tag = \"\"\n",
    "\n",
    "fig.savefig(\"/data/\" + filename + \"_prediction\" + dataset_tag + \".pdf\")\n",
    "fig.savefig(\"/data/\" + filename + \"_prediction\" + dataset_tag + \".png\")"
   ]
  },
  {
   "cell_type": "code",
   "execution_count": 25,
   "metadata": {},
   "outputs": [],
   "source": [
    "!cp /data/{filename}* ."
   ]
  },
  {
   "cell_type": "code",
   "execution_count": 26,
   "metadata": {},
   "outputs": [
    {
     "name": "stdout",
     "output_type": "stream",
     "text": [
      "WARNING:tensorflow:Your dataset iterator ran out of data.\n"
     ]
    },
    {
     "data": {
      "text/plain": [
       "array([[ 3.3723541e+02, -4.1588272e+01,  4.0848273e+02, ...,\n",
       "        -8.8837830e+01,  6.2436682e+02, -3.4050937e+00],\n",
       "       [ 8.7370959e+02,  3.6376144e+02, -6.5665787e+01, ...,\n",
       "         7.2061935e+01, -8.3776924e+01,  9.0833984e+01],\n",
       "       [ 5.1341699e+02, -3.5993416e+01,  1.3029553e+02, ...,\n",
       "         9.0687874e+01,  1.8091951e+02,  1.2971735e+02],\n",
       "       ...,\n",
       "       [ 9.6294995e+02, -2.5399280e+02, -5.3810315e+02, ...,\n",
       "         2.7912274e+02, -8.0714496e+02,  1.9777177e+02],\n",
       "       [ 5.2367029e+02,  6.2909045e+02,  5.0980261e+02, ...,\n",
       "        -1.2811876e+02,  5.7390131e+02, -2.7128220e+02],\n",
       "       [-4.1944312e+02,  1.0271780e+03,  1.5294091e+03, ...,\n",
       "        -7.9817729e+03,  1.3119202e+03, -8.4687979e+03]], dtype=float32)"
      ]
     },
     "execution_count": 26,
     "metadata": {},
     "output_type": "execute_result"
    }
   ],
   "source": [
    "# https://keras.io/getting-started/faq/#how-can-i-obtain-the-output-of-an-intermediate-layer\n",
    "\n",
    "layer_name = 'learned_representation'\n",
    "intermediate_layer_model = Model(inputs=model.input,\n",
    "                                 outputs=model.get_layer(layer_name).output)\n",
    "\n",
    "predict_dataset =  create_predict_dataset(paths_predict_tfrecord)\n",
    "intermediate_output = intermediate_layer_model.predict(\n",
    "    predict_dataset,\n",
    "    steps=60000//BATCH_SIZE\n",
    ")\n",
    "\n",
    "intermediate_output"
   ]
  },
  {
   "cell_type": "code",
   "execution_count": 27,
   "metadata": {},
   "outputs": [
    {
     "data": {
      "text/plain": [
       "10854"
      ]
     },
     "execution_count": 27,
     "metadata": {},
     "output_type": "execute_result"
    }
   ],
   "source": [
    "len(intermediate_output)"
   ]
  },
  {
   "cell_type": "code",
   "execution_count": null,
   "metadata": {
    "scrolled": true
   },
   "outputs": [],
   "source": []
  },
  {
   "cell_type": "code",
   "execution_count": null,
   "metadata": {},
   "outputs": [],
   "source": []
  }
 ],
 "metadata": {
  "kernelspec": {
   "display_name": "Python 3",
   "language": "python",
   "name": "python3"
  },
  "language_info": {
   "codemirror_mode": {
    "name": "ipython",
    "version": 3
   },
   "file_extension": ".py",
   "mimetype": "text/x-python",
   "name": "python",
   "nbconvert_exporter": "python",
   "pygments_lexer": "ipython3",
   "version": "3.5.2"
  }
 },
 "nbformat": 4,
 "nbformat_minor": 2
}
