{
 "cells": [
  {
   "cell_type": "code",
   "execution_count": 28,
   "metadata": {},
   "outputs": [],
   "source": [
    "# import tensorflow as tf\n",
    "# import tensorflow.keras.backend as K\n",
    "\n",
    "from tensorflow.keras.models import Sequential, Model\n",
    "\n",
    "# from tensorflow.keras.layers import (\n",
    "#     Input,\n",
    "#     Dense,\n",
    "#     Reshape,\n",
    "#     Flatten,\n",
    "#     Dropout,\n",
    "#     BatchNormalization,\n",
    "#     Activation,\n",
    "#     ZeroPadding2D,\n",
    "#     LeakyReLU,\n",
    "#     UpSampling2D,\n",
    "#     Conv2D,\n",
    "#     Convolution2D,\n",
    "#     MaxPooling2D,\n",
    "#     Concatenate,\n",
    "#     GaussianNoise,\n",
    "#     GaussianDropout,\n",
    "#     Lambda,\n",
    "#     GlobalAveragePooling2D,\n",
    "# )\n",
    "\n",
    "# from tensorflow.keras.optimizers import Adam\n",
    "\n",
    "# from tensorflow.keras.utils import to_categorical\n",
    "\n",
    "# import h5py\n",
    "# import pickle\n",
    "# import csv\n",
    "\n",
    "import matplotlib.pyplot as plt\n",
    "from matplotlib.colors import DivergingNorm\n",
    "\n",
    "import numpy as np\n",
    "import pandas as pd\n",
    "\n",
    "# import os\n",
    "# import pathlib\n",
    "# from pathlib import Path\n",
    "\n",
    "# import time\n",
    "\n",
    "# import math"
   ]
  },
  {
   "cell_type": "code",
   "execution_count": 2,
   "metadata": {},
   "outputs": [],
   "source": [
    "path_all_tfrecord = \"fp56.tfrecord\"\n",
    "\n",
    "# path_train_tfrecord = \"fp56_train.tfrecord\"\n",
    "# path_test_tfrecord = \"fp56_test.tfrecord\""
   ]
  },
  {
   "cell_type": "code",
   "execution_count": 3,
   "metadata": {},
   "outputs": [
    {
     "data": {
      "text/plain": [
       "'vgg_cam/model-17-1.17-53.3%.hdf5'"
      ]
     },
     "execution_count": 3,
     "metadata": {},
     "output_type": "execute_result"
    }
   ],
   "source": [
    "dir_model = \"vgg_cam/\"\n",
    "path_best = dir_model + \"model-17-1.17-53.3%.hdf5\"\n",
    "path_best"
   ]
  },
  {
   "cell_type": "markdown",
   "metadata": {},
   "source": [
    "# load"
   ]
  },
  {
   "cell_type": "code",
   "execution_count": 4,
   "metadata": {},
   "outputs": [
    {
     "data": {
      "text/html": [
       "<div>\n",
       "<style scoped>\n",
       "    .dataframe tbody tr th:only-of-type {\n",
       "        vertical-align: middle;\n",
       "    }\n",
       "\n",
       "    .dataframe tbody tr th {\n",
       "        vertical-align: top;\n",
       "    }\n",
       "\n",
       "    .dataframe thead th {\n",
       "        text-align: right;\n",
       "    }\n",
       "</style>\n",
       "<table border=\"1\" class=\"dataframe\">\n",
       "  <thead>\n",
       "    <tr style=\"text-align: right;\">\n",
       "      <th></th>\n",
       "      <th>ID</th>\n",
       "      <th>true</th>\n",
       "      <th>prediction</th>\n",
       "    </tr>\n",
       "  </thead>\n",
       "  <tbody>\n",
       "    <tr>\n",
       "      <th>0</th>\n",
       "      <td>8928_160</td>\n",
       "      <td>6</td>\n",
       "      <td>6</td>\n",
       "    </tr>\n",
       "    <tr>\n",
       "      <th>1</th>\n",
       "      <td>8928_183</td>\n",
       "      <td>6</td>\n",
       "      <td>6</td>\n",
       "    </tr>\n",
       "    <tr>\n",
       "      <th>2</th>\n",
       "      <td>8928_201A</td>\n",
       "      <td>6</td>\n",
       "      <td>7</td>\n",
       "    </tr>\n",
       "    <tr>\n",
       "      <th>3</th>\n",
       "      <td>8928_204B</td>\n",
       "      <td>6</td>\n",
       "      <td>6</td>\n",
       "    </tr>\n",
       "    <tr>\n",
       "      <th>4</th>\n",
       "      <td>960_35</td>\n",
       "      <td>2</td>\n",
       "      <td>4</td>\n",
       "    </tr>\n",
       "    <tr>\n",
       "      <th>...</th>\n",
       "      <td>...</td>\n",
       "      <td>...</td>\n",
       "      <td>...</td>\n",
       "    </tr>\n",
       "    <tr>\n",
       "      <th>50247</th>\n",
       "      <td>115454_21D</td>\n",
       "      <td>9</td>\n",
       "      <td>9</td>\n",
       "    </tr>\n",
       "    <tr>\n",
       "      <th>50248</th>\n",
       "      <td>115454_34E</td>\n",
       "      <td>9</td>\n",
       "      <td>9</td>\n",
       "    </tr>\n",
       "    <tr>\n",
       "      <th>50249</th>\n",
       "      <td>115454_36B</td>\n",
       "      <td>9</td>\n",
       "      <td>9</td>\n",
       "    </tr>\n",
       "    <tr>\n",
       "      <th>50250</th>\n",
       "      <td>115454_37A</td>\n",
       "      <td>9</td>\n",
       "      <td>9</td>\n",
       "    </tr>\n",
       "    <tr>\n",
       "      <th>50251</th>\n",
       "      <td>115454_38C</td>\n",
       "      <td>9</td>\n",
       "      <td>9</td>\n",
       "    </tr>\n",
       "  </tbody>\n",
       "</table>\n",
       "<p>50252 rows × 3 columns</p>\n",
       "</div>"
      ],
      "text/plain": [
       "               ID  true  prediction\n",
       "0        8928_160     6           6\n",
       "1        8928_183     6           6\n",
       "2       8928_201A     6           7\n",
       "3       8928_204B     6           6\n",
       "4          960_35     2           4\n",
       "...           ...   ...         ...\n",
       "50247  115454_21D     9           9\n",
       "50248  115454_34E     9           9\n",
       "50249  115454_36B     9           9\n",
       "50250  115454_37A     9           9\n",
       "50251  115454_38C     9           9\n",
       "\n",
       "[50252 rows x 3 columns]"
      ]
     },
     "execution_count": 4,
     "metadata": {},
     "output_type": "execute_result"
    }
   ],
   "source": [
    "df = pd.read_csv(\"vgg_5y_prediction.csv\", index_col=0)\n",
    "df"
   ]
  },
  {
   "cell_type": "code",
   "execution_count": 5,
   "metadata": {},
   "outputs": [
    {
     "data": {
      "text/plain": [
       "array([6, 6, 7, ..., 9, 9, 9])"
      ]
     },
     "execution_count": 5,
     "metadata": {},
     "output_type": "execute_result"
    }
   ],
   "source": [
    "predictions = df.prediction.to_numpy()\n",
    "predictions"
   ]
  },
  {
   "cell_type": "code",
   "execution_count": 6,
   "metadata": {},
   "outputs": [
    {
     "data": {
      "text/plain": [
       "array([6, 6, 6, ..., 9, 9, 9])"
      ]
     },
     "execution_count": 6,
     "metadata": {},
     "output_type": "execute_result"
    }
   ],
   "source": [
    "year_true = df.true.to_numpy()\n",
    "year_true"
   ]
  },
  {
   "cell_type": "code",
   "execution_count": 7,
   "metadata": {},
   "outputs": [
    {
     "data": {
      "text/plain": [
       "['1321_195',\n",
       " '1327_105',\n",
       " '1327_158',\n",
       " '1327_193',\n",
       " '17533_140A',\n",
       " '17533_143B',\n",
       " '17533_179',\n",
       " '17533_203',\n",
       " '8431_54',\n",
       " '26196_163']"
      ]
     },
     "execution_count": 7,
     "metadata": {},
     "output_type": "execute_result"
    }
   ],
   "source": [
    "ids = df.ID.tolist()\n",
    "ids[60:70]"
   ]
  },
  {
   "cell_type": "markdown",
   "metadata": {},
   "source": [
    "# run"
   ]
  },
  {
   "cell_type": "code",
   "execution_count": 9,
   "metadata": {},
   "outputs": [],
   "source": [
    "from fp_tensorflow import _parse_pair_56, _parse_single_56\n",
    "from fp_tensorflow import create_pair_56_dataset, create_single_dataset\n",
    "from fp_tensorflow import VGG16_convolutions\n",
    "from fp_tensorflow import create_vgg_5y_model\n",
    "\n",
    "all_dataset = create_pair_56_dataset(path_all_tfrecord, \"floorplan\", \"year\").batch(64)\n",
    "\n",
    "model = create_vgg_5y_model()\n",
    "model.load_weights(path_best)"
   ]
  },
  {
   "cell_type": "code",
   "execution_count": 10,
   "metadata": {},
   "outputs": [
    {
     "name": "stdout",
     "output_type": "stream",
     "text": [
      "Model: \"sequential\"\n",
      "_________________________________________________________________\n",
      "Layer (type)                 Output Shape              Param #   \n",
      "=================================================================\n",
      "gaussian_noise (GaussianNois (None, 56, 56, 6)         0         \n",
      "_________________________________________________________________\n",
      "conv1_1 (Conv2D)             (None, 56, 56, 64)        3520      \n",
      "_________________________________________________________________\n",
      "conv1_2 (Conv2D)             (None, 56, 56, 64)        36928     \n",
      "_________________________________________________________________\n",
      "max_pooling2d (MaxPooling2D) (None, 56, 56, 64)        0         \n",
      "_________________________________________________________________\n",
      "conv2_1 (Conv2D)             (None, 56, 56, 128)       73856     \n",
      "_________________________________________________________________\n",
      "conv2_2 (Conv2D)             (None, 56, 56, 128)       147584    \n",
      "_________________________________________________________________\n",
      "max_pooling2d_1 (MaxPooling2 (None, 56, 56, 128)       0         \n",
      "_________________________________________________________________\n",
      "conv3_1 (Conv2D)             (None, 56, 56, 256)       295168    \n",
      "_________________________________________________________________\n",
      "conv3_2 (Conv2D)             (None, 56, 56, 256)       590080    \n",
      "_________________________________________________________________\n",
      "conv3_3 (Conv2D)             (None, 56, 56, 256)       590080    \n",
      "_________________________________________________________________\n",
      "max_pooling2d_2 (MaxPooling2 (None, 28, 28, 256)       0         \n",
      "_________________________________________________________________\n",
      "conv4_1 (Conv2D)             (None, 28, 28, 512)       1180160   \n",
      "_________________________________________________________________\n",
      "conv4_2 (Conv2D)             (None, 28, 28, 512)       2359808   \n",
      "_________________________________________________________________\n",
      "conv4_3 (Conv2D)             (None, 28, 28, 512)       2359808   \n",
      "_________________________________________________________________\n",
      "max_pooling2d_3 (MaxPooling2 (None, 14, 14, 512)       0         \n",
      "_________________________________________________________________\n",
      "conv5_1 (Conv2D)             (None, 14, 14, 512)       2359808   \n",
      "_________________________________________________________________\n",
      "conv5_2 (Conv2D)             (None, 14, 14, 512)       2359808   \n",
      "_________________________________________________________________\n",
      "conv5_3 (Conv2D)             (None, 14, 14, 512)       2359808   \n",
      "_________________________________________________________________\n",
      "global_average_pooling2d (Gl (None, 512)               0         \n",
      "_________________________________________________________________\n",
      "dropout (Dropout)            (None, 512)               0         \n",
      "_________________________________________________________________\n",
      "dense (Dense)                (None, 10)                5130      \n",
      "=================================================================\n",
      "Total params: 14,721,546\n",
      "Trainable params: 14,721,546\n",
      "Non-trainable params: 0\n",
      "_________________________________________________________________\n"
     ]
    }
   ],
   "source": [
    "model.summary()"
   ]
  },
  {
   "cell_type": "code",
   "execution_count": 11,
   "metadata": {},
   "outputs": [],
   "source": [
    "# Get the 512 input weights to the softmax.\n",
    "class_weights = model.layers[-1].get_weights()[0]"
   ]
  },
  {
   "cell_type": "code",
   "execution_count": 12,
   "metadata": {},
   "outputs": [
    {
     "data": {
      "text/plain": [
       "(512, 10)"
      ]
     },
     "execution_count": 12,
     "metadata": {},
     "output_type": "execute_result"
    }
   ],
   "source": [
    "class_weights.shape"
   ]
  },
  {
   "cell_type": "code",
   "execution_count": 13,
   "metadata": {},
   "outputs": [
    {
     "data": {
      "text/plain": [
       "(0.00048049624, 0.10877906)"
      ]
     },
     "execution_count": 13,
     "metadata": {},
     "output_type": "execute_result"
    }
   ],
   "source": [
    "class_weights.mean(), class_weights.std()"
   ]
  },
  {
   "cell_type": "code",
   "execution_count": 26,
   "metadata": {},
   "outputs": [
    {
     "data": {
      "text/plain": [
       "<AxesSubplot:ylabel='Density'>"
      ]
     },
     "execution_count": 26,
     "metadata": {},
     "output_type": "execute_result"
    },
    {
     "data": {
      "image/png": "[encoded data removed]",
      "text/plain": [
       "<Figure size 432x288 with 1 Axes>"
      ]
     },
     "metadata": {
      "needs_background": "light"
     },
     "output_type": "display_data"
    }
   ],
   "source": [
    "pd.Series(class_weights.mean(axis=1)).plot.kde()"
   ]
  },
  {
   "cell_type": "code",
   "execution_count": 23,
   "metadata": {},
   "outputs": [],
   "source": [
    "# bias for 10 of 5-year classes\n",
    "# model.layers[-1].get_weights()[1]"
   ]
  },
  {
   "cell_type": "markdown",
   "metadata": {},
   "source": [
    "# global average pool output"
   ]
  },
  {
   "cell_type": "code",
   "execution_count": 29,
   "metadata": {},
   "outputs": [],
   "source": [
    "gap_model = Model(inputs=model.input, outputs=model.layers[-2].output)"
   ]
  },
  {
   "cell_type": "code",
   "execution_count": 30,
   "metadata": {},
   "outputs": [
    {
     "name": "stdout",
     "output_type": "stream",
     "text": [
      "    786/Unknown - 283s 359ms/step"
     ]
    }
   ],
   "source": [
    "gap_outputs = gap_model.predict(all_dataset, verbose=1)"
   ]
  },
  {
   "cell_type": "code",
   "execution_count": 32,
   "metadata": {},
   "outputs": [
    {
     "data": {
      "text/plain": [
       "((50252, 512), 0.18569908, 0.20326832)"
      ]
     },
     "execution_count": 32,
     "metadata": {},
     "output_type": "execute_result"
    }
   ],
   "source": [
    "gap_outputs.shape, gap_outputs.mean(), gap_outputs.std()"
   ]
  },
  {
   "cell_type": "code",
   "execution_count": 41,
   "metadata": {},
   "outputs": [
    {
     "data": {
      "text/plain": [
       "<AxesSubplot:ylabel='Density'>"
      ]
     },
     "execution_count": 41,
     "metadata": {},
     "output_type": "execute_result"
    },
    {
     "data": {
      "image/png": "[encoded data removed]",
      "text/plain": [
       "<Figure size 432x288 with 1 Axes>"
      ]
     },
     "metadata": {
      "needs_background": "light"
     },
     "output_type": "display_data"
    }
   ],
   "source": [
    "pd.Series(gap_outputs[116]).plot.kde(bw_method=0.02)"
   ]
  },
  {
   "cell_type": "code",
   "execution_count": 42,
   "metadata": {
    "scrolled": false
   },
   "outputs": [
    {
     "data": {
      "text/html": [
       "<div>\n",
       "<style scoped>\n",
       "    .dataframe tbody tr th:only-of-type {\n",
       "        vertical-align: middle;\n",
       "    }\n",
       "\n",
       "    .dataframe tbody tr th {\n",
       "        vertical-align: top;\n",
       "    }\n",
       "\n",
       "    .dataframe thead th {\n",
       "        text-align: right;\n",
       "    }\n",
       "</style>\n",
       "<table border=\"1\" class=\"dataframe\">\n",
       "  <thead>\n",
       "    <tr style=\"text-align: right;\">\n",
       "      <th></th>\n",
       "      <th>0</th>\n",
       "      <th>1</th>\n",
       "      <th>2</th>\n",
       "      <th>3</th>\n",
       "      <th>4</th>\n",
       "      <th>5</th>\n",
       "      <th>6</th>\n",
       "      <th>7</th>\n",
       "      <th>8</th>\n",
       "      <th>9</th>\n",
       "      <th>...</th>\n",
       "      <th>502</th>\n",
       "      <th>503</th>\n",
       "      <th>504</th>\n",
       "      <th>505</th>\n",
       "      <th>506</th>\n",
       "      <th>507</th>\n",
       "      <th>508</th>\n",
       "      <th>509</th>\n",
       "      <th>510</th>\n",
       "      <th>511</th>\n",
       "    </tr>\n",
       "  </thead>\n",
       "  <tbody>\n",
       "    <tr>\n",
       "      <th>0</th>\n",
       "      <td>0.142803</td>\n",
       "      <td>0.400475</td>\n",
       "      <td>0.134664</td>\n",
       "      <td>0.075232</td>\n",
       "      <td>0.161829</td>\n",
       "      <td>0.335772</td>\n",
       "      <td>0.034391</td>\n",
       "      <td>0.178221</td>\n",
       "      <td>0.228338</td>\n",
       "      <td>0.079080</td>\n",
       "      <td>...</td>\n",
       "      <td>0.218878</td>\n",
       "      <td>0.476947</td>\n",
       "      <td>0.042160</td>\n",
       "      <td>0.302460</td>\n",
       "      <td>0.281130</td>\n",
       "      <td>0.048943</td>\n",
       "      <td>0.092393</td>\n",
       "      <td>0.308245</td>\n",
       "      <td>0.176064</td>\n",
       "      <td>0.020658</td>\n",
       "    </tr>\n",
       "    <tr>\n",
       "      <th>1</th>\n",
       "      <td>0.153040</td>\n",
       "      <td>0.369468</td>\n",
       "      <td>0.343546</td>\n",
       "      <td>0.159964</td>\n",
       "      <td>0.177989</td>\n",
       "      <td>0.296884</td>\n",
       "      <td>0.026182</td>\n",
       "      <td>0.111398</td>\n",
       "      <td>0.232975</td>\n",
       "      <td>0.071310</td>\n",
       "      <td>...</td>\n",
       "      <td>0.136407</td>\n",
       "      <td>0.148069</td>\n",
       "      <td>0.051981</td>\n",
       "      <td>0.146548</td>\n",
       "      <td>0.241734</td>\n",
       "      <td>0.123167</td>\n",
       "      <td>0.069215</td>\n",
       "      <td>0.228878</td>\n",
       "      <td>0.172204</td>\n",
       "      <td>0.022260</td>\n",
       "    </tr>\n",
       "    <tr>\n",
       "      <th>2</th>\n",
       "      <td>0.105058</td>\n",
       "      <td>0.218708</td>\n",
       "      <td>0.427899</td>\n",
       "      <td>0.148000</td>\n",
       "      <td>0.038263</td>\n",
       "      <td>0.384796</td>\n",
       "      <td>0.042876</td>\n",
       "      <td>0.116903</td>\n",
       "      <td>0.126105</td>\n",
       "      <td>0.052608</td>\n",
       "      <td>...</td>\n",
       "      <td>0.233396</td>\n",
       "      <td>0.153381</td>\n",
       "      <td>0.012768</td>\n",
       "      <td>0.152117</td>\n",
       "      <td>0.134829</td>\n",
       "      <td>0.057846</td>\n",
       "      <td>0.071152</td>\n",
       "      <td>0.054373</td>\n",
       "      <td>0.067675</td>\n",
       "      <td>0.016740</td>\n",
       "    </tr>\n",
       "    <tr>\n",
       "      <th>3</th>\n",
       "      <td>0.126020</td>\n",
       "      <td>0.440626</td>\n",
       "      <td>0.223603</td>\n",
       "      <td>0.133866</td>\n",
       "      <td>0.113369</td>\n",
       "      <td>0.259057</td>\n",
       "      <td>0.200247</td>\n",
       "      <td>0.128830</td>\n",
       "      <td>0.304532</td>\n",
       "      <td>0.143829</td>\n",
       "      <td>...</td>\n",
       "      <td>0.191846</td>\n",
       "      <td>0.366552</td>\n",
       "      <td>0.021012</td>\n",
       "      <td>0.415277</td>\n",
       "      <td>0.288085</td>\n",
       "      <td>0.273792</td>\n",
       "      <td>0.198327</td>\n",
       "      <td>0.299434</td>\n",
       "      <td>0.222212</td>\n",
       "      <td>0.117026</td>\n",
       "    </tr>\n",
       "    <tr>\n",
       "      <th>4</th>\n",
       "      <td>0.158089</td>\n",
       "      <td>0.062936</td>\n",
       "      <td>0.228385</td>\n",
       "      <td>0.224262</td>\n",
       "      <td>0.195025</td>\n",
       "      <td>0.133689</td>\n",
       "      <td>0.054723</td>\n",
       "      <td>0.104017</td>\n",
       "      <td>0.008573</td>\n",
       "      <td>0.202741</td>\n",
       "      <td>...</td>\n",
       "      <td>0.084686</td>\n",
       "      <td>0.025523</td>\n",
       "      <td>0.125536</td>\n",
       "      <td>0.059776</td>\n",
       "      <td>0.009763</td>\n",
       "      <td>0.124605</td>\n",
       "      <td>0.063370</td>\n",
       "      <td>0.249394</td>\n",
       "      <td>0.058870</td>\n",
       "      <td>0.029997</td>\n",
       "    </tr>\n",
       "    <tr>\n",
       "      <th>...</th>\n",
       "      <td>...</td>\n",
       "      <td>...</td>\n",
       "      <td>...</td>\n",
       "      <td>...</td>\n",
       "      <td>...</td>\n",
       "      <td>...</td>\n",
       "      <td>...</td>\n",
       "      <td>...</td>\n",
       "      <td>...</td>\n",
       "      <td>...</td>\n",
       "      <td>...</td>\n",
       "      <td>...</td>\n",
       "      <td>...</td>\n",
       "      <td>...</td>\n",
       "      <td>...</td>\n",
       "      <td>...</td>\n",
       "      <td>...</td>\n",
       "      <td>...</td>\n",
       "      <td>...</td>\n",
       "      <td>...</td>\n",
       "      <td>...</td>\n",
       "    </tr>\n",
       "    <tr>\n",
       "      <th>50247</th>\n",
       "      <td>0.024017</td>\n",
       "      <td>0.529761</td>\n",
       "      <td>0.392485</td>\n",
       "      <td>0.132199</td>\n",
       "      <td>0.021490</td>\n",
       "      <td>0.708420</td>\n",
       "      <td>0.004376</td>\n",
       "      <td>0.071726</td>\n",
       "      <td>0.014480</td>\n",
       "      <td>0.544205</td>\n",
       "      <td>...</td>\n",
       "      <td>0.359036</td>\n",
       "      <td>0.178483</td>\n",
       "      <td>0.105762</td>\n",
       "      <td>0.381127</td>\n",
       "      <td>0.000000</td>\n",
       "      <td>0.587985</td>\n",
       "      <td>0.079742</td>\n",
       "      <td>0.005765</td>\n",
       "      <td>0.006367</td>\n",
       "      <td>0.017379</td>\n",
       "    </tr>\n",
       "    <tr>\n",
       "      <th>50248</th>\n",
       "      <td>0.093362</td>\n",
       "      <td>0.533998</td>\n",
       "      <td>0.405788</td>\n",
       "      <td>0.156721</td>\n",
       "      <td>0.002338</td>\n",
       "      <td>0.579458</td>\n",
       "      <td>0.044787</td>\n",
       "      <td>0.176960</td>\n",
       "      <td>0.009811</td>\n",
       "      <td>0.499926</td>\n",
       "      <td>...</td>\n",
       "      <td>0.436967</td>\n",
       "      <td>0.315911</td>\n",
       "      <td>0.208208</td>\n",
       "      <td>0.438174</td>\n",
       "      <td>0.037188</td>\n",
       "      <td>0.589422</td>\n",
       "      <td>0.043713</td>\n",
       "      <td>0.023868</td>\n",
       "      <td>0.026106</td>\n",
       "      <td>0.019453</td>\n",
       "    </tr>\n",
       "    <tr>\n",
       "      <th>50249</th>\n",
       "      <td>0.014703</td>\n",
       "      <td>0.549547</td>\n",
       "      <td>0.378694</td>\n",
       "      <td>0.142741</td>\n",
       "      <td>0.018892</td>\n",
       "      <td>0.649889</td>\n",
       "      <td>0.018734</td>\n",
       "      <td>0.098782</td>\n",
       "      <td>0.029179</td>\n",
       "      <td>0.936829</td>\n",
       "      <td>...</td>\n",
       "      <td>0.336168</td>\n",
       "      <td>0.285051</td>\n",
       "      <td>0.175838</td>\n",
       "      <td>0.394663</td>\n",
       "      <td>0.037916</td>\n",
       "      <td>0.547642</td>\n",
       "      <td>0.040543</td>\n",
       "      <td>0.025586</td>\n",
       "      <td>0.012245</td>\n",
       "      <td>0.010893</td>\n",
       "    </tr>\n",
       "    <tr>\n",
       "      <th>50250</th>\n",
       "      <td>0.130718</td>\n",
       "      <td>0.577925</td>\n",
       "      <td>0.353213</td>\n",
       "      <td>0.089060</td>\n",
       "      <td>0.038444</td>\n",
       "      <td>0.597074</td>\n",
       "      <td>0.022201</td>\n",
       "      <td>0.076431</td>\n",
       "      <td>0.010245</td>\n",
       "      <td>0.433426</td>\n",
       "      <td>...</td>\n",
       "      <td>0.380023</td>\n",
       "      <td>0.363627</td>\n",
       "      <td>0.118584</td>\n",
       "      <td>0.550807</td>\n",
       "      <td>0.023213</td>\n",
       "      <td>0.756092</td>\n",
       "      <td>0.035423</td>\n",
       "      <td>0.017822</td>\n",
       "      <td>0.040728</td>\n",
       "      <td>0.006346</td>\n",
       "    </tr>\n",
       "    <tr>\n",
       "      <th>50251</th>\n",
       "      <td>0.074802</td>\n",
       "      <td>0.511034</td>\n",
       "      <td>0.240227</td>\n",
       "      <td>0.122885</td>\n",
       "      <td>0.022717</td>\n",
       "      <td>0.704477</td>\n",
       "      <td>0.056898</td>\n",
       "      <td>0.099791</td>\n",
       "      <td>0.059086</td>\n",
       "      <td>0.404906</td>\n",
       "      <td>...</td>\n",
       "      <td>0.409624</td>\n",
       "      <td>0.318817</td>\n",
       "      <td>0.200507</td>\n",
       "      <td>0.346482</td>\n",
       "      <td>0.091107</td>\n",
       "      <td>0.591878</td>\n",
       "      <td>0.030512</td>\n",
       "      <td>0.030610</td>\n",
       "      <td>0.042899</td>\n",
       "      <td>0.014392</td>\n",
       "    </tr>\n",
       "  </tbody>\n",
       "</table>\n",
       "<p>50252 rows × 512 columns</p>\n",
       "</div>"
      ],
      "text/plain": [
       "            0         1         2         3         4         5         6    \\\n",
       "0      0.142803  0.400475  0.134664  0.075232  0.161829  0.335772  0.034391   \n",
       "1      0.153040  0.369468  0.343546  0.159964  0.177989  0.296884  0.026182   \n",
       "2      0.105058  0.218708  0.427899  0.148000  0.038263  0.384796  0.042876   \n",
       "3      0.126020  0.440626  0.223603  0.133866  0.113369  0.259057  0.200247   \n",
       "4      0.158089  0.062936  0.228385  0.224262  0.195025  0.133689  0.054723   \n",
       "...         ...       ...       ...       ...       ...       ...       ...   \n",
       "50247  0.024017  0.529761  0.392485  0.132199  0.021490  0.708420  0.004376   \n",
       "50248  0.093362  0.533998  0.405788  0.156721  0.002338  0.579458  0.044787   \n",
       "50249  0.014703  0.549547  0.378694  0.142741  0.018892  0.649889  0.018734   \n",
       "50250  0.130718  0.577925  0.353213  0.089060  0.038444  0.597074  0.022201   \n",
       "50251  0.074802  0.511034  0.240227  0.122885  0.022717  0.704477  0.056898   \n",
       "\n",
       "            7         8         9    ...       502       503       504  \\\n",
       "0      0.178221  0.228338  0.079080  ...  0.218878  0.476947  0.042160   \n",
       "1      0.111398  0.232975  0.071310  ...  0.136407  0.148069  0.051981   \n",
       "2      0.116903  0.126105  0.052608  ...  0.233396  0.153381  0.012768   \n",
       "3      0.128830  0.304532  0.143829  ...  0.191846  0.366552  0.021012   \n",
       "4      0.104017  0.008573  0.202741  ...  0.084686  0.025523  0.125536   \n",
       "...         ...       ...       ...  ...       ...       ...       ...   \n",
       "50247  0.071726  0.014480  0.544205  ...  0.359036  0.178483  0.105762   \n",
       "50248  0.176960  0.009811  0.499926  ...  0.436967  0.315911  0.208208   \n",
       "50249  0.098782  0.029179  0.936829  ...  0.336168  0.285051  0.175838   \n",
       "50250  0.076431  0.010245  0.433426  ...  0.380023  0.363627  0.118584   \n",
       "50251  0.099791  0.059086  0.404906  ...  0.409624  0.318817  0.200507   \n",
       "\n",
       "            505       506       507       508       509       510       511  \n",
       "0      0.302460  0.281130  0.048943  0.092393  0.308245  0.176064  0.020658  \n",
       "1      0.146548  0.241734  0.123167  0.069215  0.228878  0.172204  0.022260  \n",
       "2      0.152117  0.134829  0.057846  0.071152  0.054373  0.067675  0.016740  \n",
       "3      0.415277  0.288085  0.273792  0.198327  0.299434  0.222212  0.117026  \n",
       "4      0.059776  0.009763  0.124605  0.063370  0.249394  0.058870  0.029997  \n",
       "...         ...       ...       ...       ...       ...       ...       ...  \n",
       "50247  0.381127  0.000000  0.587985  0.079742  0.005765  0.006367  0.017379  \n",
       "50248  0.438174  0.037188  0.589422  0.043713  0.023868  0.026106  0.019453  \n",
       "50249  0.394663  0.037916  0.547642  0.040543  0.025586  0.012245  0.010893  \n",
       "50250  0.550807  0.023213  0.756092  0.035423  0.017822  0.040728  0.006346  \n",
       "50251  0.346482  0.091107  0.591878  0.030512  0.030610  0.042899  0.014392  \n",
       "\n",
       "[50252 rows x 512 columns]"
      ]
     },
     "execution_count": 42,
     "metadata": {},
     "output_type": "execute_result"
    }
   ],
   "source": [
    "df_gap = pd.DataFrame(gap_outputs)\n",
    "df_gap"
   ]
  },
  {
   "cell_type": "code",
   "execution_count": 43,
   "metadata": {},
   "outputs": [],
   "source": [
    "df_gap.to_csv(\"vgg_5y_activation.csv.gz\")"
   ]
  },
  {
   "cell_type": "code",
   "execution_count": null,
   "metadata": {},
   "outputs": [],
   "source": []
  }
 ],
 "metadata": {
  "kernelspec": {
   "display_name": "Python 3",
   "language": "python",
   "name": "python3"
  },
  "language_info": {
   "codemirror_mode": {
    "name": "ipython",
    "version": 3
   },
   "file_extension": ".py",
   "mimetype": "text/x-python",
   "name": "python",
   "nbconvert_exporter": "python",
   "pygments_lexer": "ipython3",
   "version": "3.6.9"
  }
 },
 "nbformat": 4,
 "nbformat_minor": 4
}
