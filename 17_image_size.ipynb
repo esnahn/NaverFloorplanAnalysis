{
 "cells": [
  {
   "cell_type": "code",
   "execution_count": 8,
   "metadata": {},
   "outputs": [],
   "source": [
    "%matplotlib inline\n",
    "\n",
    "from PIL import Image\n",
    "\n",
    "import cv2, matplotlib\n",
    "import numpy as np\n",
    "\n",
    "from math import sqrt\n",
    "\n",
    "import matplotlib.pyplot as plt\n",
    "\n",
    "from os.path import expanduser, splitext\n",
    "from os import scandir, makedirs\n",
    "\n",
    "import csv\n",
    "\n",
    "from tqdm.notebook import trange, tqdm\n",
    "\n",
    "from pathlib import Path\n",
    "\n",
    "debug = False  # plot every steps"
   ]
  },
  {
   "cell_type": "code",
   "execution_count": 9,
   "metadata": {},
   "outputs": [],
   "source": [
    "def read_from_csv(filepath):\n",
    "    if Path(filepath).is_file():\n",
    "\n",
    "        with open(filepath, \"r\", newline=\"\", encoding=\"utf-8-sig\") as csvfile:\n",
    "            listreader = csv.reader(csvfile)\n",
    "            columns = next(listreader)\n",
    "            readlist = list(listreader)\n",
    "\n",
    "    else:\n",
    "        columns = []\n",
    "        readlist = []\n",
    "\n",
    "    return columns, readlist\n",
    "\n"
   ]
  },
  {
   "cell_type": "markdown",
   "metadata": {},
   "source": [
    "# CSV"
   ]
  },
  {
   "cell_type": "code",
   "execution_count": 10,
   "metadata": {},
   "outputs": [
    {
     "name": "stdout",
     "output_type": "stream",
     "text": [
      "50399 floorplans\n"
     ]
    }
   ],
   "source": [
    "dir_from = \"/data/fp_img_processed/\"\n",
    "\n",
    "csv_to = \"size.csv\"\n",
    "\n",
    "### all of the plans\n",
    "ID_path_dict = {\n",
    "    splitext(f.name)[0]: f.path\n",
    "    for f in scandir(dir_from)\n",
    "    if f.is_file()\n",
    "}\n",
    "print(len(ID_path_dict.keys()), \"floorplans\")"
   ]
  },
  {
   "cell_type": "code",
   "execution_count": 11,
   "metadata": {
    "scrolled": true
   },
   "outputs": [
    {
     "data": {
      "text/plain": [
       "[('3803_145', '/data/fp_img_processed/3803_145.png'),\n",
       " ('112076_61B1d', '/data/fp_img_processed/112076_61B1d.png'),\n",
       " ('1200_85A', '/data/fp_img_processed/1200_85A.png'),\n",
       " ('2604_104(동신)', '/data/fp_img_processed/2604_104(동신).png'),\n",
       " ('3039_154B', '/data/fp_img_processed/3039_154B.png'),\n",
       " ('100273_82', '/data/fp_img_processed/100273_82.png'),\n",
       " ('9155_149', '/data/fp_img_processed/9155_149.png'),\n",
       " ('19690_192', '/data/fp_img_processed/19690_192.png'),\n",
       " ('1912_71', '/data/fp_img_processed/1912_71.png'),\n",
       " ('105094_150', '/data/fp_img_processed/105094_150.png')]"
      ]
     },
     "execution_count": 11,
     "metadata": {},
     "output_type": "execute_result"
    }
   ],
   "source": [
    "list(ID_path_dict.items())[:10]"
   ]
  },
  {
   "cell_type": "code",
   "execution_count": 14,
   "metadata": {},
   "outputs": [
    {
     "data": {
      "application/vnd.jupyter.widget-view+json": {
       "model_id": "acfdcf25904443d28719832e6b3e2a56",
       "version_major": 2,
       "version_minor": 0
      },
      "text/plain": [
       "HBox(children=(FloatProgress(value=0.0, description='Processing plans', max=50399.0, style=ProgressStyle(descr…"
      ]
     },
     "metadata": {},
     "output_type": "display_data"
    },
    {
     "name": "stdout",
     "output_type": "stream",
     "text": [
      "\n",
      "0\n",
      "[]\n"
     ]
    }
   ],
   "source": [
    "with open(csv_to, \"w\", newline=\"\", encoding=\"utf-8-sig\") as csvfile:\n",
    "    listwriter = csv.writer(csvfile)\n",
    "    \n",
    "    IDs_error = []\n",
    "    for ID, path in tqdm(ID_path_dict.items(), desc=\"Processing plans\"):\n",
    "        try:\n",
    "            with Image.open(path) as im:\n",
    "                width, height = im.size\n",
    "            listwriter.writerow([ID, width, height])\n",
    "        except:\n",
    "            IDs_error.append(ID)\n",
    "    print(len(IDs_error))\n",
    "    print(IDs_error)"
   ]
  },
  {
   "cell_type": "markdown",
   "metadata": {},
   "source": [
    "# analysis"
   ]
  },
  {
   "cell_type": "code",
   "execution_count": 27,
   "metadata": {},
   "outputs": [],
   "source": [
    "import pandas as pd\n",
    "\n",
    "df = pd.read_csv(csv_to, names=[\"ID\", \"width\", \"height\"])\n",
    "df = df.set_index(\"ID\")"
   ]
  },
  {
   "cell_type": "code",
   "execution_count": 28,
   "metadata": {},
   "outputs": [
    {
     "data": {
      "text/html": [
       "<div>\n",
       "<style scoped>\n",
       "    .dataframe tbody tr th:only-of-type {\n",
       "        vertical-align: middle;\n",
       "    }\n",
       "\n",
       "    .dataframe tbody tr th {\n",
       "        vertical-align: top;\n",
       "    }\n",
       "\n",
       "    .dataframe thead th {\n",
       "        text-align: right;\n",
       "    }\n",
       "</style>\n",
       "<table border=\"1\" class=\"dataframe\">\n",
       "  <thead>\n",
       "    <tr style=\"text-align: right;\">\n",
       "      <th></th>\n",
       "      <th>width</th>\n",
       "      <th>height</th>\n",
       "    </tr>\n",
       "    <tr>\n",
       "      <th>ID</th>\n",
       "      <th></th>\n",
       "      <th></th>\n",
       "    </tr>\n",
       "  </thead>\n",
       "  <tbody>\n",
       "    <tr>\n",
       "      <th>3803_145</th>\n",
       "      <td>61</td>\n",
       "      <td>63</td>\n",
       "    </tr>\n",
       "    <tr>\n",
       "      <th>112076_61B1d</th>\n",
       "      <td>47</td>\n",
       "      <td>35</td>\n",
       "    </tr>\n",
       "    <tr>\n",
       "      <th>1200_85A</th>\n",
       "      <td>55</td>\n",
       "      <td>37</td>\n",
       "    </tr>\n",
       "    <tr>\n",
       "      <th>2604_104(동신)</th>\n",
       "      <td>50</td>\n",
       "      <td>63</td>\n",
       "    </tr>\n",
       "    <tr>\n",
       "      <th>3039_154B</th>\n",
       "      <td>56</td>\n",
       "      <td>75</td>\n",
       "    </tr>\n",
       "    <tr>\n",
       "      <th>...</th>\n",
       "      <td>...</td>\n",
       "      <td>...</td>\n",
       "    </tr>\n",
       "    <tr>\n",
       "      <th>12238_105B</th>\n",
       "      <td>55</td>\n",
       "      <td>83</td>\n",
       "    </tr>\n",
       "    <tr>\n",
       "      <th>103025_83A3</th>\n",
       "      <td>41</td>\n",
       "      <td>78</td>\n",
       "    </tr>\n",
       "    <tr>\n",
       "      <th>23002_108</th>\n",
       "      <td>42</td>\n",
       "      <td>73</td>\n",
       "    </tr>\n",
       "    <tr>\n",
       "      <th>772_156</th>\n",
       "      <td>72</td>\n",
       "      <td>68</td>\n",
       "    </tr>\n",
       "    <tr>\n",
       "      <th>2690_161</th>\n",
       "      <td>69</td>\n",
       "      <td>66</td>\n",
       "    </tr>\n",
       "  </tbody>\n",
       "</table>\n",
       "<p>50399 rows × 2 columns</p>\n",
       "</div>"
      ],
      "text/plain": [
       "              width  height\n",
       "ID                         \n",
       "3803_145         61      63\n",
       "112076_61B1d     47      35\n",
       "1200_85A         55      37\n",
       "2604_104(동신)     50      63\n",
       "3039_154B        56      75\n",
       "...             ...     ...\n",
       "12238_105B       55      83\n",
       "103025_83A3      41      78\n",
       "23002_108        42      73\n",
       "772_156          72      68\n",
       "2690_161         69      66\n",
       "\n",
       "[50399 rows x 2 columns]"
      ]
     },
     "execution_count": 28,
     "metadata": {},
     "output_type": "execute_result"
    }
   ],
   "source": [
    "df"
   ]
  },
  {
   "cell_type": "code",
   "execution_count": 31,
   "metadata": {},
   "outputs": [
    {
     "data": {
      "image/png": "[encoded data removed]",
      "text/plain": [
       "<Figure size 432x288 with 1 Axes>"
      ]
     },
     "metadata": {
      "needs_background": "light"
     },
     "output_type": "display_data"
    }
   ],
   "source": [
    "ax = df.width.plot.kde()\n",
    "ax.axvline"
   ]
  },
  {
   "cell_type": "code",
   "execution_count": 30,
   "metadata": {},
   "outputs": [
    {
     "data": {
      "text/plain": [
       "<matplotlib.axes._subplots.AxesSubplot at 0x7f080dcd2c88>"
      ]
     },
     "execution_count": 30,
     "metadata": {},
     "output_type": "execute_result"
    },
    {
     "data": {
      "image/png": "[encoded data removed]",
      "text/plain": [
       "<Figure size 432x288 with 1 Axes>"
      ]
     },
     "metadata": {
      "needs_background": "light"
     },
     "output_type": "display_data"
    }
   ],
   "source": [
    "df.height.plot.kde()"
   ]
  },
  {
   "cell_type": "code",
   "execution_count": null,
   "metadata": {},
   "outputs": [],
   "source": []
  }
 ],
 "metadata": {
  "kernelspec": {
   "display_name": "Python 3",
   "language": "python",
   "name": "python3"
  },
  "language_info": {
   "codemirror_mode": {
    "name": "ipython",
    "version": 3
   },
   "file_extension": ".py",
   "mimetype": "text/x-python",
   "name": "python",
   "nbconvert_exporter": "python",
   "pygments_lexer": "ipython3",
   "version": "3.6.9"
  }
 },
 "nbformat": 4,
 "nbformat_minor": 2
}
