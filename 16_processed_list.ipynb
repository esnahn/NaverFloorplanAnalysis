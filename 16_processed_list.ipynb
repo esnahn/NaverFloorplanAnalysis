{
 "cells": [
  {
   "cell_type": "code",
   "execution_count": 1,
   "metadata": {},
   "outputs": [],
   "source": [
    "%matplotlib inline\n",
    "\n",
    "from PIL import Image\n",
    "\n",
    "import cv2, matplotlib\n",
    "import numpy as np\n",
    "\n",
    "from math import sqrt\n",
    "\n",
    "import matplotlib.pyplot as plt\n",
    "\n",
    "from os.path import expanduser, splitext\n",
    "from os import scandir, makedirs\n",
    "\n",
    "import csv\n",
    "\n",
    "from tqdm.notebook import trange, tqdm\n",
    "\n",
    "from pathlib import Path\n",
    "\n",
    "debug = False  # plot every steps"
   ]
  },
  {
   "cell_type": "code",
   "execution_count": 2,
   "metadata": {},
   "outputs": [],
   "source": [
    "from floorplan_analysis import read_from_csv"
   ]
  },
  {
   "cell_type": "markdown",
   "metadata": {},
   "source": [
    "# CSV"
   ]
  },
  {
   "cell_type": "code",
   "execution_count": 3,
   "metadata": {},
   "outputs": [
    {
     "name": "stdout",
     "output_type": "stream",
     "text": [
      "50252 floorplans\n"
     ]
    }
   ],
   "source": [
    "dir_from = \"/data/fp_img_processed/\"\n",
    "\n",
    "csv_to = \"processed.csv\"\n",
    "\n",
    "### all of the plans\n",
    "ID_path_dict = {\n",
    "    splitext(f.name)[0]: f.path\n",
    "    for f in scandir(dir_from)\n",
    "    if f.is_file()\n",
    "}\n",
    "print(len(ID_path_dict.keys()), \"floorplans\")"
   ]
  },
  {
   "cell_type": "code",
   "execution_count": 4,
   "metadata": {
    "scrolled": true
   },
   "outputs": [
    {
     "data": {
      "text/plain": [
       "[('3803_145', '/data/fp_img_processed/3803_145.png'),\n",
       " ('112076_61B1d', '/data/fp_img_processed/112076_61B1d.png'),\n",
       " ('1200_85A', '/data/fp_img_processed/1200_85A.png'),\n",
       " ('2604_104(동신)', '/data/fp_img_processed/2604_104(동신).png'),\n",
       " ('3039_154B', '/data/fp_img_processed/3039_154B.png'),\n",
       " ('100273_82', '/data/fp_img_processed/100273_82.png'),\n",
       " ('9155_149', '/data/fp_img_processed/9155_149.png'),\n",
       " ('19690_192', '/data/fp_img_processed/19690_192.png'),\n",
       " ('1912_71', '/data/fp_img_processed/1912_71.png'),\n",
       " ('105094_150', '/data/fp_img_processed/105094_150.png')]"
      ]
     },
     "execution_count": 4,
     "metadata": {},
     "output_type": "execute_result"
    }
   ],
   "source": [
    "list(ID_path_dict.items())[:10]"
   ]
  },
  {
   "cell_type": "code",
   "execution_count": 5,
   "metadata": {},
   "outputs": [
    {
     "data": {
      "application/vnd.jupyter.widget-view+json": {
       "model_id": "db274c599fe24b2582fb4dc686f090a4",
       "version_major": 2,
       "version_minor": 0
      },
      "text/plain": [
       "HBox(children=(FloatProgress(value=0.0, description='Processing plans', max=50252.0, style=ProgressStyle(descr…"
      ]
     },
     "metadata": {},
     "output_type": "display_data"
    },
    {
     "name": "stdout",
     "output_type": "stream",
     "text": [
      "\n",
      "0\n",
      "[]\n"
     ]
    }
   ],
   "source": [
    "with open(csv_to, \"w\", newline=\"\", encoding=\"utf-8-sig\") as csvfile:\n",
    "    listwriter = csv.writer(csvfile)\n",
    "    listwriter.writerow([\"ID\"])\n",
    "    \n",
    "    IDs_error = []\n",
    "    for ID, path in tqdm(ID_path_dict.items(), desc=\"Processing plans\"):\n",
    "        try:\n",
    "            listwriter.writerow([ID])\n",
    "        except:\n",
    "            IDs_error.append(ID)\n",
    "    print(len(IDs_error))\n",
    "    print(IDs_error)"
   ]
  },
  {
   "cell_type": "markdown",
   "metadata": {},
   "source": [
    "# analysis"
   ]
  },
  {
   "cell_type": "code",
   "execution_count": 6,
   "metadata": {},
   "outputs": [],
   "source": [
    "import pandas as pd\n",
    "\n",
    "df = pd.read_csv(csv_to)\n",
    "# df = df.set_index(\"ID\")"
   ]
  },
  {
   "cell_type": "code",
   "execution_count": 7,
   "metadata": {},
   "outputs": [
    {
     "data": {
      "text/html": [
       "<div>\n",
       "<style scoped>\n",
       "    .dataframe tbody tr th:only-of-type {\n",
       "        vertical-align: middle;\n",
       "    }\n",
       "\n",
       "    .dataframe tbody tr th {\n",
       "        vertical-align: top;\n",
       "    }\n",
       "\n",
       "    .dataframe thead th {\n",
       "        text-align: right;\n",
       "    }\n",
       "</style>\n",
       "<table border=\"1\" class=\"dataframe\">\n",
       "  <thead>\n",
       "    <tr style=\"text-align: right;\">\n",
       "      <th></th>\n",
       "      <th>ID</th>\n",
       "    </tr>\n",
       "  </thead>\n",
       "  <tbody>\n",
       "    <tr>\n",
       "      <th>0</th>\n",
       "      <td>3803_145</td>\n",
       "    </tr>\n",
       "    <tr>\n",
       "      <th>1</th>\n",
       "      <td>112076_61B1d</td>\n",
       "    </tr>\n",
       "    <tr>\n",
       "      <th>2</th>\n",
       "      <td>1200_85A</td>\n",
       "    </tr>\n",
       "    <tr>\n",
       "      <th>3</th>\n",
       "      <td>2604_104(동신)</td>\n",
       "    </tr>\n",
       "    <tr>\n",
       "      <th>4</th>\n",
       "      <td>3039_154B</td>\n",
       "    </tr>\n",
       "    <tr>\n",
       "      <th>...</th>\n",
       "      <td>...</td>\n",
       "    </tr>\n",
       "    <tr>\n",
       "      <th>50247</th>\n",
       "      <td>12238_105B</td>\n",
       "    </tr>\n",
       "    <tr>\n",
       "      <th>50248</th>\n",
       "      <td>103025_83A3</td>\n",
       "    </tr>\n",
       "    <tr>\n",
       "      <th>50249</th>\n",
       "      <td>23002_108</td>\n",
       "    </tr>\n",
       "    <tr>\n",
       "      <th>50250</th>\n",
       "      <td>772_156</td>\n",
       "    </tr>\n",
       "    <tr>\n",
       "      <th>50251</th>\n",
       "      <td>2690_161</td>\n",
       "    </tr>\n",
       "  </tbody>\n",
       "</table>\n",
       "<p>50252 rows × 1 columns</p>\n",
       "</div>"
      ],
      "text/plain": [
       "                 ID\n",
       "0          3803_145\n",
       "1      112076_61B1d\n",
       "2          1200_85A\n",
       "3      2604_104(동신)\n",
       "4         3039_154B\n",
       "...             ...\n",
       "50247    12238_105B\n",
       "50248   103025_83A3\n",
       "50249     23002_108\n",
       "50250       772_156\n",
       "50251      2690_161\n",
       "\n",
       "[50252 rows x 1 columns]"
      ]
     },
     "execution_count": 7,
     "metadata": {},
     "output_type": "execute_result"
    }
   ],
   "source": [
    "df"
   ]
  },
  {
   "cell_type": "code",
   "execution_count": 8,
   "metadata": {},
   "outputs": [
    {
     "data": {
      "text/html": [
       "<div>\n",
       "<style scoped>\n",
       "    .dataframe tbody tr th:only-of-type {\n",
       "        vertical-align: middle;\n",
       "    }\n",
       "\n",
       "    .dataframe tbody tr th {\n",
       "        vertical-align: top;\n",
       "    }\n",
       "\n",
       "    .dataframe thead th {\n",
       "        text-align: right;\n",
       "    }\n",
       "</style>\n",
       "<table border=\"1\" class=\"dataframe\">\n",
       "  <thead>\n",
       "    <tr style=\"text-align: right;\">\n",
       "      <th></th>\n",
       "      <th>ID</th>\n",
       "    </tr>\n",
       "  </thead>\n",
       "  <tbody>\n",
       "    <tr>\n",
       "      <th>50252</th>\n",
       "      <td>105656_80B</td>\n",
       "    </tr>\n",
       "    <tr>\n",
       "      <th>50253</th>\n",
       "      <td>13091_162</td>\n",
       "    </tr>\n",
       "    <tr>\n",
       "      <th>50254</th>\n",
       "      <td>13666_265</td>\n",
       "    </tr>\n",
       "    <tr>\n",
       "      <th>50255</th>\n",
       "      <td>27414_126A</td>\n",
       "    </tr>\n",
       "    <tr>\n",
       "      <th>50256</th>\n",
       "      <td>3787_82B</td>\n",
       "    </tr>\n",
       "    <tr>\n",
       "      <th>...</th>\n",
       "      <td>...</td>\n",
       "    </tr>\n",
       "    <tr>\n",
       "      <th>50385</th>\n",
       "      <td>12238_105B</td>\n",
       "    </tr>\n",
       "    <tr>\n",
       "      <th>50386</th>\n",
       "      <td>103025_83A3</td>\n",
       "    </tr>\n",
       "    <tr>\n",
       "      <th>50387</th>\n",
       "      <td>23002_108</td>\n",
       "    </tr>\n",
       "    <tr>\n",
       "      <th>50388</th>\n",
       "      <td>772_156</td>\n",
       "    </tr>\n",
       "    <tr>\n",
       "      <th>50389</th>\n",
       "      <td>2690_161</td>\n",
       "    </tr>\n",
       "  </tbody>\n",
       "</table>\n",
       "<p>138 rows × 1 columns</p>\n",
       "</div>"
      ],
      "text/plain": [
       "                ID\n",
       "50252   105656_80B\n",
       "50253    13091_162\n",
       "50254    13666_265\n",
       "50255   27414_126A\n",
       "50256     3787_82B\n",
       "...            ...\n",
       "50385   12238_105B\n",
       "50386  103025_83A3\n",
       "50387    23002_108\n",
       "50388      772_156\n",
       "50389     2690_161\n",
       "\n",
       "[138 rows x 1 columns]"
      ]
     },
     "execution_count": 8,
     "metadata": {},
     "output_type": "execute_result"
    }
   ],
   "source": [
    "df_old = pd.read_csv(\"processed_0812.csv\")\n",
    "\n",
    "df_old[~df_old.index.isin(df.index)]"
   ]
  },
  {
   "cell_type": "code",
   "execution_count": null,
   "metadata": {},
   "outputs": [],
   "source": []
  }
 ],
 "metadata": {
  "kernelspec": {
   "display_name": "Python 3",
   "language": "python",
   "name": "python3"
  },
  "language_info": {
   "codemirror_mode": {
    "name": "ipython",
    "version": 3
   },
   "file_extension": ".py",
   "mimetype": "text/x-python",
   "name": "python",
   "nbconvert_exporter": "python",
   "pygments_lexer": "ipython3",
   "version": "3.6.9"
  }
 },
 "nbformat": 4,
 "nbformat_minor": 2
}
