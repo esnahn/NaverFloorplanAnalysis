{
 "cells": [
  {
   "cell_type": "code",
   "execution_count": 8,
   "metadata": {},
   "outputs": [],
   "source": [
    "!chown -R $(whoami) /data"
   ]
  },
  {
   "cell_type": "code",
   "execution_count": 3,
   "metadata": {},
   "outputs": [
    {
     "name": "stdout",
     "output_type": "stream",
     "text": [
      "LANG=C.UTF-8\r\n",
      "LANGUAGE=C.UTF-8\r\n",
      "LC_CTYPE=\"C.UTF-8\"\r\n",
      "LC_NUMERIC=\"C.UTF-8\"\r\n",
      "LC_TIME=\"C.UTF-8\"\r\n",
      "LC_COLLATE=\"C.UTF-8\"\r\n",
      "LC_MONETARY=\"C.UTF-8\"\r\n",
      "LC_MESSAGES=\"C.UTF-8\"\r\n",
      "LC_PAPER=\"C.UTF-8\"\r\n",
      "LC_NAME=\"C.UTF-8\"\r\n",
      "LC_ADDRESS=\"C.UTF-8\"\r\n",
      "LC_TELEPHONE=\"C.UTF-8\"\r\n",
      "LC_MEASUREMENT=\"C.UTF-8\"\r\n",
      "LC_IDENTIFICATION=\"C.UTF-8\"\r\n",
      "LC_ALL=C.UTF-8\r\n"
     ]
    }
   ],
   "source": [
    "!locale #should be *.UTF-8"
   ]
  },
  {
   "cell_type": "code",
   "execution_count": 4,
   "metadata": {},
   "outputs": [
    {
     "name": "stdout",
     "output_type": "stream",
     "text": [
      "total 7168\r\n",
      "d-wx--x--x 4 root 1000    4096 Jul  4 01:32 .\r\n",
      "drwxr-xr-x 1 root root    4096 Jul  2 08:13 ..\r\n",
      "-rw-r--r-- 1 root 1000 1039792 May 24  2017 apartments.csv\r\n",
      "-rw-r--r-- 1 root 1000  705881 May 24  2017 apt_info.csv\r\n",
      "-rw-r--r-- 1 root 1000  167561 May 24  2017 eupmyeondongs.csv\r\n",
      "drwxr-xr-x 2 root 1000    4096 Jul  2 08:13 exclude\r\n",
      "-rw-r--r-- 1 root 1000 5388199 May 24  2017 floorplans.csv\r\n",
      "drwxr-xr-x 2 root root    4096 Jul  2 12:14 fp_img_processed\r\n",
      "-rw-r--r-- 1 root 1000     428 May 24  2017 sidos.csv\r\n",
      "-rw-r--r-- 1 root 1000    8550 May 24  2017 sigungus.csv\r\n"
     ]
    }
   ],
   "source": [
    "!ls -al /data"
   ]
  },
  {
   "cell_type": "code",
   "execution_count": 2,
   "metadata": {},
   "outputs": [
    {
     "name": "stdout",
     "output_type": "stream",
     "text": [
      "total 36\r\n",
      "drwxr-xr-x 2 root 1000  4096 Jul  2 08:13 .\r\n",
      "d-wx--x--x 4 root 1000  4096 Jul  2 09:20 ..\r\n",
      "-rw-r--r-- 1 root 1000 10543 Jul  2 08:11 fp_img_exclude.csv\r\n",
      "-rw-r--r-- 1 root 1000 10607 Jul  2 08:11 fp_img_multi-level.csv\r\n",
      "-rw-r--r-- 1 root 1000   154 Jul  2 08:11 fp_img_multi-unit.csv\r\n"
     ]
    }
   ],
   "source": [
    "!ls -al /data/exclude/"
   ]
  },
  {
   "cell_type": "code",
   "execution_count": 5,
   "metadata": {},
   "outputs": [
    {
     "name": "stdout",
     "output_type": "stream",
     "text": [
      "rm: cannot remove '/data/fp_img.csv': No such file or directory\r\n"
     ]
    }
   ],
   "source": [
    "!rm /data/fp_img.csv # to re-process"
   ]
  }
 ],
 "metadata": {
  "kernelspec": {
   "display_name": "Python 3",
   "language": "python",
   "name": "python3"
  },
  "language_info": {
   "codemirror_mode": {
    "name": "ipython",
    "version": 3
   },
   "file_extension": ".py",
   "mimetype": "text/x-python",
   "name": "python",
   "nbconvert_exporter": "python",
   "pygments_lexer": "ipython3",
   "version": "3.5.2"
  }
 },
 "nbformat": 4,
 "nbformat_minor": 2
}
