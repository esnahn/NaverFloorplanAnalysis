{
 "cells": [
  {
   "cell_type": "code",
   "execution_count": 1,
   "metadata": {},
   "outputs": [
    {
     "name": "stdout",
     "output_type": "stream",
     "text": [
      "3.6.8 (default, Dec 24 2018, 19:24:27) \n",
      "[GCC 5.4.0 20160609]\n"
     ]
    }
   ],
   "source": [
    "import sys\n",
    "print(sys.version)"
   ]
  },
  {
   "cell_type": "code",
   "execution_count": 2,
   "metadata": {},
   "outputs": [],
   "source": [
    "# https://github.com/eriklindernoren/Keras-GAN/blob/master/infogan/infogan.py\n",
    "\n",
    "import tensorflow as tf\n",
    "from tensorflow.keras.models import Sequential, Model\n",
    "\n",
    "from tensorflow.keras.layers import Input, Dense, Reshape, Flatten, Dropout, multiply, concatenate\n",
    "from tensorflow.keras.layers import BatchNormalization, Activation\n",
    "from tensorflow.keras.layers import LeakyReLU, Conv2D, MaxPooling2D\n",
    "from tensorflow.keras.layers import GaussianNoise, GaussianDropout\n",
    "from tensorflow.keras.layers import Lambda\n",
    "\n",
    "from tensorflow.keras.optimizers import Adam\n",
    "from tensorflow.keras.utils import to_categorical\n",
    "\n",
    "import tensorflow.keras.backend as K"
   ]
  },
  {
   "cell_type": "code",
   "execution_count": 3,
   "metadata": {},
   "outputs": [],
   "source": [
    "import matplotlib.pyplot as plt\n",
    "import numpy as np\n",
    "import pandas as pd\n",
    "\n",
    "import h5py\n",
    "\n",
    "import pickle\n",
    "import cv2\n",
    "import os\n",
    "\n",
    "import PIL\n",
    "import time\n",
    "import pathlib\n",
    "\n",
    "from sklearn.decomposition import PCA, FastICA\n",
    "from sklearn.manifold import TSNE\n",
    "\n",
    "from sklearn.linear_model import LinearRegression\n",
    "from sklearn.metrics import explained_variance_score, r2_score\n",
    "\n",
    "from pandas.plotting import scatter_matrix"
   ]
  },
  {
   "cell_type": "code",
   "execution_count": 4,
   "metadata": {},
   "outputs": [
    {
     "name": "stdout",
     "output_type": "stream",
     "text": [
      "Tensorflow version:  1.14.0\n",
      "Keras version:  2.2.4-tf\n",
      "Is eager execution enabled:  True\n",
      "Is there a GPU available:  True\n"
     ]
    }
   ],
   "source": [
    "print(\"Tensorflow version: \", tf.VERSION) # 1.13.1\n",
    "print(\"Keras version: \", tf.keras.__version__) # 2.2.4-tf\n",
    "\n",
    "tf.enable_eager_execution()\n",
    "print(\"Is eager execution enabled: \", tf.executing_eagerly())\n",
    "print(\"Is there a GPU available: \", tf.test.is_gpu_available())\n",
    "\n",
    "# from tensorflow.python.client import device_lib\n",
    "# print('List of GPUs:\\n',\n",
    "#       [x for x in device_lib.list_local_devices()\n",
    "#        if x.device_type == \"GPU\" or x.device_type == \"SYCL\"])"
   ]
  },
  {
   "cell_type": "markdown",
   "metadata": {},
   "source": [
    "# SmallerVGGNet, with noise layer added\n",
    "\n",
    "Source:\n",
    "https://www.pyimagesearch.com/2018/05/07/multi-label-classification-with-keras/"
   ]
  },
  {
   "cell_type": "code",
   "execution_count": 5,
   "metadata": {},
   "outputs": [],
   "source": [
    "filename = 'input_noise'\n",
    "\n",
    "path_train_tfrecord = \"/data/fp_train.tfrecord\"\n",
    "path_test_tfrecord = \"/data/fp_test.tfrecord\"\n",
    "\n",
    "predict_only = True\n",
    "predict_test_only = False\n",
    "\n",
    "pd.set_option('display.float_format', lambda x: '{:.6f}'.format(x))\n"
   ]
  },
  {
   "cell_type": "code",
   "execution_count": 6,
   "metadata": {},
   "outputs": [],
   "source": [
    "class SmallerVGGNet_regression:\n",
    "    @staticmethod\n",
    "    def build(width, height, depth):\n",
    "        # initialize the model along with the input shape to be\n",
    "        # \"channels last\" and the channels dimension itself\n",
    "        model = Sequential()\n",
    "        inputShape = (height, width, depth)\n",
    "        chanDim = -1\n",
    "\n",
    "        # if we are using \"channels first\", update the input shape\n",
    "        # and channels dimension\n",
    "        if K.image_data_format() == \"channels_first\":\n",
    "            inputShape = (depth, height, width)\n",
    "            chanDim = 1\n",
    "        \n",
    "        # add black & white noise to input data\n",
    "        if chanDim == -1:\n",
    "            noiseShape = (height, width, 1)\n",
    "        else:\n",
    "            noiseShape = (1, height, width)\n",
    "            \n",
    "        model.add(Dropout(0.2, noise_shape=noiseShape,\n",
    "                          input_shape=inputShape)) # black\n",
    "        model.add(Lambda(lambda x: 1 - x)) # 0 to 1, 1 to 0\n",
    "        model.add(Dropout(0.1, noise_shape=noiseShape)) # white\n",
    "        model.add(Lambda(lambda x: 1 - x))\n",
    "        model.add(Activation(\"relu\"))\n",
    "           \n",
    "        # CONV => RELU => POOL\n",
    "        model.add(Conv2D(32, (3, 3), padding=\"same\",\n",
    "                         input_shape=inputShape))\n",
    "        model.add(Activation(\"relu\"))\n",
    "        model.add(BatchNormalization(axis=chanDim))\n",
    "        model.add(MaxPooling2D(pool_size=(3, 3)))\n",
    "        model.add(Dropout(0.25))\n",
    "\n",
    "        # (CONV => RELU) * 2 => POOL\n",
    "        model.add(Conv2D(64, (3, 3), padding=\"same\"))\n",
    "        model.add(Activation(\"relu\"))\n",
    "        model.add(BatchNormalization(axis=chanDim))\n",
    "        model.add(Conv2D(64, (3, 3), padding=\"same\"))\n",
    "        model.add(Activation(\"relu\"))\n",
    "        model.add(BatchNormalization(axis=chanDim))\n",
    "        model.add(MaxPooling2D(pool_size=(2, 2)))\n",
    "        model.add(Dropout(0.25))\n",
    "\n",
    "        # (CONV => RELU) * 2 => POOL\n",
    "        model.add(Conv2D(128, (3, 3), padding=\"same\"))\n",
    "        model.add(Activation(\"relu\"))\n",
    "        model.add(BatchNormalization(axis=chanDim))\n",
    "        model.add(Conv2D(128, (3, 3), padding=\"same\"))\n",
    "        model.add(Activation(\"relu\"))\n",
    "        model.add(BatchNormalization(axis=chanDim))\n",
    "        model.add(MaxPooling2D(pool_size=(2, 2)))\n",
    "        model.add(Dropout(0.25))\n",
    "\n",
    "        # first (and only) set of FC => RELU layers\n",
    "        model.add(Flatten())\n",
    "        model.add(Dense(1024))\n",
    "        model.add(Activation(\"relu\"))\n",
    "        model.add(BatchNormalization())\n",
    "        model.add(Dropout(0.5))\n",
    "        model.add(Dense(64, name='learned_representation'))\n",
    "        model.add(Activation(\"relu\"))\n",
    "        model.add(BatchNormalization(name='normalized_representation'))\n",
    "        model.add(Dropout(0.5))\n",
    "\n",
    "        # use a *softmax* activation for single-label classification\n",
    "        # and *sigmoid* activation for multi-label classification\n",
    "        model.add(Dense(1))\n",
    "\n",
    "        # return the constructed network architecture\n",
    "        return model"
   ]
  },
  {
   "cell_type": "code",
   "execution_count": 7,
   "metadata": {},
   "outputs": [],
   "source": [
    "path_model = \"/data/\" + filename + \".h5\"\n",
    "dir_model = os.path.dirname(path_model)\n",
    "\n",
    "pathlib.Path(dir_model).mkdir(parents=True, exist_ok=True)"
   ]
  },
  {
   "cell_type": "code",
   "execution_count": 8,
   "metadata": {},
   "outputs": [
    {
     "data": {
      "text/plain": [
       "<DatasetV1Adapter shapes: ((?, 28, 28, 6), (?,)), types: (tf.float32, tf.float32)>"
      ]
     },
     "execution_count": 8,
     "metadata": {},
     "output_type": "execute_result"
    }
   ],
   "source": [
    "# https://medium.com/@moritzkrger/speeding-up-keras-with-tfrecord-datasets-5464f9836c36\n",
    "\n",
    "EPOCHS = 100\n",
    "\n",
    "BUFFER_SIZE = 1024\n",
    "BATCH_SIZE = 8\n",
    "\n",
    "IMAGE_DIMS = (28, 28, 6)\n",
    "# LABEL_DIM = 1\n",
    "\n",
    "def _parse_function(example_proto):\n",
    "    # Create a description of the features.  \n",
    "    feature_description = {\n",
    "        # [AREA_UNIT, AREA_ENTRANCE, AREA_LDK, AREA_BEDROOM, AREA_BALCONY, AREA_BATHROOM]\n",
    "        'floorplan': tf.FixedLenFeature([28, 28, 6], tf.float32, \n",
    "                                        default_value=tf.zeros([28, 28, 6], tf.float32)),\n",
    "        \n",
    "        'plan_id': tf.FixedLenFeature([], tf.string, default_value=''),\n",
    "        'norm_year': tf.FixedLenFeature([], tf.float32, default_value=-1.0),\n",
    "        'sido': tf.FixedLenFeature([], tf.int64, default_value=-1),\n",
    "        'norm_area': tf.FixedLenFeature([], tf.float32, default_value=0.0),\n",
    "        'is_area_85': tf.FixedLenFeature([], tf.int64, default_value=0),\n",
    "        'is_core': tf.FixedLenFeature([], tf.int64, default_value=0),\n",
    "        'num_rooms': tf.FixedLenFeature([], tf.int64, default_value=-1),\n",
    "        'num_baths': tf.FixedLenFeature([], tf.int64, default_value=-1)\n",
    "    }\n",
    "    \n",
    "    # Parse the input tf.Example proto using the dictionary above.\n",
    "    parsed_example = tf.parse_single_example(example_proto, feature_description)\n",
    "    \n",
    "    return parsed_example['floorplan'], parsed_example['norm_year']\n",
    "\n",
    "def create_dataset(filepath):\n",
    "    \n",
    "    # This works with arrays as well\n",
    "    dataset = tf.data.TFRecordDataset(filepath, compression_type=\"GZIP\")\n",
    "    \n",
    "    # Maps the parser on every filepath in the array. You can set the number of parallel loaders here\n",
    "    dataset = dataset.map(_parse_function, num_parallel_calls=8)\n",
    "    \n",
    "    # This dataset will go on forever\n",
    "    dataset = dataset.repeat()\n",
    "    \n",
    "    # Set the number of datapoints you want to load and shuffle \n",
    "    dataset = dataset.shuffle(BUFFER_SIZE)\n",
    "    \n",
    "    # Set the batchsize\n",
    "    dataset = dataset.batch(BATCH_SIZE)\n",
    "    \n",
    "    return dataset\n",
    "\n",
    "train_dataset = create_dataset(path_train_tfrecord)\n",
    "test_dataset =  create_dataset(path_test_tfrecord)\n",
    "train_dataset"
   ]
  },
  {
   "cell_type": "code",
   "execution_count": 9,
   "metadata": {},
   "outputs": [
    {
     "name": "stdout",
     "output_type": "stream",
     "text": [
      "Logits:  [[0.04531703]]\n",
      "Model: \"sequential\"\n",
      "_________________________________________________________________\n",
      "Layer (type)                 Output Shape              Param #   \n",
      "=================================================================\n",
      "dropout (Dropout)            (None, 28, 28, 6)         0         \n",
      "_________________________________________________________________\n",
      "lambda (Lambda)              (None, 28, 28, 6)         0         \n",
      "_________________________________________________________________\n",
      "dropout_1 (Dropout)          (None, 28, 28, 6)         0         \n",
      "_________________________________________________________________\n",
      "lambda_1 (Lambda)            (None, 28, 28, 6)         0         \n",
      "_________________________________________________________________\n",
      "activation (Activation)      (None, 28, 28, 6)         0         \n",
      "_________________________________________________________________\n",
      "conv2d (Conv2D)              (None, 28, 28, 32)        1760      \n",
      "_________________________________________________________________\n",
      "activation_1 (Activation)    (None, 28, 28, 32)        0         \n",
      "_________________________________________________________________\n",
      "batch_normalization (BatchNo (None, 28, 28, 32)        128       \n",
      "_________________________________________________________________\n",
      "max_pooling2d (MaxPooling2D) (None, 9, 9, 32)          0         \n",
      "_________________________________________________________________\n",
      "dropout_2 (Dropout)          (None, 9, 9, 32)          0         \n",
      "_________________________________________________________________\n",
      "conv2d_1 (Conv2D)            (None, 9, 9, 64)          18496     \n",
      "_________________________________________________________________\n",
      "activation_2 (Activation)    (None, 9, 9, 64)          0         \n",
      "_________________________________________________________________\n",
      "batch_normalization_1 (Batch (None, 9, 9, 64)          256       \n",
      "_________________________________________________________________\n",
      "conv2d_2 (Conv2D)            (None, 9, 9, 64)          36928     \n",
      "_________________________________________________________________\n",
      "activation_3 (Activation)    (None, 9, 9, 64)          0         \n",
      "_________________________________________________________________\n",
      "batch_normalization_2 (Batch (None, 9, 9, 64)          256       \n",
      "_________________________________________________________________\n",
      "max_pooling2d_1 (MaxPooling2 (None, 4, 4, 64)          0         \n",
      "_________________________________________________________________\n",
      "dropout_3 (Dropout)          (None, 4, 4, 64)          0         \n",
      "_________________________________________________________________\n",
      "conv2d_3 (Conv2D)            (None, 4, 4, 128)         73856     \n",
      "_________________________________________________________________\n",
      "activation_4 (Activation)    (None, 4, 4, 128)         0         \n",
      "_________________________________________________________________\n",
      "batch_normalization_3 (Batch (None, 4, 4, 128)         512       \n",
      "_________________________________________________________________\n",
      "conv2d_4 (Conv2D)            (None, 4, 4, 128)         147584    \n",
      "_________________________________________________________________\n",
      "activation_5 (Activation)    (None, 4, 4, 128)         0         \n",
      "_________________________________________________________________\n",
      "batch_normalization_4 (Batch (None, 4, 4, 128)         512       \n",
      "_________________________________________________________________\n",
      "max_pooling2d_2 (MaxPooling2 (None, 2, 2, 128)         0         \n",
      "_________________________________________________________________\n",
      "dropout_4 (Dropout)          (None, 2, 2, 128)         0         \n",
      "_________________________________________________________________\n",
      "flatten (Flatten)            (None, 512)               0         \n",
      "_________________________________________________________________\n",
      "dense (Dense)                (None, 1024)              525312    \n",
      "_________________________________________________________________\n",
      "activation_6 (Activation)    (None, 1024)              0         \n",
      "_________________________________________________________________\n",
      "batch_normalization_5 (Batch (None, 1024)              4096      \n",
      "_________________________________________________________________\n",
      "dropout_5 (Dropout)          (None, 1024)              0         \n",
      "_________________________________________________________________\n",
      "learned_representation (Dens (None, 64)                65600     \n",
      "_________________________________________________________________\n",
      "activation_7 (Activation)    (None, 64)                0         \n",
      "_________________________________________________________________\n",
      "normalized_representation (B (None, 64)                256       \n",
      "_________________________________________________________________\n",
      "dropout_6 (Dropout)          (None, 64)                0         \n",
      "_________________________________________________________________\n",
      "dense_1 (Dense)              (None, 1)                 65        \n",
      "=================================================================\n",
      "Total params: 875,617\n",
      "Trainable params: 872,609\n",
      "Non-trainable params: 3,008\n",
      "_________________________________________________________________\n"
     ]
    }
   ],
   "source": [
    "model = SmallerVGGNet_regression.build(\n",
    "    width=IMAGE_DIMS[1], height=IMAGE_DIMS[0],\n",
    "    depth=IMAGE_DIMS[2],\n",
    ")\n",
    "\n",
    "for images,labels in train_dataset.take(1):\n",
    "    print(\"Logits: \", model(images[0:1]).numpy())\n",
    "    \n",
    "model.summary()"
   ]
  },
  {
   "cell_type": "code",
   "execution_count": 10,
   "metadata": {
    "scrolled": false
   },
   "outputs": [],
   "source": [
    "model.compile(optimizer='RMSprop', \n",
    "              loss='mean_squared_error')"
   ]
  },
  {
   "cell_type": "code",
   "execution_count": 11,
   "metadata": {},
   "outputs": [],
   "source": [
    "with h5py.File(path_model,'r') as file:\n",
    "    weight = []\n",
    "    for i in range(len(file.keys())):\n",
    "        weight.append(file['weight'+str(i)][:])\n",
    "        \n",
    "model.set_weights(weight)\n",
    "# weight"
   ]
  },
  {
   "cell_type": "code",
   "execution_count": 12,
   "metadata": {},
   "outputs": [],
   "source": [
    "def _parse_predict_function(example_proto):\n",
    "    # Create a description of the features.  \n",
    "    feature_description = {\n",
    "        # [AREA_UNIT, AREA_ENTRANCE, AREA_LDK, AREA_BEDROOM, AREA_BALCONY, AREA_BATHROOM]\n",
    "        'floorplan': tf.FixedLenFeature([28, 28, 6], tf.float32, \n",
    "                                        default_value=tf.zeros([28, 28, 6], tf.float32)),\n",
    "        \n",
    "        'plan_id': tf.FixedLenFeature([], tf.string, default_value=''),\n",
    "        'norm_year': tf.FixedLenFeature([], tf.float32, default_value=-1.0),\n",
    "        'sido': tf.FixedLenFeature([], tf.int64, default_value=-1),\n",
    "        'norm_area': tf.FixedLenFeature([], tf.float32, default_value=0.0),\n",
    "        'is_area_85': tf.FixedLenFeature([], tf.int64, default_value=0),\n",
    "        'is_core': tf.FixedLenFeature([], tf.int64, default_value=0),\n",
    "        'num_rooms': tf.FixedLenFeature([], tf.int64, default_value=-1),\n",
    "        'num_baths': tf.FixedLenFeature([], tf.int64, default_value=-1)\n",
    "    }\n",
    "    \n",
    "    # Parse the input tf.Example proto using the dictionary above.\n",
    "    parsed_example = tf.parse_single_example(example_proto, feature_description)\n",
    "    \n",
    "    return parsed_example['floorplan'], parsed_example['plan_id'], parsed_example['norm_year']\n",
    "\n",
    "def create_predict_dataset(filepaths):\n",
    "    \n",
    "    # This works with arrays as well\n",
    "    dataset = tf.data.TFRecordDataset(filepaths, compression_type=\"GZIP\")\n",
    "    \n",
    "    # Maps the parser on every filepath in the array. You can set the number of parallel loaders here\n",
    "    dataset = dataset.map(_parse_predict_function, num_parallel_calls=8)\n",
    "\n",
    "    # Set the batchsize\n",
    "    dataset = dataset.batch(BATCH_SIZE)\n",
    "    \n",
    "    return dataset"
   ]
  },
  {
   "cell_type": "code",
   "execution_count": 13,
   "metadata": {},
   "outputs": [],
   "source": [
    "if predict_test_only:\n",
    "    paths_predict_tfrecord = [path_test_tfrecord]\n",
    "else:\n",
    "    paths_predict_tfrecord = [path_train_tfrecord, path_test_tfrecord]"
   ]
  },
  {
   "cell_type": "code",
   "execution_count": 14,
   "metadata": {},
   "outputs": [
    {
     "name": "stderr",
     "output_type": "stream",
     "text": [
      "WARNING: Logging before flag parsing goes to stderr.\n",
      "W1212 14:57:03.992698 139984087832320 training_generator.py:235] Your dataset ran out of data; interrupting training. Make sure that your dataset can generate at least `steps * epochs` batches (in this case, 7500 batches). You may need to use the repeat() function when building your dataset.\n"
     ]
    }
   ],
   "source": [
    "predict_dataset =  create_predict_dataset(paths_predict_tfrecord)\n",
    "predictions = model.predict(\n",
    "    predict_dataset,\n",
    "    steps=60000//BATCH_SIZE\n",
    ")\n",
    "\n",
    "predictions = [x[0] for x in predictions]\n",
    "# predictions"
   ]
  },
  {
   "cell_type": "code",
   "execution_count": 15,
   "metadata": {},
   "outputs": [
    {
     "name": "stderr",
     "output_type": "stream",
     "text": [
      "W1212 14:57:04.041777 139984087832320 deprecation.py:323] From <ipython-input-15-550982f305b6>:2: DatasetV1.make_one_shot_iterator (from tensorflow.python.data.ops.dataset_ops) is deprecated and will be removed in a future version.\n",
      "Instructions for updating:\n",
      "Use `for ... in dataset:` to iterate over a dataset. If using `tf.estimator`, return the `Dataset` object directly from your input function. As a last resort, you can use `tf.compat.v1.data.make_one_shot_iterator(dataset)`.\n"
     ]
    }
   ],
   "source": [
    "predict_dataset =  create_predict_dataset(paths_predict_tfrecord)\n",
    "iter = predict_dataset.make_one_shot_iterator()\n",
    "\n",
    "ids = []\n",
    "for batch in iter:\n",
    "    ids.extend(batch[1].numpy())\n",
    "\n",
    "ids = [x.decode() for x in ids]\n",
    "# ids"
   ]
  },
  {
   "cell_type": "code",
   "execution_count": 16,
   "metadata": {},
   "outputs": [],
   "source": [
    "predict_dataset =  create_predict_dataset(paths_predict_tfrecord)\n",
    "iter = predict_dataset.make_one_shot_iterator()\n",
    "\n",
    "true_year = []\n",
    "for batch in iter:\n",
    "    true_year.extend(batch[2].numpy())\n",
    "\n",
    "# true_year"
   ]
  },
  {
   "cell_type": "code",
   "execution_count": 17,
   "metadata": {},
   "outputs": [],
   "source": [
    "df = pd.DataFrame(zip(ids, true_year, predictions), columns=['ID', 'true_year', 'prediction'])\n",
    "# df"
   ]
  },
  {
   "cell_type": "code",
   "execution_count": 18,
   "metadata": {
    "scrolled": true
   },
   "outputs": [
    {
     "data": {
      "text/html": [
       "<div>\n",
       "<style scoped>\n",
       "    .dataframe tbody tr th:only-of-type {\n",
       "        vertical-align: middle;\n",
       "    }\n",
       "\n",
       "    .dataframe tbody tr th {\n",
       "        vertical-align: top;\n",
       "    }\n",
       "\n",
       "    .dataframe thead th {\n",
       "        text-align: right;\n",
       "    }\n",
       "</style>\n",
       "<table border=\"1\" class=\"dataframe\">\n",
       "  <thead>\n",
       "    <tr style=\"text-align: right;\">\n",
       "      <th></th>\n",
       "      <th>true_year</th>\n",
       "      <th>prediction</th>\n",
       "    </tr>\n",
       "  </thead>\n",
       "  <tbody>\n",
       "    <tr>\n",
       "      <th>true_year</th>\n",
       "      <td>1.000000</td>\n",
       "      <td>0.943736</td>\n",
       "    </tr>\n",
       "    <tr>\n",
       "      <th>prediction</th>\n",
       "      <td>0.943736</td>\n",
       "      <td>1.000000</td>\n",
       "    </tr>\n",
       "  </tbody>\n",
       "</table>\n",
       "</div>"
      ],
      "text/plain": [
       "            true_year  prediction\n",
       "true_year    1.000000    0.943736\n",
       "prediction   0.943736    1.000000"
      ]
     },
     "execution_count": 18,
     "metadata": {},
     "output_type": "execute_result"
    }
   ],
   "source": [
    "df.corr()"
   ]
  },
  {
   "cell_type": "code",
   "execution_count": 19,
   "metadata": {},
   "outputs": [
    {
     "data": {
      "text/plain": [
       "'$r^2 = 0.891$'"
      ]
     },
     "execution_count": 19,
     "metadata": {},
     "output_type": "execute_result"
    }
   ],
   "source": [
    "corr_year = df['true_year'].corr(df['prediction'])\n",
    "r2_text = format(corr_year**2, '.3f')\n",
    "r2_text = '$r^2 = ' + r2_text + '$'\n",
    "\n",
    "if predict_test_only: \n",
    "    r2_text += '\\n(Test dataset only)'\n",
    "    \n",
    "r2_text"
   ]
  },
  {
   "cell_type": "code",
   "execution_count": 20,
   "metadata": {},
   "outputs": [
    {
     "data": {
      "image/png": "[encoded data removed]",
      "text/plain": [
       "<Figure size 432x288 with 2 Axes>"
      ]
     },
     "metadata": {
      "needs_background": "light"
     },
     "output_type": "display_data"
    }
   ],
   "source": [
    "ax = df.plot.hexbin(x='true_year',y='prediction',\n",
    "                    extent=(-0.03,1.01,-0.03,1.01), xlim=(0,1), ylim=(0,1), \n",
    "                    sharex=False, gridsize=26,\n",
    "                    bins='log', mincnt=10,\n",
    "                   )\n",
    "ax.set_facecolor('w')\n",
    "ax.set_aspect('equal')\n",
    "ax.text(0.02,0.98,r2_text, verticalalignment='top')\n",
    "fig = ax.get_figure()\n",
    "\n",
    "if predict_test_only: \n",
    "    dataset_tag = \"_testonly\"\n",
    "else:\n",
    "    dataset_tag = \"\"\n",
    "\n",
    "# fig.savefig(\"/data/\" + filename + \"_prediction\" + dataset_tag + \".pdf\")\n",
    "# fig.savefig(\"/data/\" + filename + \"_prediction\" + dataset_tag + \".png\")"
   ]
  },
  {
   "cell_type": "code",
   "execution_count": 21,
   "metadata": {},
   "outputs": [],
   "source": [
    "# !cp /data/{filename}* ."
   ]
  },
  {
   "cell_type": "code",
   "execution_count": 22,
   "metadata": {},
   "outputs": [
    {
     "name": "stderr",
     "output_type": "stream",
     "text": [
      "W1212 14:57:22.635523 139984087832320 training_generator.py:235] Your dataset ran out of data; interrupting training. Make sure that your dataset can generate at least `steps * epochs` batches (in this case, 7500 batches). You may need to use the repeat() function when building your dataset.\n"
     ]
    },
    {
     "data": {
      "text/plain": [
       "(50540, 64)"
      ]
     },
     "execution_count": 22,
     "metadata": {},
     "output_type": "execute_result"
    }
   ],
   "source": [
    "# https://keras.io/getting-started/faq/#how-can-i-obtain-the-output-of-an-intermediate-layer\n",
    "\n",
    "layer_name = 'normalized_representation'\n",
    "intermediate_layer_model = Model(inputs=model.input,\n",
    "                                 outputs=model.get_layer(layer_name).output)\n",
    "\n",
    "predict_dataset =  create_predict_dataset(paths_predict_tfrecord)\n",
    "intermediate_output = intermediate_layer_model.predict(\n",
    "    predict_dataset,\n",
    "    steps=60000//BATCH_SIZE\n",
    ")\n",
    "\n",
    "intermediate_output.shape"
   ]
  },
  {
   "cell_type": "code",
   "execution_count": 23,
   "metadata": {
    "scrolled": true
   },
   "outputs": [],
   "source": [
    "X = pd.DataFrame(intermediate_output)\n",
    "y_pred = df['prediction']\n",
    "y_true = df['true_year']"
   ]
  },
  {
   "cell_type": "code",
   "execution_count": 24,
   "metadata": {},
   "outputs": [
    {
     "name": "stdout",
     "output_type": "stream",
     "text": [
      "(50540, 64) (50540,)\n"
     ]
    }
   ],
   "source": [
    "print(X.shape, y_pred.shape)"
   ]
  },
  {
   "cell_type": "code",
   "execution_count": 25,
   "metadata": {},
   "outputs": [
    {
     "data": {
      "text/html": [
       "<div>\n",
       "<style scoped>\n",
       "    .dataframe tbody tr th:only-of-type {\n",
       "        vertical-align: middle;\n",
       "    }\n",
       "\n",
       "    .dataframe tbody tr th {\n",
       "        vertical-align: top;\n",
       "    }\n",
       "\n",
       "    .dataframe thead th {\n",
       "        text-align: right;\n",
       "    }\n",
       "</style>\n",
       "<table border=\"1\" class=\"dataframe\">\n",
       "  <thead>\n",
       "    <tr style=\"text-align: right;\">\n",
       "      <th></th>\n",
       "      <th>0</th>\n",
       "      <th>1</th>\n",
       "      <th>2</th>\n",
       "      <th>3</th>\n",
       "      <th>4</th>\n",
       "      <th>5</th>\n",
       "      <th>6</th>\n",
       "      <th>7</th>\n",
       "      <th>8</th>\n",
       "      <th>9</th>\n",
       "      <th>...</th>\n",
       "      <th>54</th>\n",
       "      <th>55</th>\n",
       "      <th>56</th>\n",
       "      <th>57</th>\n",
       "      <th>58</th>\n",
       "      <th>59</th>\n",
       "      <th>60</th>\n",
       "      <th>61</th>\n",
       "      <th>62</th>\n",
       "      <th>63</th>\n",
       "    </tr>\n",
       "  </thead>\n",
       "  <tbody>\n",
       "    <tr>\n",
       "      <th>count</th>\n",
       "      <td>50540.000000</td>\n",
       "      <td>50540.000000</td>\n",
       "      <td>50540.000000</td>\n",
       "      <td>50540.000000</td>\n",
       "      <td>50540.000000</td>\n",
       "      <td>50540.000000</td>\n",
       "      <td>50540.000000</td>\n",
       "      <td>50540.000000</td>\n",
       "      <td>50540.000000</td>\n",
       "      <td>50540.000000</td>\n",
       "      <td>...</td>\n",
       "      <td>50540.000000</td>\n",
       "      <td>50540.000000</td>\n",
       "      <td>50540.000000</td>\n",
       "      <td>50540.000000</td>\n",
       "      <td>50540.000000</td>\n",
       "      <td>50540.000000</td>\n",
       "      <td>50540.000000</td>\n",
       "      <td>50540.000000</td>\n",
       "      <td>50540.000000</td>\n",
       "      <td>50540.000000</td>\n",
       "    </tr>\n",
       "    <tr>\n",
       "      <th>mean</th>\n",
       "      <td>0.020839</td>\n",
       "      <td>-0.024505</td>\n",
       "      <td>0.012379</td>\n",
       "      <td>-0.025510</td>\n",
       "      <td>0.006238</td>\n",
       "      <td>0.022566</td>\n",
       "      <td>0.008364</td>\n",
       "      <td>0.002686</td>\n",
       "      <td>0.023153</td>\n",
       "      <td>0.005607</td>\n",
       "      <td>...</td>\n",
       "      <td>0.031705</td>\n",
       "      <td>-0.012075</td>\n",
       "      <td>0.019179</td>\n",
       "      <td>0.026192</td>\n",
       "      <td>0.040653</td>\n",
       "      <td>0.050561</td>\n",
       "      <td>0.007183</td>\n",
       "      <td>0.018600</td>\n",
       "      <td>0.037966</td>\n",
       "      <td>-0.009191</td>\n",
       "    </tr>\n",
       "    <tr>\n",
       "      <th>std</th>\n",
       "      <td>0.123312</td>\n",
       "      <td>0.150412</td>\n",
       "      <td>0.162176</td>\n",
       "      <td>0.130364</td>\n",
       "      <td>0.105160</td>\n",
       "      <td>0.103100</td>\n",
       "      <td>0.123142</td>\n",
       "      <td>0.080311</td>\n",
       "      <td>0.092586</td>\n",
       "      <td>0.098068</td>\n",
       "      <td>...</td>\n",
       "      <td>0.131762</td>\n",
       "      <td>0.125964</td>\n",
       "      <td>0.139509</td>\n",
       "      <td>0.118588</td>\n",
       "      <td>0.093751</td>\n",
       "      <td>0.144906</td>\n",
       "      <td>0.110065</td>\n",
       "      <td>0.111835</td>\n",
       "      <td>0.107644</td>\n",
       "      <td>0.131822</td>\n",
       "    </tr>\n",
       "    <tr>\n",
       "      <th>min</th>\n",
       "      <td>-0.291851</td>\n",
       "      <td>-0.252000</td>\n",
       "      <td>-0.351769</td>\n",
       "      <td>-0.320047</td>\n",
       "      <td>-0.079285</td>\n",
       "      <td>-0.192977</td>\n",
       "      <td>-0.223287</td>\n",
       "      <td>-0.080755</td>\n",
       "      <td>-0.330177</td>\n",
       "      <td>-0.251568</td>\n",
       "      <td>...</td>\n",
       "      <td>-0.048243</td>\n",
       "      <td>-0.093970</td>\n",
       "      <td>-0.123750</td>\n",
       "      <td>-0.119186</td>\n",
       "      <td>-0.097222</td>\n",
       "      <td>-0.325675</td>\n",
       "      <td>-3.270901</td>\n",
       "      <td>-0.068048</td>\n",
       "      <td>-0.246225</td>\n",
       "      <td>-0.161433</td>\n",
       "    </tr>\n",
       "    <tr>\n",
       "      <th>25%</th>\n",
       "      <td>-0.048196</td>\n",
       "      <td>-0.195403</td>\n",
       "      <td>-0.089282</td>\n",
       "      <td>-0.105002</td>\n",
       "      <td>-0.079285</td>\n",
       "      <td>-0.048529</td>\n",
       "      <td>-0.087933</td>\n",
       "      <td>-0.077326</td>\n",
       "      <td>-0.034912</td>\n",
       "      <td>-0.069140</td>\n",
       "      <td>...</td>\n",
       "      <td>-0.048243</td>\n",
       "      <td>-0.093970</td>\n",
       "      <td>-0.123750</td>\n",
       "      <td>-0.091004</td>\n",
       "      <td>-0.039223</td>\n",
       "      <td>-0.027934</td>\n",
       "      <td>-0.080299</td>\n",
       "      <td>-0.068048</td>\n",
       "      <td>-0.021542</td>\n",
       "      <td>-0.161208</td>\n",
       "    </tr>\n",
       "    <tr>\n",
       "      <th>50%</th>\n",
       "      <td>0.042384</td>\n",
       "      <td>0.029341</td>\n",
       "      <td>-0.007201</td>\n",
       "      <td>0.000890</td>\n",
       "      <td>-0.040113</td>\n",
       "      <td>0.055461</td>\n",
       "      <td>0.009391</td>\n",
       "      <td>-0.015804</td>\n",
       "      <td>0.026579</td>\n",
       "      <td>0.006171</td>\n",
       "      <td>...</td>\n",
       "      <td>-0.048243</td>\n",
       "      <td>-0.093970</td>\n",
       "      <td>0.017247</td>\n",
       "      <td>0.033480</td>\n",
       "      <td>0.048009</td>\n",
       "      <td>0.023748</td>\n",
       "      <td>0.024294</td>\n",
       "      <td>-0.025816</td>\n",
       "      <td>0.062744</td>\n",
       "      <td>-0.010092</td>\n",
       "    </tr>\n",
       "    <tr>\n",
       "      <th>75%</th>\n",
       "      <td>0.112337</td>\n",
       "      <td>0.095229</td>\n",
       "      <td>0.100220</td>\n",
       "      <td>0.073314</td>\n",
       "      <td>0.066383</td>\n",
       "      <td>0.104221</td>\n",
       "      <td>0.101100</td>\n",
       "      <td>0.052286</td>\n",
       "      <td>0.127944</td>\n",
       "      <td>0.069799</td>\n",
       "      <td>...</td>\n",
       "      <td>0.124581</td>\n",
       "      <td>0.066457</td>\n",
       "      <td>0.107800</td>\n",
       "      <td>0.104395</td>\n",
       "      <td>0.118811</td>\n",
       "      <td>0.093001</td>\n",
       "      <td>0.104016</td>\n",
       "      <td>0.066213</td>\n",
       "      <td>0.118183</td>\n",
       "      <td>0.090393</td>\n",
       "    </tr>\n",
       "    <tr>\n",
       "      <th>max</th>\n",
       "      <td>0.445732</td>\n",
       "      <td>0.422182</td>\n",
       "      <td>1.487274</td>\n",
       "      <td>0.298341</td>\n",
       "      <td>0.415100</td>\n",
       "      <td>0.206452</td>\n",
       "      <td>0.400385</td>\n",
       "      <td>0.364542</td>\n",
       "      <td>0.127944</td>\n",
       "      <td>0.208039</td>\n",
       "      <td>...</td>\n",
       "      <td>4.992393</td>\n",
       "      <td>4.244446</td>\n",
       "      <td>2.922475</td>\n",
       "      <td>2.231391</td>\n",
       "      <td>0.481714</td>\n",
       "      <td>3.208491</td>\n",
       "      <td>0.104016</td>\n",
       "      <td>0.620646</td>\n",
       "      <td>0.290536</td>\n",
       "      <td>2.311541</td>\n",
       "    </tr>\n",
       "  </tbody>\n",
       "</table>\n",
       "<p>8 rows × 64 columns</p>\n",
       "</div>"
      ],
      "text/plain": [
       "                0            1            2            3            4   \\\n",
       "count 50540.000000 50540.000000 50540.000000 50540.000000 50540.000000   \n",
       "mean      0.020839    -0.024505     0.012379    -0.025510     0.006238   \n",
       "std       0.123312     0.150412     0.162176     0.130364     0.105160   \n",
       "min      -0.291851    -0.252000    -0.351769    -0.320047    -0.079285   \n",
       "25%      -0.048196    -0.195403    -0.089282    -0.105002    -0.079285   \n",
       "50%       0.042384     0.029341    -0.007201     0.000890    -0.040113   \n",
       "75%       0.112337     0.095229     0.100220     0.073314     0.066383   \n",
       "max       0.445732     0.422182     1.487274     0.298341     0.415100   \n",
       "\n",
       "                5            6            7            8            9   ...  \\\n",
       "count 50540.000000 50540.000000 50540.000000 50540.000000 50540.000000  ...   \n",
       "mean      0.022566     0.008364     0.002686     0.023153     0.005607  ...   \n",
       "std       0.103100     0.123142     0.080311     0.092586     0.098068  ...   \n",
       "min      -0.192977    -0.223287    -0.080755    -0.330177    -0.251568  ...   \n",
       "25%      -0.048529    -0.087933    -0.077326    -0.034912    -0.069140  ...   \n",
       "50%       0.055461     0.009391    -0.015804     0.026579     0.006171  ...   \n",
       "75%       0.104221     0.101100     0.052286     0.127944     0.069799  ...   \n",
       "max       0.206452     0.400385     0.364542     0.127944     0.208039  ...   \n",
       "\n",
       "                54           55           56           57           58  \\\n",
       "count 50540.000000 50540.000000 50540.000000 50540.000000 50540.000000   \n",
       "mean      0.031705    -0.012075     0.019179     0.026192     0.040653   \n",
       "std       0.131762     0.125964     0.139509     0.118588     0.093751   \n",
       "min      -0.048243    -0.093970    -0.123750    -0.119186    -0.097222   \n",
       "25%      -0.048243    -0.093970    -0.123750    -0.091004    -0.039223   \n",
       "50%      -0.048243    -0.093970     0.017247     0.033480     0.048009   \n",
       "75%       0.124581     0.066457     0.107800     0.104395     0.118811   \n",
       "max       4.992393     4.244446     2.922475     2.231391     0.481714   \n",
       "\n",
       "                59           60           61           62           63  \n",
       "count 50540.000000 50540.000000 50540.000000 50540.000000 50540.000000  \n",
       "mean      0.050561     0.007183     0.018600     0.037966    -0.009191  \n",
       "std       0.144906     0.110065     0.111835     0.107644     0.131822  \n",
       "min      -0.325675    -3.270901    -0.068048    -0.246225    -0.161433  \n",
       "25%      -0.027934    -0.080299    -0.068048    -0.021542    -0.161208  \n",
       "50%       0.023748     0.024294    -0.025816     0.062744    -0.010092  \n",
       "75%       0.093001     0.104016     0.066213     0.118183     0.090393  \n",
       "max       3.208491     0.104016     0.620646     0.290536     2.311541  \n",
       "\n",
       "[8 rows x 64 columns]"
      ]
     },
     "execution_count": 25,
     "metadata": {},
     "output_type": "execute_result"
    }
   ],
   "source": [
    "X.describe()"
   ]
  },
  {
   "cell_type": "code",
   "execution_count": 50,
   "metadata": {},
   "outputs": [
    {
     "data": {
      "text/plain": [
       "<matplotlib.axes._subplots.AxesSubplot at 0x7f4f08e8d2e8>"
      ]
     },
     "execution_count": 50,
     "metadata": {},
     "output_type": "execute_result"
    },
    {
     "data": {
      "image/png": "[encoded data removed]",
      "text/plain": [
       "<Figure size 1584x720 with 1 Axes>"
      ]
     },
     "metadata": {
      "needs_background": "light"
     },
     "output_type": "display_data"
    }
   ],
   "source": [
    "X.loc[:,0:4].plot.kde(legend=False, xlim=(-0.5, 0.5),figsize=(22,10))"
   ]
  },
  {
   "cell_type": "code",
   "execution_count": 29,
   "metadata": {},
   "outputs": [
    {
     "name": "stdout",
     "output_type": "stream",
     "text": [
      "0.9999999999921961\n"
     ]
    }
   ],
   "source": [
    "regr = LinearRegression().fit(X, y_pred)\n",
    "print(regr.score(X, y_pred))"
   ]
  },
  {
   "cell_type": "code",
   "execution_count": null,
   "metadata": {},
   "outputs": [],
   "source": []
  }
 ],
 "metadata": {
  "kernelspec": {
   "display_name": "Python 3",
   "language": "python",
   "name": "python3"
  },
  "language_info": {
   "codemirror_mode": {
    "name": "ipython",
    "version": 3
   },
   "file_extension": ".py",
   "mimetype": "text/x-python",
   "name": "python",
   "nbconvert_exporter": "python",
   "pygments_lexer": "ipython3",
   "version": "3.6.8"
  }
 },
 "nbformat": 4,
 "nbformat_minor": 2
}
