{
 "cells": [
  {
   "cell_type": "code",
   "execution_count": 1,
   "metadata": {},
   "outputs": [],
   "source": [
    "import tensorflow as tf\n",
    "import tensorflow.keras.backend as K\n",
    "\n",
    "from tensorflow.keras.models import Sequential, Model\n",
    "\n",
    "from tensorflow.keras.layers import (\n",
    "    Input,\n",
    "    Dense,\n",
    "    Reshape,\n",
    "    Flatten,\n",
    "    Dropout,\n",
    "    BatchNormalization,\n",
    "    Activation,\n",
    "    ZeroPadding2D,\n",
    "    LeakyReLU,\n",
    "    UpSampling2D,\n",
    "    Conv2D,\n",
    "    Convolution2D,\n",
    "    MaxPooling2D,\n",
    "    Concatenate,\n",
    "    GaussianNoise,\n",
    "    GaussianDropout,\n",
    "    Lambda,\n",
    "    GlobalAveragePooling2D,\n",
    ")\n",
    "\n",
    "from tensorflow.keras.optimizers import Adam\n",
    "\n",
    "from tensorflow.keras.utils import to_categorical\n",
    "\n",
    "import h5py\n",
    "import pickle\n",
    "\n",
    "import matplotlib.pyplot as plt\n",
    "import numpy as np\n",
    "import pandas as pd\n",
    "\n",
    "import os\n",
    "import pathlib\n",
    "\n",
    "import time\n",
    "\n",
    "import math"
   ]
  },
  {
   "cell_type": "code",
   "execution_count": 2,
   "metadata": {},
   "outputs": [
    {
     "name": "stdout",
     "output_type": "stream",
     "text": [
      "Tensorflow version:  2.1.0\n",
      "Keras version:  2.2.4-tf\n",
      "Is eager execution enabled:  True\n",
      "Is there a GPU available:  [PhysicalDevice(name='/physical_device:GPU:0', device_type='GPU')]\n"
     ]
    }
   ],
   "source": [
    "print(\"Tensorflow version: \", tf.version.VERSION)  # tf2\n",
    "print(\"Keras version: \", tf.keras.__version__)  # 2.2.4-tf\n",
    "\n",
    "# tf.enable_eager_execution()  # tf2\n",
    "print(\"Is eager execution enabled: \", tf.executing_eagerly())\n",
    "print(\"Is there a GPU available: \", tf.config.list_physical_devices(\"GPU\"))  # tf2"
   ]
  },
  {
   "cell_type": "code",
   "execution_count": 3,
   "metadata": {},
   "outputs": [],
   "source": [
    "path_all_tfrecord = \"fp56.tfrecord\"\n",
    "\n",
    "path_train_tfrecord = \"fp56_train.tfrecord\"\n",
    "path_test_tfrecord = \"fp56_test.tfrecord\""
   ]
  },
  {
   "cell_type": "markdown",
   "metadata": {},
   "source": [
    "# model save dir"
   ]
  },
  {
   "cell_type": "code",
   "execution_count": 4,
   "metadata": {},
   "outputs": [],
   "source": [
    "dir_model = \"vgg_cam/\"\n",
    "pathlib.Path(dir_model).mkdir(parents=True, exist_ok=True)"
   ]
  },
  {
   "cell_type": "code",
   "execution_count": 5,
   "metadata": {},
   "outputs": [],
   "source": [
    "fp_dim = (56, 56, 6)\n",
    "\n",
    "\n",
    "def _parse_function(example_proto):\n",
    "    # Create a description of the features.\n",
    "    feature_description = {\n",
    "        \"floorplan\": tf.io.FixedLenFeature(\n",
    "            fp_dim, tf.float32, default_value=tf.zeros(fp_dim, tf.float32)\n",
    "        ),\n",
    "        \"plan_id\": tf.io.FixedLenFeature([], tf.string, default_value=\"\"),\n",
    "        \"year\": tf.io.FixedLenFeature([], tf.int64, default_value=-1),  # 0~9\n",
    "        # \"sido\": tf.FixedLenFeature([], tf.int64, default_value=-1),\n",
    "        # \"norm_area\": tf.FixedLenFeature([], tf.float32, default_value=0.0),\n",
    "        # \"num_rooms\": tf.FixedLenFeature([], tf.int64, default_value=-1),\n",
    "        # \"num_baths\": tf.FixedLenFeature([], tf.int64, default_value=-1),\n",
    "    }\n",
    "\n",
    "    # Parse the input tf.Example proto using the dictionary above.\n",
    "    parsed_example = tf.io.parse_single_example(example_proto, feature_description)\n",
    "\n",
    "    return parsed_example[\"floorplan\"], parsed_example[\"year\"]"
   ]
  },
  {
   "cell_type": "code",
   "execution_count": 6,
   "metadata": {},
   "outputs": [],
   "source": [
    "def create_dataset(filepath):\n",
    "    # This works with arrays as well\n",
    "    dataset = tf.data.TFRecordDataset(filepath, compression_type=\"GZIP\")\n",
    "\n",
    "    # Maps the parser on every filepath in the array. You can set the number of parallel loaders here\n",
    "    dataset = dataset.map(_parse_function, num_parallel_calls=4)\n",
    "\n",
    "    ### preprocess the features\n",
    "\n",
    "    # won't use it. use sparse_categorical_crossentropy instead of categorical_crossentropy.\n",
    "    #     dataset = dataset.map(_onehot_year, num_parallel_calls=4)\n",
    "\n",
    "    return dataset"
   ]
  },
  {
   "cell_type": "code",
   "execution_count": 7,
   "metadata": {},
   "outputs": [],
   "source": [
    "def VGG16_convolutions():\n",
    "    if K.image_data_format() == \"channels_last\":\n",
    "        input_shape = (fp_dim[0], fp_dim[1], fp_dim[2])\n",
    "    else:\n",
    "        input_shape = (fp_dim[2], fp_dim[0], fp_dim[1])\n",
    "\n",
    "    model = Sequential()\n",
    "    model.add(\n",
    "        Conv2D(\n",
    "            64,\n",
    "            (3, 3),\n",
    "            activation=\"relu\",\n",
    "            name=\"conv1_1\",\n",
    "            padding=\"same\",\n",
    "            input_shape=input_shape,\n",
    "        )\n",
    "    )\n",
    "    model.add(Conv2D(64, (3, 3), activation=\"relu\", name=\"conv1_2\", padding=\"same\"))\n",
    "    model.add(MaxPooling2D((2, 2), strides=(1, 1), padding=\"same\"))\n",
    "\n",
    "    model.add(Conv2D(128, (3, 3), activation=\"relu\", name=\"conv2_1\", padding=\"same\"))\n",
    "    model.add(Conv2D(128, (3, 3), activation=\"relu\", name=\"conv2_2\", padding=\"same\"))\n",
    "    model.add(MaxPooling2D((2, 2), strides=(1, 1), padding=\"same\"))\n",
    "\n",
    "    model.add(Conv2D(256, (3, 3), activation=\"relu\", name=\"conv3_1\", padding=\"same\"))\n",
    "    model.add(Conv2D(256, (3, 3), activation=\"relu\", name=\"conv3_2\", padding=\"same\"))\n",
    "    model.add(Conv2D(256, (3, 3), activation=\"relu\", name=\"conv3_3\", padding=\"same\"))\n",
    "    model.add(MaxPooling2D((2, 2), strides=(2, 2)))\n",
    "\n",
    "    model.add(Conv2D(512, (3, 3), activation=\"relu\", name=\"conv4_1\", padding=\"same\"))\n",
    "    model.add(Conv2D(512, (3, 3), activation=\"relu\", name=\"conv4_2\", padding=\"same\"))\n",
    "    model.add(Conv2D(512, (3, 3), activation=\"relu\", name=\"conv4_3\", padding=\"same\"))\n",
    "    model.add(MaxPooling2D((2, 2), strides=(2, 2)))\n",
    "\n",
    "    model.add(Conv2D(512, (3, 3), activation=\"relu\", name=\"conv5_1\", padding=\"same\"))\n",
    "    model.add(Conv2D(512, (3, 3), activation=\"relu\", name=\"conv5_2\", padding=\"same\"))\n",
    "    model.add(Conv2D(512, (3, 3), activation=\"relu\", name=\"conv5_3\", padding=\"same\"))\n",
    "    return model"
   ]
  },
  {
   "cell_type": "code",
   "execution_count": 8,
   "metadata": {},
   "outputs": [],
   "source": [
    "num_classes = 10\n",
    "\n",
    "\n",
    "def create_model():\n",
    "    model = VGG16_convolutions()\n",
    "\n",
    "    model.add(GlobalAveragePooling2D())\n",
    "    model.add(Dense(num_classes, activation=\"softmax\"))\n",
    "\n",
    "    model.compile(\n",
    "        optimizer=\"sgd\", loss=\"sparse_categorical_crossentropy\", metrics=[\"accuracy\"]\n",
    "    )\n",
    "    return model"
   ]
  },
  {
   "cell_type": "markdown",
   "metadata": {},
   "source": [
    "# run"
   ]
  },
  {
   "cell_type": "code",
   "execution_count": 9,
   "metadata": {},
   "outputs": [
    {
     "data": {
      "text/plain": [
       "(<BatchDataset shapes: ((None, 56, 56, 6), (None,)), types: (tf.float32, tf.int64)>,\n",
       " <BatchDataset shapes: ((None, 56, 56, 6), (None,)), types: (tf.float32, tf.int64)>)"
      ]
     },
     "execution_count": 9,
     "metadata": {},
     "output_type": "execute_result"
    }
   ],
   "source": [
    "# .repeat().shuffle(4096).batch(8)\n",
    "\n",
    "train_dataset = create_dataset(path_train_tfrecord).shuffle(1024).batch(8)\n",
    "test_dataset = create_dataset(path_test_tfrecord).batch(8)\n",
    "\n",
    "train_dataset, test_dataset"
   ]
  },
  {
   "cell_type": "code",
   "execution_count": 10,
   "metadata": {},
   "outputs": [],
   "source": [
    "model = create_model()"
   ]
  },
  {
   "cell_type": "code",
   "execution_count": 11,
   "metadata": {},
   "outputs": [
    {
     "data": {
      "text/plain": [
       "'vgg_cam/model-16-1.35.hdf5'"
      ]
     },
     "execution_count": 11,
     "metadata": {},
     "output_type": "execute_result"
    }
   ],
   "source": [
    "# model-12-1.23.hdf5 - loss: 1.2337 - accuracy: 0.5033 - train accuracy: 0.5749\n",
    "# model-14-1.27.hdf5 - loss: 1.2704 - accuracy: 0.5168 - train accuracy: 0.6033\n",
    "# model-16-1.35.hdf5 - loss: 1.3514 - accuracy: 0.5331 - train accuracy: 0.6455 #########\n",
    "\n",
    "path_best = dir_model + \"model-16-1.35.hdf5\"\n",
    "path_best"
   ]
  },
  {
   "cell_type": "code",
   "execution_count": 12,
   "metadata": {
    "scrolled": false
   },
   "outputs": [],
   "source": [
    "model.load_weights(path_best)"
   ]
  },
  {
   "cell_type": "code",
   "execution_count": 13,
   "metadata": {
    "scrolled": false
   },
   "outputs": [],
   "source": [
    "# loss, acc = model.evaluate(test_dataset, verbose=1)"
   ]
  },
  {
   "cell_type": "markdown",
   "metadata": {},
   "source": [
    "# predict"
   ]
  },
  {
   "cell_type": "code",
   "execution_count": 14,
   "metadata": {},
   "outputs": [],
   "source": [
    "def _parse_single(example_proto, feature_id):\n",
    "    # Create a description of the features.\n",
    "    feature_description = {\n",
    "        \"floorplan\": tf.io.FixedLenFeature(\n",
    "            fp_dim, tf.float32, default_value=tf.zeros(fp_dim, tf.float32)\n",
    "        ),\n",
    "        \"plan_id\": tf.io.FixedLenFeature([], tf.string, default_value=\"\"),\n",
    "        \"year\": tf.io.FixedLenFeature([], tf.int64, default_value=-1),  # 0~9\n",
    "        \"sido\": tf.io.FixedLenFeature([], tf.int64, default_value=-1),\n",
    "        \"norm_area\": tf.io.FixedLenFeature([], tf.float32, default_value=0.0),\n",
    "        \"num_rooms\": tf.io.FixedLenFeature([], tf.int64, default_value=-1),\n",
    "        \"num_baths\": tf.io.FixedLenFeature([], tf.int64, default_value=-1),\n",
    "    }\n",
    "\n",
    "    # Parse the input tf.Example proto using the dictionary above.\n",
    "    parsed_example = tf.io.parse_single_example(example_proto, feature_description)\n",
    "\n",
    "    return parsed_example[feature_id]"
   ]
  },
  {
   "cell_type": "code",
   "execution_count": 15,
   "metadata": {},
   "outputs": [],
   "source": [
    "def create_single_dataset(filepath, feature_id):\n",
    "    # This works with arrays as well\n",
    "    dataset = tf.data.TFRecordDataset(filepath, compression_type=\"GZIP\")\n",
    "\n",
    "    # Maps the parser on every filepath in the array. You can set the number of parallel loaders here\n",
    "    dataset = dataset.map(lambda x: _parse_single(x, feature_id), num_parallel_calls=4)\n",
    "\n",
    "    return dataset"
   ]
  },
  {
   "cell_type": "code",
   "execution_count": 16,
   "metadata": {},
   "outputs": [],
   "source": [
    "all_dataset = create_dataset(path_all_tfrecord).batch(64)"
   ]
  },
  {
   "cell_type": "code",
   "execution_count": 17,
   "metadata": {},
   "outputs": [
    {
     "name": "stdout",
     "output_type": "stream",
     "text": [
      "    788/Unknown - 284s 361ms/step"
     ]
    }
   ],
   "source": [
    "predictions = model.predict(all_dataset, verbose=1)"
   ]
  },
  {
   "cell_type": "code",
   "execution_count": 18,
   "metadata": {},
   "outputs": [],
   "source": [
    "predictions = np.argmax(predictions, 1)"
   ]
  },
  {
   "cell_type": "code",
   "execution_count": 19,
   "metadata": {
    "scrolled": true
   },
   "outputs": [
    {
     "data": {
      "text/plain": [
       "array([6, 6, 7, 6, 3, 2, 4, 5, 4, 6, 3, 9, 3, 2, 4, 4, 4, 4, 3, 4, 5, 4,\n",
       "       4, 5, 4, 4, 4, 4, 4, 4, 4, 3, 4, 4, 4, 4, 4, 4, 4, 4, 4, 6, 4, 3,\n",
       "       3, 4, 3, 4, 4, 4, 3, 4, 3, 4, 4, 4, 4, 7, 4, 3, 4, 4, 3, 4, 7, 7,\n",
       "       7, 6, 9, 6, 7, 7, 7, 7, 7, 7, 7, 8, 7, 8, 7, 7, 7, 4, 7, 8, 8, 8,\n",
       "       7, 7, 8, 7, 8, 4, 6, 6, 4, 8, 6, 4, 7, 7, 4, 7, 3, 4, 4, 4, 4, 4,\n",
       "       8, 7, 7, 7, 7, 7, 7, 6, 6, 6, 8, 4, 4, 5, 8, 8, 7, 8])"
      ]
     },
     "execution_count": 19,
     "metadata": {},
     "output_type": "execute_result"
    }
   ],
   "source": [
    "predictions[:128]"
   ]
  },
  {
   "cell_type": "code",
   "execution_count": 20,
   "metadata": {},
   "outputs": [
    {
     "data": {
      "text/plain": [
       "((50412,), array([6, 6, 6, 6, 2, 2, 2, 2, 2, 2]))"
      ]
     },
     "execution_count": 20,
     "metadata": {},
     "output_type": "execute_result"
    }
   ],
   "source": [
    "all_year = create_single_dataset(path_all_tfrecord, \"year\")\n",
    "year_true = np.fromiter((y.numpy() for y in all_year), int)\n",
    "year_true.shape, year_true[:10]"
   ]
  },
  {
   "cell_type": "code",
   "execution_count": 21,
   "metadata": {},
   "outputs": [
    {
     "data": {
      "text/plain": [
       "['8928_160',\n",
       " '8928_183',\n",
       " '8928_201A',\n",
       " '8928_204B',\n",
       " '960_35',\n",
       " '960_41',\n",
       " '960_45',\n",
       " '960_49F',\n",
       " '960_50S',\n",
       " '960_53']"
      ]
     },
     "execution_count": 21,
     "metadata": {},
     "output_type": "execute_result"
    }
   ],
   "source": [
    "all_id = create_single_dataset(path_all_tfrecord, \"plan_id\")\n",
    "ids = [i.numpy().decode() for i in all_id]\n",
    "ids[:10]"
   ]
  },
  {
   "cell_type": "code",
   "execution_count": 22,
   "metadata": {},
   "outputs": [
    {
     "data": {
      "text/html": [
       "<div>\n",
       "<style scoped>\n",
       "    .dataframe tbody tr th:only-of-type {\n",
       "        vertical-align: middle;\n",
       "    }\n",
       "\n",
       "    .dataframe tbody tr th {\n",
       "        vertical-align: top;\n",
       "    }\n",
       "\n",
       "    .dataframe thead th {\n",
       "        text-align: right;\n",
       "    }\n",
       "</style>\n",
       "<table border=\"1\" class=\"dataframe\">\n",
       "  <thead>\n",
       "    <tr style=\"text-align: right;\">\n",
       "      <th></th>\n",
       "      <th>ID</th>\n",
       "      <th>true</th>\n",
       "      <th>prediction</th>\n",
       "    </tr>\n",
       "  </thead>\n",
       "  <tbody>\n",
       "    <tr>\n",
       "      <th>0</th>\n",
       "      <td>8928_160</td>\n",
       "      <td>6</td>\n",
       "      <td>6</td>\n",
       "    </tr>\n",
       "    <tr>\n",
       "      <th>1</th>\n",
       "      <td>8928_183</td>\n",
       "      <td>6</td>\n",
       "      <td>6</td>\n",
       "    </tr>\n",
       "    <tr>\n",
       "      <th>2</th>\n",
       "      <td>8928_201A</td>\n",
       "      <td>6</td>\n",
       "      <td>7</td>\n",
       "    </tr>\n",
       "    <tr>\n",
       "      <th>3</th>\n",
       "      <td>8928_204B</td>\n",
       "      <td>6</td>\n",
       "      <td>6</td>\n",
       "    </tr>\n",
       "    <tr>\n",
       "      <th>4</th>\n",
       "      <td>960_35</td>\n",
       "      <td>2</td>\n",
       "      <td>3</td>\n",
       "    </tr>\n",
       "    <tr>\n",
       "      <th>...</th>\n",
       "      <td>...</td>\n",
       "      <td>...</td>\n",
       "      <td>...</td>\n",
       "    </tr>\n",
       "    <tr>\n",
       "      <th>50407</th>\n",
       "      <td>115454_21D</td>\n",
       "      <td>9</td>\n",
       "      <td>8</td>\n",
       "    </tr>\n",
       "    <tr>\n",
       "      <th>50408</th>\n",
       "      <td>115454_34E</td>\n",
       "      <td>9</td>\n",
       "      <td>9</td>\n",
       "    </tr>\n",
       "    <tr>\n",
       "      <th>50409</th>\n",
       "      <td>115454_36B</td>\n",
       "      <td>9</td>\n",
       "      <td>9</td>\n",
       "    </tr>\n",
       "    <tr>\n",
       "      <th>50410</th>\n",
       "      <td>115454_37A</td>\n",
       "      <td>9</td>\n",
       "      <td>9</td>\n",
       "    </tr>\n",
       "    <tr>\n",
       "      <th>50411</th>\n",
       "      <td>115454_38C</td>\n",
       "      <td>9</td>\n",
       "      <td>9</td>\n",
       "    </tr>\n",
       "  </tbody>\n",
       "</table>\n",
       "<p>50412 rows × 3 columns</p>\n",
       "</div>"
      ],
      "text/plain": [
       "               ID  true  prediction\n",
       "0        8928_160     6           6\n",
       "1        8928_183     6           6\n",
       "2       8928_201A     6           7\n",
       "3       8928_204B     6           6\n",
       "4          960_35     2           3\n",
       "...           ...   ...         ...\n",
       "50407  115454_21D     9           8\n",
       "50408  115454_34E     9           9\n",
       "50409  115454_36B     9           9\n",
       "50410  115454_37A     9           9\n",
       "50411  115454_38C     9           9\n",
       "\n",
       "[50412 rows x 3 columns]"
      ]
     },
     "execution_count": 22,
     "metadata": {},
     "output_type": "execute_result"
    }
   ],
   "source": [
    "df = pd.DataFrame(\n",
    "    zip(ids, year_true, predictions), columns=[\"ID\", \"true\", \"prediction\"],\n",
    ")\n",
    "df"
   ]
  },
  {
   "cell_type": "code",
   "execution_count": 23,
   "metadata": {},
   "outputs": [],
   "source": [
    "df.to_csv(\"vgg_5y_prediction.csv\")"
   ]
  },
  {
   "cell_type": "code",
   "execution_count": 24,
   "metadata": {},
   "outputs": [
    {
     "data": {
      "text/html": [
       "<div>\n",
       "<style scoped>\n",
       "    .dataframe tbody tr th:only-of-type {\n",
       "        vertical-align: middle;\n",
       "    }\n",
       "\n",
       "    .dataframe tbody tr th {\n",
       "        vertical-align: top;\n",
       "    }\n",
       "\n",
       "    .dataframe thead th {\n",
       "        text-align: right;\n",
       "    }\n",
       "</style>\n",
       "<table border=\"1\" class=\"dataframe\">\n",
       "  <thead>\n",
       "    <tr style=\"text-align: right;\">\n",
       "      <th>prediction</th>\n",
       "      <th>0</th>\n",
       "      <th>1</th>\n",
       "      <th>2</th>\n",
       "      <th>3</th>\n",
       "      <th>4</th>\n",
       "      <th>5</th>\n",
       "      <th>6</th>\n",
       "      <th>7</th>\n",
       "      <th>8</th>\n",
       "      <th>9</th>\n",
       "    </tr>\n",
       "    <tr>\n",
       "      <th>true</th>\n",
       "      <th></th>\n",
       "      <th></th>\n",
       "      <th></th>\n",
       "      <th></th>\n",
       "      <th></th>\n",
       "      <th></th>\n",
       "      <th></th>\n",
       "      <th></th>\n",
       "      <th></th>\n",
       "      <th></th>\n",
       "    </tr>\n",
       "  </thead>\n",
       "  <tbody>\n",
       "    <tr>\n",
       "      <th>0</th>\n",
       "      <td>0</td>\n",
       "      <td>0</td>\n",
       "      <td>0</td>\n",
       "      <td>8</td>\n",
       "      <td>23</td>\n",
       "      <td>6</td>\n",
       "      <td>6</td>\n",
       "      <td>15</td>\n",
       "      <td>5</td>\n",
       "      <td>0</td>\n",
       "    </tr>\n",
       "    <tr>\n",
       "      <th>1</th>\n",
       "      <td>0</td>\n",
       "      <td>2</td>\n",
       "      <td>0</td>\n",
       "      <td>35</td>\n",
       "      <td>116</td>\n",
       "      <td>27</td>\n",
       "      <td>21</td>\n",
       "      <td>30</td>\n",
       "      <td>5</td>\n",
       "      <td>1</td>\n",
       "    </tr>\n",
       "    <tr>\n",
       "      <th>2</th>\n",
       "      <td>0</td>\n",
       "      <td>0</td>\n",
       "      <td>9</td>\n",
       "      <td>115</td>\n",
       "      <td>449</td>\n",
       "      <td>42</td>\n",
       "      <td>31</td>\n",
       "      <td>24</td>\n",
       "      <td>13</td>\n",
       "      <td>8</td>\n",
       "    </tr>\n",
       "    <tr>\n",
       "      <th>3</th>\n",
       "      <td>0</td>\n",
       "      <td>0</td>\n",
       "      <td>1</td>\n",
       "      <td>791</td>\n",
       "      <td>1081</td>\n",
       "      <td>103</td>\n",
       "      <td>90</td>\n",
       "      <td>45</td>\n",
       "      <td>45</td>\n",
       "      <td>18</td>\n",
       "    </tr>\n",
       "    <tr>\n",
       "      <th>4</th>\n",
       "      <td>0</td>\n",
       "      <td>0</td>\n",
       "      <td>1</td>\n",
       "      <td>433</td>\n",
       "      <td>3273</td>\n",
       "      <td>505</td>\n",
       "      <td>215</td>\n",
       "      <td>96</td>\n",
       "      <td>58</td>\n",
       "      <td>15</td>\n",
       "    </tr>\n",
       "    <tr>\n",
       "      <th>5</th>\n",
       "      <td>0</td>\n",
       "      <td>0</td>\n",
       "      <td>0</td>\n",
       "      <td>408</td>\n",
       "      <td>2640</td>\n",
       "      <td>2254</td>\n",
       "      <td>796</td>\n",
       "      <td>235</td>\n",
       "      <td>104</td>\n",
       "      <td>39</td>\n",
       "    </tr>\n",
       "    <tr>\n",
       "      <th>6</th>\n",
       "      <td>0</td>\n",
       "      <td>0</td>\n",
       "      <td>0</td>\n",
       "      <td>146</td>\n",
       "      <td>1343</td>\n",
       "      <td>1060</td>\n",
       "      <td>3709</td>\n",
       "      <td>1881</td>\n",
       "      <td>621</td>\n",
       "      <td>94</td>\n",
       "    </tr>\n",
       "    <tr>\n",
       "      <th>7</th>\n",
       "      <td>0</td>\n",
       "      <td>0</td>\n",
       "      <td>0</td>\n",
       "      <td>30</td>\n",
       "      <td>284</td>\n",
       "      <td>159</td>\n",
       "      <td>1434</td>\n",
       "      <td>8419</td>\n",
       "      <td>1966</td>\n",
       "      <td>99</td>\n",
       "    </tr>\n",
       "    <tr>\n",
       "      <th>8</th>\n",
       "      <td>0</td>\n",
       "      <td>0</td>\n",
       "      <td>0</td>\n",
       "      <td>8</td>\n",
       "      <td>56</td>\n",
       "      <td>7</td>\n",
       "      <td>173</td>\n",
       "      <td>1946</td>\n",
       "      <td>6824</td>\n",
       "      <td>1007</td>\n",
       "    </tr>\n",
       "    <tr>\n",
       "      <th>9</th>\n",
       "      <td>0</td>\n",
       "      <td>0</td>\n",
       "      <td>0</td>\n",
       "      <td>6</td>\n",
       "      <td>16</td>\n",
       "      <td>3</td>\n",
       "      <td>31</td>\n",
       "      <td>58</td>\n",
       "      <td>1714</td>\n",
       "      <td>3081</td>\n",
       "    </tr>\n",
       "  </tbody>\n",
       "</table>\n",
       "</div>"
      ],
      "text/plain": [
       "prediction  0  1  2    3     4     5     6     7     8     9\n",
       "true                                                        \n",
       "0           0  0  0    8    23     6     6    15     5     0\n",
       "1           0  2  0   35   116    27    21    30     5     1\n",
       "2           0  0  9  115   449    42    31    24    13     8\n",
       "3           0  0  1  791  1081   103    90    45    45    18\n",
       "4           0  0  1  433  3273   505   215    96    58    15\n",
       "5           0  0  0  408  2640  2254   796   235   104    39\n",
       "6           0  0  0  146  1343  1060  3709  1881   621    94\n",
       "7           0  0  0   30   284   159  1434  8419  1966    99\n",
       "8           0  0  0    8    56     7   173  1946  6824  1007\n",
       "9           0  0  0    6    16     3    31    58  1714  3081"
      ]
     },
     "execution_count": 24,
     "metadata": {},
     "output_type": "execute_result"
    }
   ],
   "source": [
    "crosstab = pd.crosstab(df.true, df.prediction)\n",
    "crosstab[0] = 0\n",
    "crosstab = crosstab.sort_index(0).sort_index(1)\n",
    "crosstab"
   ]
  },
  {
   "cell_type": "code",
   "execution_count": 25,
   "metadata": {},
   "outputs": [
    {
     "data": {
      "image/png": "[encoded data removed]",
      "text/plain": [
       "<Figure size 2100x1500 with 2 Axes>"
      ]
     },
     "metadata": {
      "needs_background": "light"
     },
     "output_type": "display_data"
    }
   ],
   "source": [
    "fig = plt.figure(figsize=(7, 5), dpi=300)\n",
    "ax = fig.gca()\n",
    "c = ax.pcolor(crosstab.transpose(), cmap=\"BuGn\")\n",
    "ax.set_aspect(\"equal\")\n",
    "ax.set_xlabel(\"True Completion Year\")\n",
    "ax.set_ylabel(\"Prediction\")\n",
    "\n",
    "\n",
    "def year_from_class(year_class):\n",
    "    return int(1970 + 5 * year_class)\n",
    "\n",
    "\n",
    "ax.set_xticklabels([str(year_from_class(yc)) for yc in ax.get_xticks()])\n",
    "ax.set_yticklabels([str(year_from_class(yc)) for yc in ax.get_yticks()])\n",
    "\n",
    "fig.colorbar(c, ax=ax)\n",
    "\n",
    "fig.savefig(\n",
    "    \"vgg_5y_heatmap.pdf\", bbox_inches=\"tight\", pad_inches=0,\n",
    ")\n",
    "fig.savefig(\n",
    "    \"vgg_5y_heatmap.png\", bbox_inches=\"tight\", pad_inches=0,\n",
    ")"
   ]
  },
  {
   "cell_type": "markdown",
   "metadata": {},
   "source": [
    "### 눈 먼 정확도는 딱 한 구간 틀린 게 많다는 걸 보여주지 못함..."
   ]
  },
  {
   "cell_type": "code",
   "execution_count": 26,
   "metadata": {
    "scrolled": false
   },
   "outputs": [],
   "source": [
    "# df[\"correct\"] = df.true == df.prediction\n",
    "# df_correct = df.groupby([\"true\", \"correct\"]).count()[\"ID\"].unstack(fill_value=0)\n",
    "# df_correct = df_correct.sort_index(1, ascending=False)\n",
    "# df_correct"
   ]
  },
  {
   "cell_type": "code",
   "execution_count": 27,
   "metadata": {},
   "outputs": [
    {
     "data": {
      "text/plain": [
       "(28362, 50412, '56.26%')"
      ]
     },
     "execution_count": 27,
     "metadata": {},
     "output_type": "execute_result"
    }
   ],
   "source": [
    "correct = df[df.true == df.prediction].shape[0]\n",
    "total = df.shape[0]\n",
    "correct, total, f\"{correct/total:.2%}\""
   ]
  },
  {
   "cell_type": "code",
   "execution_count": 28,
   "metadata": {},
   "outputs": [
    {
     "data": {
      "text/plain": [
       "(16579, '32.89%', '89.15%')"
      ]
     },
     "execution_count": 28,
     "metadata": {},
     "output_type": "execute_result"
    }
   ],
   "source": [
    "one_off = df[df.true -1  == df.prediction].shape[0] +df[df.true +1  == df.prediction].shape[0]\n",
    "one_off, f\"{one_off/total:.2%}\", f\"{(correct+one_off)/total:.2%}\""
   ]
  },
  {
   "cell_type": "code",
   "execution_count": null,
   "metadata": {},
   "outputs": [],
   "source": []
  }
 ],
 "metadata": {
  "kernelspec": {
   "display_name": "Python 3",
   "language": "python",
   "name": "python3"
  },
  "language_info": {
   "codemirror_mode": {
    "name": "ipython",
    "version": 3
   },
   "file_extension": ".py",
   "mimetype": "text/x-python",
   "name": "python",
   "nbconvert_exporter": "python",
   "pygments_lexer": "ipython3",
   "version": "3.6.9"
  }
 },
 "nbformat": 4,
 "nbformat_minor": 4
}
