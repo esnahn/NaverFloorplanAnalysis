{
 "cells": [
  {
   "cell_type": "markdown",
   "metadata": {},
   "source": [
    "!pip install --upgrade pip matplotlib"
   ]
  },
  {
   "cell_type": "code",
   "execution_count": 1,
   "metadata": {},
   "outputs": [],
   "source": [
    "import matplotlib.pyplot as plt\n",
    "import numpy as np\n",
    "import pandas as pd"
   ]
  },
  {
   "cell_type": "code",
   "execution_count": 2,
   "metadata": {},
   "outputs": [],
   "source": [
    "path_all_tfrecord = \"fp56.tfrecord\"\n",
    "\n",
    "# path_train_tfrecord = \"fp56_train.tfrecord\"\n",
    "# path_test_tfrecord = \"fp56_test.tfrecord\""
   ]
  },
  {
   "cell_type": "code",
   "execution_count": 3,
   "metadata": {},
   "outputs": [
    {
     "data": {
      "text/plain": [
       "'vgg_cam/model-17-1.17-53.3%.hdf5'"
      ]
     },
     "execution_count": 3,
     "metadata": {},
     "output_type": "execute_result"
    }
   ],
   "source": [
    "dir_model = \"vgg_cam/\"\n",
    "path_best = dir_model + \"model-17-1.17-53.3%.hdf5\"\n",
    "path_best"
   ]
  },
  {
   "cell_type": "code",
   "execution_count": 4,
   "metadata": {},
   "outputs": [],
   "source": [
    "from fp_tensorflow import _parse_pair_56, _parse_single_56\n",
    "from fp_tensorflow import create_pair_56_dataset, create_single_dataset\n",
    "from fp_tensorflow import VGG16_convolutions\n",
    "from fp_tensorflow import create_vgg_5y_model\n",
    "\n",
    "all_dataset = create_pair_56_dataset(path_all_tfrecord, \"floorplan\", \"year\").batch(64)\n",
    "\n",
    "model = create_vgg_5y_model()\n",
    "model.load_weights(path_best)"
   ]
  },
  {
   "cell_type": "markdown",
   "metadata": {},
   "source": [
    "# predict"
   ]
  },
  {
   "cell_type": "code",
   "execution_count": 5,
   "metadata": {
    "scrolled": false
   },
   "outputs": [
    {
     "name": "stdout",
     "output_type": "stream",
     "text": [
      "    786/Unknown - 283s 360ms/step"
     ]
    }
   ],
   "source": [
    "predictions = model.predict(all_dataset, verbose=1)"
   ]
  },
  {
   "cell_type": "code",
   "execution_count": 6,
   "metadata": {},
   "outputs": [],
   "source": [
    "predictions = np.argmax(predictions, 1)"
   ]
  },
  {
   "cell_type": "code",
   "execution_count": 7,
   "metadata": {
    "scrolled": true
   },
   "outputs": [
    {
     "data": {
      "text/plain": [
       "array([6, 6, 7, 6, 4, 4, 3, 6, 4, 3, 3, 7, 4, 4, 6, 6, 4, 4, 4, 6, 4, 4,\n",
       "       4, 6, 4, 4, 4, 3, 3, 3, 3, 4, 4, 4, 4, 4, 5, 5, 6, 5, 6, 9, 6, 4,\n",
       "       4, 4, 4, 4, 4, 4, 4, 4, 4, 4, 4, 3, 4, 4, 4, 4, 4, 4, 3, 4, 7, 7,\n",
       "       7, 4, 8, 8, 7, 7, 8, 7, 7, 7, 7, 7, 3, 3, 6, 6, 6, 7, 7, 7, 7, 7,\n",
       "       7, 7, 8, 8, 4, 5, 7, 4, 7, 7, 6, 8, 7, 7, 7, 5, 4, 4, 4, 7, 7, 7,\n",
       "       7, 7, 7, 7, 7, 7, 6, 7, 6, 7, 4, 6, 4, 8, 7, 8, 6, 8])"
      ]
     },
     "execution_count": 7,
     "metadata": {},
     "output_type": "execute_result"
    }
   ],
   "source": [
    "predictions[:128]"
   ]
  },
  {
   "cell_type": "code",
   "execution_count": 8,
   "metadata": {},
   "outputs": [
    {
     "data": {
      "text/plain": [
       "((50252,), array([6, 6, 6, 6, 2, 2, 2, 2, 2, 2]))"
      ]
     },
     "execution_count": 8,
     "metadata": {},
     "output_type": "execute_result"
    }
   ],
   "source": [
    "all_year = create_single_dataset(path_all_tfrecord, \"year\")\n",
    "year_true = np.fromiter((y.numpy() for y in all_year), int)\n",
    "year_true.shape, year_true[:10]"
   ]
  },
  {
   "cell_type": "code",
   "execution_count": 9,
   "metadata": {},
   "outputs": [
    {
     "data": {
      "text/plain": [
       "['8928_160',\n",
       " '8928_183',\n",
       " '8928_201A',\n",
       " '8928_204B',\n",
       " '960_35',\n",
       " '960_41',\n",
       " '960_45',\n",
       " '960_49F',\n",
       " '960_50S',\n",
       " '960_53']"
      ]
     },
     "execution_count": 9,
     "metadata": {},
     "output_type": "execute_result"
    }
   ],
   "source": [
    "all_id = create_single_dataset(path_all_tfrecord, \"plan_id\")\n",
    "ids = [i.numpy().decode() for i in all_id]\n",
    "ids[:10]"
   ]
  },
  {
   "cell_type": "code",
   "execution_count": 10,
   "metadata": {},
   "outputs": [
    {
     "data": {
      "text/html": [
       "<div>\n",
       "<style scoped>\n",
       "    .dataframe tbody tr th:only-of-type {\n",
       "        vertical-align: middle;\n",
       "    }\n",
       "\n",
       "    .dataframe tbody tr th {\n",
       "        vertical-align: top;\n",
       "    }\n",
       "\n",
       "    .dataframe thead th {\n",
       "        text-align: right;\n",
       "    }\n",
       "</style>\n",
       "<table border=\"1\" class=\"dataframe\">\n",
       "  <thead>\n",
       "    <tr style=\"text-align: right;\">\n",
       "      <th></th>\n",
       "      <th>ID</th>\n",
       "      <th>true</th>\n",
       "      <th>prediction</th>\n",
       "    </tr>\n",
       "  </thead>\n",
       "  <tbody>\n",
       "    <tr>\n",
       "      <th>0</th>\n",
       "      <td>8928_160</td>\n",
       "      <td>6</td>\n",
       "      <td>6</td>\n",
       "    </tr>\n",
       "    <tr>\n",
       "      <th>1</th>\n",
       "      <td>8928_183</td>\n",
       "      <td>6</td>\n",
       "      <td>6</td>\n",
       "    </tr>\n",
       "    <tr>\n",
       "      <th>2</th>\n",
       "      <td>8928_201A</td>\n",
       "      <td>6</td>\n",
       "      <td>7</td>\n",
       "    </tr>\n",
       "    <tr>\n",
       "      <th>3</th>\n",
       "      <td>8928_204B</td>\n",
       "      <td>6</td>\n",
       "      <td>6</td>\n",
       "    </tr>\n",
       "    <tr>\n",
       "      <th>4</th>\n",
       "      <td>960_35</td>\n",
       "      <td>2</td>\n",
       "      <td>4</td>\n",
       "    </tr>\n",
       "    <tr>\n",
       "      <th>...</th>\n",
       "      <td>...</td>\n",
       "      <td>...</td>\n",
       "      <td>...</td>\n",
       "    </tr>\n",
       "    <tr>\n",
       "      <th>50247</th>\n",
       "      <td>115454_21D</td>\n",
       "      <td>9</td>\n",
       "      <td>9</td>\n",
       "    </tr>\n",
       "    <tr>\n",
       "      <th>50248</th>\n",
       "      <td>115454_34E</td>\n",
       "      <td>9</td>\n",
       "      <td>9</td>\n",
       "    </tr>\n",
       "    <tr>\n",
       "      <th>50249</th>\n",
       "      <td>115454_36B</td>\n",
       "      <td>9</td>\n",
       "      <td>9</td>\n",
       "    </tr>\n",
       "    <tr>\n",
       "      <th>50250</th>\n",
       "      <td>115454_37A</td>\n",
       "      <td>9</td>\n",
       "      <td>9</td>\n",
       "    </tr>\n",
       "    <tr>\n",
       "      <th>50251</th>\n",
       "      <td>115454_38C</td>\n",
       "      <td>9</td>\n",
       "      <td>9</td>\n",
       "    </tr>\n",
       "  </tbody>\n",
       "</table>\n",
       "<p>50252 rows × 3 columns</p>\n",
       "</div>"
      ],
      "text/plain": [
       "               ID  true  prediction\n",
       "0        8928_160     6           6\n",
       "1        8928_183     6           6\n",
       "2       8928_201A     6           7\n",
       "3       8928_204B     6           6\n",
       "4          960_35     2           4\n",
       "...           ...   ...         ...\n",
       "50247  115454_21D     9           9\n",
       "50248  115454_34E     9           9\n",
       "50249  115454_36B     9           9\n",
       "50250  115454_37A     9           9\n",
       "50251  115454_38C     9           9\n",
       "\n",
       "[50252 rows x 3 columns]"
      ]
     },
     "execution_count": 10,
     "metadata": {},
     "output_type": "execute_result"
    }
   ],
   "source": [
    "df = pd.DataFrame(\n",
    "    zip(ids, year_true, predictions), columns=[\"ID\", \"true\", \"prediction\"],\n",
    ")\n",
    "df"
   ]
  },
  {
   "cell_type": "code",
   "execution_count": 11,
   "metadata": {},
   "outputs": [],
   "source": [
    "df.to_csv(\"vgg_5y_prediction.csv\")"
   ]
  },
  {
   "cell_type": "code",
   "execution_count": 12,
   "metadata": {
    "scrolled": true
   },
   "outputs": [
    {
     "data": {
      "text/html": [
       "<div>\n",
       "<style scoped>\n",
       "    .dataframe tbody tr th:only-of-type {\n",
       "        vertical-align: middle;\n",
       "    }\n",
       "\n",
       "    .dataframe tbody tr th {\n",
       "        vertical-align: top;\n",
       "    }\n",
       "\n",
       "    .dataframe thead th {\n",
       "        text-align: right;\n",
       "    }\n",
       "</style>\n",
       "<table border=\"1\" class=\"dataframe\">\n",
       "  <thead>\n",
       "    <tr style=\"text-align: right;\">\n",
       "      <th>prediction</th>\n",
       "      <th>0</th>\n",
       "      <th>1</th>\n",
       "      <th>2</th>\n",
       "      <th>3</th>\n",
       "      <th>4</th>\n",
       "      <th>5</th>\n",
       "      <th>6</th>\n",
       "      <th>7</th>\n",
       "      <th>8</th>\n",
       "      <th>9</th>\n",
       "    </tr>\n",
       "    <tr>\n",
       "      <th>true</th>\n",
       "      <th></th>\n",
       "      <th></th>\n",
       "      <th></th>\n",
       "      <th></th>\n",
       "      <th></th>\n",
       "      <th></th>\n",
       "      <th></th>\n",
       "      <th></th>\n",
       "      <th></th>\n",
       "      <th></th>\n",
       "    </tr>\n",
       "  </thead>\n",
       "  <tbody>\n",
       "    <tr>\n",
       "      <th>0</th>\n",
       "      <td>0</td>\n",
       "      <td>0</td>\n",
       "      <td>1</td>\n",
       "      <td>16</td>\n",
       "      <td>13</td>\n",
       "      <td>0</td>\n",
       "      <td>4</td>\n",
       "      <td>20</td>\n",
       "      <td>8</td>\n",
       "      <td>0</td>\n",
       "    </tr>\n",
       "    <tr>\n",
       "      <th>1</th>\n",
       "      <td>0</td>\n",
       "      <td>0</td>\n",
       "      <td>4</td>\n",
       "      <td>12</td>\n",
       "      <td>147</td>\n",
       "      <td>14</td>\n",
       "      <td>18</td>\n",
       "      <td>29</td>\n",
       "      <td>6</td>\n",
       "      <td>3</td>\n",
       "    </tr>\n",
       "    <tr>\n",
       "      <th>2</th>\n",
       "      <td>0</td>\n",
       "      <td>0</td>\n",
       "      <td>6</td>\n",
       "      <td>69</td>\n",
       "      <td>482</td>\n",
       "      <td>36</td>\n",
       "      <td>36</td>\n",
       "      <td>25</td>\n",
       "      <td>24</td>\n",
       "      <td>10</td>\n",
       "    </tr>\n",
       "    <tr>\n",
       "      <th>3</th>\n",
       "      <td>0</td>\n",
       "      <td>0</td>\n",
       "      <td>3</td>\n",
       "      <td>406</td>\n",
       "      <td>1261</td>\n",
       "      <td>168</td>\n",
       "      <td>122</td>\n",
       "      <td>55</td>\n",
       "      <td>94</td>\n",
       "      <td>60</td>\n",
       "    </tr>\n",
       "    <tr>\n",
       "      <th>4</th>\n",
       "      <td>0</td>\n",
       "      <td>0</td>\n",
       "      <td>0</td>\n",
       "      <td>97</td>\n",
       "      <td>3040</td>\n",
       "      <td>727</td>\n",
       "      <td>396</td>\n",
       "      <td>171</td>\n",
       "      <td>131</td>\n",
       "      <td>26</td>\n",
       "    </tr>\n",
       "    <tr>\n",
       "      <th>5</th>\n",
       "      <td>0</td>\n",
       "      <td>0</td>\n",
       "      <td>0</td>\n",
       "      <td>23</td>\n",
       "      <td>1989</td>\n",
       "      <td>2311</td>\n",
       "      <td>1548</td>\n",
       "      <td>373</td>\n",
       "      <td>191</td>\n",
       "      <td>25</td>\n",
       "    </tr>\n",
       "    <tr>\n",
       "      <th>6</th>\n",
       "      <td>0</td>\n",
       "      <td>0</td>\n",
       "      <td>0</td>\n",
       "      <td>9</td>\n",
       "      <td>766</td>\n",
       "      <td>863</td>\n",
       "      <td>3487</td>\n",
       "      <td>2924</td>\n",
       "      <td>668</td>\n",
       "      <td>87</td>\n",
       "    </tr>\n",
       "    <tr>\n",
       "      <th>7</th>\n",
       "      <td>0</td>\n",
       "      <td>0</td>\n",
       "      <td>0</td>\n",
       "      <td>1</td>\n",
       "      <td>155</td>\n",
       "      <td>74</td>\n",
       "      <td>940</td>\n",
       "      <td>8933</td>\n",
       "      <td>2072</td>\n",
       "      <td>151</td>\n",
       "    </tr>\n",
       "    <tr>\n",
       "      <th>8</th>\n",
       "      <td>0</td>\n",
       "      <td>0</td>\n",
       "      <td>0</td>\n",
       "      <td>1</td>\n",
       "      <td>12</td>\n",
       "      <td>3</td>\n",
       "      <td>71</td>\n",
       "      <td>1489</td>\n",
       "      <td>6819</td>\n",
       "      <td>1618</td>\n",
       "    </tr>\n",
       "    <tr>\n",
       "      <th>9</th>\n",
       "      <td>0</td>\n",
       "      <td>0</td>\n",
       "      <td>0</td>\n",
       "      <td>0</td>\n",
       "      <td>1</td>\n",
       "      <td>0</td>\n",
       "      <td>9</td>\n",
       "      <td>21</td>\n",
       "      <td>853</td>\n",
       "      <td>4025</td>\n",
       "    </tr>\n",
       "  </tbody>\n",
       "</table>\n",
       "</div>"
      ],
      "text/plain": [
       "prediction  0  1  2    3     4     5     6     7     8     9\n",
       "true                                                        \n",
       "0           0  0  1   16    13     0     4    20     8     0\n",
       "1           0  0  4   12   147    14    18    29     6     3\n",
       "2           0  0  6   69   482    36    36    25    24    10\n",
       "3           0  0  3  406  1261   168   122    55    94    60\n",
       "4           0  0  0   97  3040   727   396   171   131    26\n",
       "5           0  0  0   23  1989  2311  1548   373   191    25\n",
       "6           0  0  0    9   766   863  3487  2924   668    87\n",
       "7           0  0  0    1   155    74   940  8933  2072   151\n",
       "8           0  0  0    1    12     3    71  1489  6819  1618\n",
       "9           0  0  0    0     1     0     9    21   853  4025"
      ]
     },
     "execution_count": 12,
     "metadata": {},
     "output_type": "execute_result"
    }
   ],
   "source": [
    "crosstab = pd.crosstab(df.true, df.prediction)\n",
    "crosstab[0] = 0\n",
    "crosstab = crosstab.reindex(index=range(10), columns=range(10), fill_value=0)\n",
    "crosstab"
   ]
  },
  {
   "cell_type": "code",
   "execution_count": 13,
   "metadata": {},
   "outputs": [
    {
     "data": {
      "image/png": "[encoded data removed]",
      "text/plain": [
       "<Figure size 2100x1500 with 2 Axes>"
      ]
     },
     "metadata": {
      "needs_background": "light"
     },
     "output_type": "display_data"
    }
   ],
   "source": [
    "fig = plt.figure(figsize=(7, 5), dpi=300)\n",
    "ax = fig.gca()\n",
    "\n",
    "c = ax.pcolor(crosstab.transpose(), cmap=\"BuGn\")\n",
    "\n",
    "ax.set_aspect(\"equal\")\n",
    "ax.set_xlabel(\"True Completion Year\")\n",
    "ax.set_ylabel(\"Prediction\")\n",
    "\n",
    "ax.set_xticks(range(0, 11, 2))\n",
    "ax.set_yticks(range(0, 11, 2))\n",
    "ax.set_xticklabels(range(1970, 2021, 10))\n",
    "ax.set_yticklabels(range(1970, 2021, 10))\n",
    "\n",
    "fig.colorbar(c, ax=ax)\n",
    "\n",
    "fig.savefig(\n",
    "    \"vgg_5y_heatmap.pdf\", bbox_inches=\"tight\", pad_inches=0,\n",
    ")\n",
    "fig.savefig(\n",
    "    \"vgg_5y_heatmap.png\", bbox_inches=\"tight\", pad_inches=0,\n",
    ")"
   ]
  },
  {
   "cell_type": "markdown",
   "metadata": {},
   "source": [
    "### 눈 먼 정확도는 딱 한 구간 틀린 게 많다는 걸 보여주지 못함..."
   ]
  },
  {
   "cell_type": "code",
   "execution_count": 14,
   "metadata": {},
   "outputs": [
    {
     "data": {
      "text/plain": [
       "(29027, 50252, '57.76%')"
      ]
     },
     "execution_count": 14,
     "metadata": {},
     "output_type": "execute_result"
    }
   ],
   "source": [
    "correct = df[df.true == df.prediction].shape[0]\n",
    "total = df.shape[0]\n",
    "correct, total, f\"{correct/total:.2%}\""
   ]
  },
  {
   "cell_type": "code",
   "execution_count": 15,
   "metadata": {},
   "outputs": [
    {
     "data": {
      "text/plain": [
       "(16457, '32.75%', '90.51%')"
      ]
     },
     "execution_count": 15,
     "metadata": {},
     "output_type": "execute_result"
    }
   ],
   "source": [
    "one_off = (\n",
    "    df[df.true - 1 == df.prediction].shape[0]\n",
    "    + df[df.true + 1 == df.prediction].shape[0]\n",
    ")\n",
    "one_off, f\"{one_off/total:.2%}\", f\"{(correct+one_off)/total:.2%}\""
   ]
  },
  {
   "cell_type": "code",
   "execution_count": null,
   "metadata": {},
   "outputs": [],
   "source": []
  }
 ],
 "metadata": {
  "kernelspec": {
   "display_name": "Python 3",
   "language": "python",
   "name": "python3"
  },
  "language_info": {
   "codemirror_mode": {
    "name": "ipython",
    "version": 3
   },
   "file_extension": ".py",
   "mimetype": "text/x-python",
   "name": "python",
   "nbconvert_exporter": "python",
   "pygments_lexer": "ipython3",
   "version": "3.6.9"
  }
 },
 "nbformat": 4,
 "nbformat_minor": 4
}
