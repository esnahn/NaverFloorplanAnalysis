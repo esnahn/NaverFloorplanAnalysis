{
 "cells": [
  {
   "cell_type": "code",
   "execution_count": 1,
   "metadata": {},
   "outputs": [],
   "source": [
    "%matplotlib inline\n",
    "\n",
    "import cv2, matplotlib\n",
    "import numpy as np\n",
    "from skimage.morphology import (\n",
    "    skeletonize,\n",
    "    skeletonize_3d,\n",
    "    medial_axis,\n",
    "    thin,\n",
    "    local_minima,\n",
    "    local_maxima,\n",
    ")\n",
    "from skimage.transform import rescale, resize, downscale_local_mean\n",
    "from scipy.ndimage import distance_transform_edt\n",
    "\n",
    "from math import sqrt\n",
    "\n",
    "import matplotlib.pyplot as plt\n",
    "\n",
    "from os.path import expanduser, splitext\n",
    "from os import scandir, makedirs\n",
    "\n",
    "# import random\n",
    "\n",
    "import csv\n",
    "\n",
    "from tqdm import tnrange, tqdm_notebook\n",
    "\n",
    "from pathlib import Path\n",
    "\n",
    "debug = False  # plot every steps"
   ]
  },
  {
   "cell_type": "code",
   "execution_count": 2,
   "metadata": {},
   "outputs": [],
   "source": [
    "def read_from_csv(filepath):\n",
    "    if Path(filepath).is_file():\n",
    "\n",
    "        with open(filepath, \"r\", newline=\"\", encoding=\"utf-8-sig\") as csvfile:\n",
    "            listreader = csv.reader(csvfile)\n",
    "            columns = next(listreader)\n",
    "            readlist = list(listreader)\n",
    "\n",
    "    else:\n",
    "        columns = []\n",
    "        readlist = []\n",
    "\n",
    "    return columns, readlist\n",
    "\n",
    "\n",
    "def read_bgr_from_image_unicode(path):\n",
    "    \"\"\"workaround for non-ascii filenames\"\"\"\n",
    "\n",
    "    stream = open(path, \"rb\")\n",
    "    bytes = bytearray(stream.read())\n",
    "    numpyarray = np.asarray(bytes, dtype=np.uint8)\n",
    "    bgr = cv2.imdecode(numpyarray, cv2.IMREAD_UNCHANGED)\n",
    "\n",
    "    return bgr\n",
    "\n",
    "\n",
    "def save_bgr_to_image_unicode(bgr, path, ext_to=\".png\"):\n",
    "    \"\"\"workaround for non-ascii filenames\"\"\"\n",
    "\n",
    "    _, numpyarray = cv2.imencode(ext_to, bgr)\n",
    "    with open(path, \"wb\") as file:\n",
    "        file.write(numpyarray)"
   ]
  },
  {
   "cell_type": "code",
   "execution_count": 3,
   "metadata": {},
   "outputs": [],
   "source": [
    "def align_fp(unit_comb):\n",
    "    \"\"\"put the main side to down and entrance to left\"\"\"\n",
    "    bal_moments = cv2.moments(unit_comb[:, :, 4], True)\n",
    "    ind_moments = cv2.moments(np.bitwise_or.reduce(unit_comb, 2), True)\n",
    "\n",
    "    ### make it down\n",
    "\n",
    "    if bal_moments[\"m00\"] > 0:\n",
    "        if (\n",
    "            bal_moments[\"nu02\"] / ind_moments[\"nu02\"]\n",
    "            > bal_moments[\"nu20\"] / ind_moments[\"nu20\"]\n",
    "        ):\n",
    "            # print(\"down\")\n",
    "            pass\n",
    "        elif (\n",
    "            bal_moments[\"m10\"] / bal_moments[\"m00\"]\n",
    "            < ind_moments[\"m10\"] / ind_moments[\"m00\"]\n",
    "        ):\n",
    "            # print(\"left\")\n",
    "            unit_comb = np.rot90(unit_comb, 1)\n",
    "        else:\n",
    "            # print(\"right\")\n",
    "            unit_comb = np.rot90(unit_comb, -1)\n",
    "    else:\n",
    "        ldk_moments = cv2.moments(unit_comb[:, :, 2], True)\n",
    "        if ldk_moments[\"nu02\"] >= ldk_moments[\"nu20\"]:\n",
    "            # print(\"down\")\n",
    "            pass\n",
    "        elif (\n",
    "            ldk_moments[\"m10\"] / ldk_moments[\"m00\"]\n",
    "            < ind_moments[\"m10\"] / ind_moments[\"m00\"]\n",
    "        ):\n",
    "            # print(\"left\")\n",
    "            unit_comb = np.rot90(unit_comb, 1)\n",
    "        else:\n",
    "            # print(\"right\")\n",
    "            unit_comb = np.rot90(unit_comb, -1)\n",
    "\n",
    "    ent_moments = cv2.moments(unit_comb[:, :, 1], True)\n",
    "\n",
    "    ### put entrance to left\n",
    "    if (\n",
    "        ent_moments[\"m10\"] / ent_moments[\"m00\"]\n",
    "        > ind_moments[\"m10\"] / ind_moments[\"m00\"]\n",
    "    ):\n",
    "        # print(\"flip\")\n",
    "        unit_comb = np.flip(unit_comb, axis=1)\n",
    "\n",
    "    return unit_comb"
   ]
  },
  {
   "cell_type": "code",
   "execution_count": 4,
   "metadata": {},
   "outputs": [],
   "source": [
    "from skimage.transform import rescale\n",
    "\n",
    "\n",
    "def rescale_fp(unit_comb, area, target_ppm=5, trim=True):\n",
    "    # indoor pixels excluding balcony\n",
    "    pixels = cv2.countNonZero(np.bitwise_or.reduce(unit_comb, 2) & ~unit_comb[:, :, 4])\n",
    "    # print(area, pixels)\n",
    "\n",
    "    scale = sqrt(area * target_ppm ** 2 / pixels)\n",
    "    # print(scale)\n",
    "\n",
    "    unit_scale = rescale(unit_comb, scale, mode=\"edge\", multichannel=True)\n",
    "\n",
    "    if trim:\n",
    "        indexes = np.where(unit_scale != 0)\n",
    "        unit_scale = unit_scale[\n",
    "            min(indexes[0]) : max(indexes[0]) + 1, min(indexes[1]) : max(indexes[1]) + 1\n",
    "        ]\n",
    "\n",
    "    return (unit_scale * 255).astype(np.uint8)"
   ]
  },
  {
   "cell_type": "code",
   "execution_count": 5,
   "metadata": {},
   "outputs": [],
   "source": [
    "def mono_fp(unit_comb):\n",
    "    \"\"\"create bit mask image from \n",
    "    wall/entrance/LDK/bedroom/balcony/bathroom stacked array\"\"\"\n",
    "\n",
    "    # AREA_WALL = 64\n",
    "    # AREA_ENTRANCE = 32\n",
    "    # AREA_LDK = 16\n",
    "    # AREA_BEDROOM = 8\n",
    "    # AREA_BALCONY = 4\n",
    "    # AREA_BATHROOM = 2\n",
    "\n",
    "    mask_bits = np.array([64, 32, 16, 8, 4, 2], dtype=np.uint8)\n",
    "\n",
    "    # binary cut value\n",
    "    cut = 0.01 * np.ones(6)\n",
    "    for i in range(6):\n",
    "        if cv2.countNonZero(unit_comb[:, :, i]):\n",
    "            cut[i] = np.average(unit_comb[:, :, i][np.nonzero(unit_comb[:, :, i] > 0)])\n",
    "\n",
    "    mono = ((unit_comb > cut) * 255).astype(np.uint8) & mask_bits\n",
    "    mono = np.bitwise_or.reduce(mono, 2)\n",
    "    return mono"
   ]
  },
  {
   "cell_type": "code",
   "execution_count": 6,
   "metadata": {},
   "outputs": [],
   "source": [
    "def fp_from_mono(mono):\n",
    "    \"\"\"create bit mask image from \n",
    "    wall/entrance/LDK/bedroom/balcony/bathroom stacked array\"\"\"\n",
    "\n",
    "    # AREA_WALL = 64\n",
    "    # AREA_ENTRANCE = 32\n",
    "    # AREA_LDK = 16\n",
    "    # AREA_BEDROOM = 8\n",
    "    # AREA_BALCONY = 4\n",
    "    # AREA_BATHROOM = 2\n",
    "\n",
    "    mask_bits = np.array([64, 32, 16, 8, 4, 2], dtype=np.uint8)\n",
    "    mask = np.broadcast_to(mask_bits, (*mono.shape[:2], 6))\n",
    "    \n",
    "    unit_comb = (((np.expand_dims(mono,2) & mask) > 0)*255).astype(np.uint8)\n",
    "    \n",
    "    return unit_comb"
   ]
  },
  {
   "cell_type": "markdown",
   "metadata": {},
   "source": [
    "# process files"
   ]
  },
  {
   "cell_type": "code",
   "execution_count": 7,
   "metadata": {},
   "outputs": [],
   "source": [
    "def read_bgr_from_image_unicode(path):\n",
    "    \"\"\"workaround for non-ascii filenames\"\"\"\n",
    "\n",
    "    stream = open(path, \"rb\")\n",
    "    bytes = bytearray(stream.read())\n",
    "    numpyarray = np.asarray(bytes, dtype=np.uint8)\n",
    "    bgr = cv2.imdecode(numpyarray, cv2.IMREAD_UNCHANGED)\n",
    "\n",
    "    return bgr\n",
    "\n",
    "\n",
    "def read_from_csv(filepath):\n",
    "    if Path(filepath).is_file():\n",
    "\n",
    "        with open(filepath, \"r\", newline=\"\", encoding=\"utf-8-sig\") as csvfile:\n",
    "            listreader = csv.reader(csvfile)\n",
    "            columns = next(listreader)\n",
    "            readlist = list(listreader)\n",
    "\n",
    "    else:\n",
    "        columns = []\n",
    "        readlist = []\n",
    "\n",
    "    return columns, readlist"
   ]
  },
  {
   "cell_type": "code",
   "execution_count": 8,
   "metadata": {},
   "outputs": [],
   "source": [
    "def read_mono_from_image_unicode(path):\n",
    "    \"\"\"workaround for non-ascii filenames\"\"\"\n",
    "\n",
    "    stream = open(path, \"rb\")\n",
    "    bytes = bytearray(stream.read())\n",
    "    numpyarray = np.asarray(bytes, dtype=np.uint8)\n",
    "    mono = cv2.imdecode(numpyarray, cv2.IMREAD_UNCHANGED)\n",
    "\n",
    "    return mono\n",
    "\n",
    "\n",
    "def save_mono_to_image_unicode(mono, path, ext_to=\".png\"):\n",
    "    \"\"\"workaround for non-ascii filenames\"\"\"\n",
    "\n",
    "    _, numpyarray = cv2.imencode(ext_to, mono)\n",
    "    with open(path, \"wb\") as file:\n",
    "        file.write(numpyarray)"
   ]
  },
  {
   "cell_type": "code",
   "execution_count": 9,
   "metadata": {},
   "outputs": [],
   "source": [
    "def process_floorplan_mono(\n",
    "    path_from, area, filename_to, dir_to=\"/data/fp_img_processed/\", ext_to=\".png\"\n",
    "):\n",
    "    try:\n",
    "        bgr = read_bgr_from_image_unicode(path_from)\n",
    "        unit_comb = get_unit_mask(bgr)\n",
    "        unit_comb = rescale_fp(unit_comb, area)\n",
    "        unit_comb = align_fp(unit_comb)\n",
    "\n",
    "        mono = mono_fp(unit_comb)\n",
    "        save_mono_to_image_unicode(mono, dir_to + filename_to + ext_to, ext_to)\n",
    "    except:\n",
    "        pass"
   ]
  },
  {
   "cell_type": "code",
   "execution_count": 10,
   "metadata": {},
   "outputs": [],
   "source": [
    "def pad_fp(fp, width=112, height=112):\n",
    "    \"\"\"place the fp at the bottom center of padded image.\"\"\"\n",
    "    h, w = np.subtract(fp.shape[:2], (height, width))\n",
    "    if h > 0:\n",
    "        fp = fp[h : h + height, :, :]\n",
    "    if w > 0:\n",
    "        fp = fp[:, w // 2 : w // 2 + width, :]\n",
    "\n",
    "    h, w = np.subtract((height, width), fp.shape[:2])\n",
    "    fp = np.pad(fp, ((max(h, 0), 0), (max(w // 2, 0), max(w - w // 2, 0)), (0, 0)))\n",
    "    return fp"
   ]
  },
  {
   "cell_type": "code",
   "execution_count": 18,
   "metadata": {},
   "outputs": [],
   "source": [
    "mono = read_mono_from_image_unicode('/data/fp_img_processed/10001_57B.png')"
   ]
  },
  {
   "cell_type": "code",
   "execution_count": 12,
   "metadata": {},
   "outputs": [],
   "source": [
    "fp = fp_from_mono(mono)"
   ]
  },
  {
   "cell_type": "code",
   "execution_count": 13,
   "metadata": {},
   "outputs": [],
   "source": [
    "fp = pad_fp(fp)"
   ]
  },
  {
   "cell_type": "code",
   "execution_count": 14,
   "metadata": {},
   "outputs": [
    {
     "data": {
      "text/plain": [
       "<matplotlib.image.AxesImage at 0x7fa0d66e45c0>"
      ]
     },
     "execution_count": 14,
     "metadata": {},
     "output_type": "execute_result"
    },
    {
     "data": {
      "image/png": "[encoded data removed]",
      "text/plain": [
       "<Figure size 432x288 with 1 Axes>"
      ]
     },
     "metadata": {
      "needs_background": "light"
     },
     "output_type": "display_data"
    }
   ],
   "source": [
    "plt.imshow(fp[..., [0, 2, 5]])"
   ]
  },
  {
   "cell_type": "code",
   "execution_count": 17,
   "metadata": {},
   "outputs": [
    {
     "data": {
      "text/plain": [
       "array([255, 255, 255,   0,   0, 255], dtype=uint8)"
      ]
     },
     "execution_count": 17,
     "metadata": {},
     "output_type": "execute_result"
    }
   ],
   "source": [
    "np.amax(fp, (0,1))"
   ]
  },
  {
   "cell_type": "code",
   "execution_count": 16,
   "metadata": {},
   "outputs": [
    {
     "data": {
      "text/plain": [
       "0"
      ]
     },
     "execution_count": 16,
     "metadata": {},
     "output_type": "execute_result"
    }
   ],
   "source": [
    "np.amin(fp)"
   ]
  },
  {
   "cell_type": "code",
   "execution_count": null,
   "metadata": {},
   "outputs": [],
   "source": []
  }
 ],
 "metadata": {
  "kernelspec": {
   "display_name": "Python 3",
   "language": "python",
   "name": "python3"
  },
  "language_info": {
   "codemirror_mode": {
    "name": "ipython",
    "version": 3
   },
   "file_extension": ".py",
   "mimetype": "text/x-python",
   "name": "python",
   "nbconvert_exporter": "python",
   "pygments_lexer": "ipython3",
   "version": "3.6.9"
  }
 },
 "nbformat": 4,
 "nbformat_minor": 2
}
